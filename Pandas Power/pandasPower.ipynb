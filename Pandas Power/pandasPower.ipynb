{
  "nbformat": 4,
  "nbformat_minor": 0,
  "metadata": {
    "colab": {
      "name": "pandasPower.ipynb",
      "provenance": [],
      "collapsed_sections": []
    },
    "kernelspec": {
      "name": "python3",
      "display_name": "Python 3"
    }
  },
  "cells": [
    {
      "cell_type": "markdown",
      "metadata": {
        "id": "3C37LWIp4ohj",
        "colab_type": "text"
      },
      "source": [
        "# Pandas"
      ]
    },
    {
      "cell_type": "code",
      "metadata": {
        "id": "AE47MebVnH-Z",
        "colab_type": "code",
        "colab": {}
      },
      "source": [
        "#importing libraries\n",
        "import pandas as pd\n",
        "import numpy as np"
      ],
      "execution_count": 0,
      "outputs": []
    },
    {
      "cell_type": "markdown",
      "metadata": {
        "id": "qGfhoGAqnJ1l",
        "colab_type": "text"
      },
      "source": [
        " **Pandas Have two data structures**\n",
        "\n",
        "---\n",
        "\n",
        "\n",
        " \n",
        "\n",
        "1.   Series\n",
        "2.   Dataframes"
      ]
    },
    {
      "cell_type": "code",
      "metadata": {
        "id": "wV-SsZXz0aCB",
        "colab_type": "code",
        "colab": {}
      },
      "source": [
        "l =[1,2,3,4,'a']\n",
        "l"
      ],
      "execution_count": 0,
      "outputs": []
    },
    {
      "cell_type": "code",
      "metadata": {
        "id": "beJvFz3o0jZk",
        "colab_type": "code",
        "colab": {}
      },
      "source": [
        "l[0]"
      ],
      "execution_count": 0,
      "outputs": []
    },
    {
      "cell_type": "code",
      "metadata": {
        "id": "49Oxy1cp0qtc",
        "colab_type": "code",
        "colab": {}
      },
      "source": [
        "l[4]"
      ],
      "execution_count": 0,
      "outputs": []
    },
    {
      "cell_type": "markdown",
      "metadata": {
        "id": "QPc7wWOHoK2t",
        "colab_type": "text"
      },
      "source": [
        "**Basic operations on pandas dataframes (CRUD) :**\n",
        "\n",
        "*   Create\n",
        "*   Read\n",
        "*   Update\n",
        "*   Delete\n",
        "\n"
      ]
    },
    {
      "cell_type": "code",
      "metadata": {
        "id": "-tJYMzvE0p7D",
        "colab_type": "code",
        "colab": {}
      },
      "source": [
        ""
      ],
      "execution_count": 0,
      "outputs": []
    },
    {
      "cell_type": "markdown",
      "metadata": {
        "id": "4mxAwZedkvpC",
        "colab_type": "text"
      },
      "source": [
        "# Pandas Series"
      ]
    },
    {
      "cell_type": "markdown",
      "metadata": {
        "id": "SxViBEjAmXBL",
        "colab_type": "text"
      },
      "source": [
        "# Create"
      ]
    },
    {
      "cell_type": "code",
      "metadata": {
        "id": "QzOWHshIoAMT",
        "colab_type": "code",
        "colab": {}
      },
      "source": [
        "#Direct\n",
        "s1 = pd.Series([10,20,30,40])\n",
        "s1"
      ],
      "execution_count": 0,
      "outputs": []
    },
    {
      "cell_type": "code",
      "metadata": {
        "id": "LlOd0sP6oyL7",
        "colab_type": "code",
        "colab": {}
      },
      "source": [
        "#using numpy array\n",
        "data = np.array(['a','b','c','d','e','f'])\n",
        "s2 = pd.Series(data)\n",
        "s2"
      ],
      "execution_count": 0,
      "outputs": []
    },
    {
      "cell_type": "code",
      "metadata": {
        "id": "-kuifNL9lf9x",
        "colab_type": "code",
        "colab": {}
      },
      "source": [
        "#using dictionary\n",
        "data = {'a' : 0., 'b' : 1., 'c' : 2.}\n",
        "s3 = pd.Series(data)\n",
        "s3"
      ],
      "execution_count": 0,
      "outputs": []
    },
    {
      "cell_type": "code",
      "metadata": {
        "id": "4L0ZTTkflLGb",
        "colab_type": "code",
        "colab": {}
      },
      "source": [
        "#series indexing\n",
        "data = np.array(['a','b','c','d','e','f'])\n",
        "s4 = pd.Series(data,index=[1000,1001,1002,1003,1004,1005])\n",
        "s4"
      ],
      "execution_count": 0,
      "outputs": []
    },
    {
      "cell_type": "code",
      "metadata": {
        "id": "RU8_pmjmmHi4",
        "colab_type": "code",
        "colab": {}
      },
      "source": [
        "#creating series using scalar value\n",
        "s5 = pd.Series(7)\n",
        "s5"
      ],
      "execution_count": 0,
      "outputs": []
    },
    {
      "cell_type": "code",
      "metadata": {
        "id": "6EmLfvfimP4Z",
        "colab_type": "code",
        "colab": {}
      },
      "source": [
        "#scalar index\n",
        "s6 = pd.Series(7, index=[0, 1, 2, 3])\n",
        "s6"
      ],
      "execution_count": 0,
      "outputs": []
    },
    {
      "cell_type": "markdown",
      "metadata": {
        "id": "s_LBR7Q9mgmX",
        "colab_type": "text"
      },
      "source": [
        "# Read update and Delete"
      ]
    },
    {
      "cell_type": "code",
      "metadata": {
        "id": "LfCE6S_1mpzN",
        "colab_type": "code",
        "colab": {}
      },
      "source": [
        "#Read by index\n",
        "s2[1]"
      ],
      "execution_count": 0,
      "outputs": []
    },
    {
      "cell_type": "code",
      "metadata": {
        "id": "HLW2lCCGm4_J",
        "colab_type": "code",
        "colab": {}
      },
      "source": [
        "#Read using from:until technique\n",
        "s2[2:4]"
      ],
      "execution_count": 0,
      "outputs": []
    },
    {
      "cell_type": "code",
      "metadata": {
        "id": "1tCabeAVnGH_",
        "colab_type": "code",
        "colab": {}
      },
      "source": [
        "#Reading Last two elements\n",
        "s2[-2:]"
      ],
      "execution_count": 0,
      "outputs": []
    },
    {
      "cell_type": "code",
      "metadata": {
        "id": "rEfZ_ArJnb63",
        "colab_type": "code",
        "colab": {}
      },
      "source": [
        "#Reading specific indexes\n",
        "s2[[0,1,4]]"
      ],
      "execution_count": 0,
      "outputs": []
    },
    {
      "cell_type": "code",
      "metadata": {
        "id": "EDZF11RsnVSu",
        "colab_type": "code",
        "colab": {}
      },
      "source": [
        "#update the series\n",
        "s = pd.Series([10,20,30,40])\n",
        "s"
      ],
      "execution_count": 0,
      "outputs": []
    },
    {
      "cell_type": "code",
      "metadata": {
        "id": "0qbEH3qAn-pl",
        "colab_type": "code",
        "colab": {}
      },
      "source": [
        "s[2] = 5\n",
        "s"
      ],
      "execution_count": 0,
      "outputs": []
    },
    {
      "cell_type": "code",
      "metadata": {
        "id": "S9Rm9aQ7n-d8",
        "colab_type": "code",
        "colab": {}
      },
      "source": [
        "s[2] = 'L'\n",
        "s"
      ],
      "execution_count": 0,
      "outputs": []
    },
    {
      "cell_type": "code",
      "metadata": {
        "id": "4P7bwINa8CX_",
        "colab_type": "code",
        "colab": {}
      },
      "source": [
        "#Assign vs Copy\n",
        "sa = s\n",
        "sa"
      ],
      "execution_count": 0,
      "outputs": []
    },
    {
      "cell_type": "code",
      "metadata": {
        "id": "OT0EY6Rs8Ca8",
        "colab_type": "code",
        "colab": {}
      },
      "source": [
        "sc = s.copy()\n",
        "sc"
      ],
      "execution_count": 0,
      "outputs": []
    },
    {
      "cell_type": "code",
      "metadata": {
        "id": "1zb8zrka8Cd-",
        "colab_type": "code",
        "colab": {}
      },
      "source": [
        "sc[1] = 420"
      ],
      "execution_count": 0,
      "outputs": []
    },
    {
      "cell_type": "code",
      "metadata": {
        "id": "IJJCV1Ju8cCQ",
        "colab_type": "code",
        "colab": {}
      },
      "source": [
        "sc"
      ],
      "execution_count": 0,
      "outputs": []
    },
    {
      "cell_type": "code",
      "metadata": {
        "id": "zagmo_fP8cF8",
        "colab_type": "code",
        "colab": {}
      },
      "source": [
        "s"
      ],
      "execution_count": 0,
      "outputs": []
    },
    {
      "cell_type": "code",
      "metadata": {
        "id": "ZN3PwTFV8cO0",
        "colab_type": "code",
        "colab": {}
      },
      "source": [
        "sa"
      ],
      "execution_count": 0,
      "outputs": []
    },
    {
      "cell_type": "code",
      "metadata": {
        "id": "ZiFUQKMm8iUC",
        "colab_type": "code",
        "colab": {}
      },
      "source": [
        "sa[1]=999"
      ],
      "execution_count": 0,
      "outputs": []
    },
    {
      "cell_type": "code",
      "metadata": {
        "id": "lrPrIH_b8iW3",
        "colab_type": "code",
        "colab": {}
      },
      "source": [
        "sa"
      ],
      "execution_count": 0,
      "outputs": []
    },
    {
      "cell_type": "code",
      "metadata": {
        "id": "awt7g75N8m-8",
        "colab_type": "code",
        "colab": {}
      },
      "source": [
        "s"
      ],
      "execution_count": 0,
      "outputs": []
    },
    {
      "cell_type": "code",
      "metadata": {
        "id": "9x1xgZ8V8nBl",
        "colab_type": "code",
        "colab": {}
      },
      "source": [
        "sc"
      ],
      "execution_count": 0,
      "outputs": []
    },
    {
      "cell_type": "code",
      "metadata": {
        "id": "jNJAut_18nHu",
        "colab_type": "code",
        "colab": {}
      },
      "source": [
        "s[0] = 786"
      ],
      "execution_count": 0,
      "outputs": []
    },
    {
      "cell_type": "code",
      "metadata": {
        "id": "qf8Lu7FQ8vnw",
        "colab_type": "code",
        "colab": {}
      },
      "source": [
        "s"
      ],
      "execution_count": 0,
      "outputs": []
    },
    {
      "cell_type": "code",
      "metadata": {
        "id": "DFep_uYD9wNv",
        "colab_type": "code",
        "colab": {}
      },
      "source": [
        "sa"
      ],
      "execution_count": 0,
      "outputs": []
    },
    {
      "cell_type": "code",
      "metadata": {
        "id": "CStHjigI8vzU",
        "colab_type": "code",
        "colab": {}
      },
      "source": [
        "sc"
      ],
      "execution_count": 0,
      "outputs": []
    },
    {
      "cell_type": "code",
      "metadata": {
        "id": "mMcaRpgs-TIN",
        "colab_type": "code",
        "colab": {}
      },
      "source": [
        "#Delete an element\n",
        "s = pd.Series([10,20,30,40])\n",
        "s"
      ],
      "execution_count": 0,
      "outputs": []
    },
    {
      "cell_type": "code",
      "metadata": {
        "id": "ap6przN3odeN",
        "colab_type": "code",
        "colab": {}
      },
      "source": [
        "s.drop(labels=[2])"
      ],
      "execution_count": 0,
      "outputs": []
    },
    {
      "cell_type": "code",
      "metadata": {
        "id": "uRG9sIS_qt48",
        "colab_type": "code",
        "colab": {}
      },
      "source": [
        "s"
      ],
      "execution_count": 0,
      "outputs": []
    },
    {
      "cell_type": "code",
      "metadata": {
        "id": "Krhxj0KnpB0V",
        "colab_type": "code",
        "colab": {}
      },
      "source": [
        "s=s.drop(labels=[2])"
      ],
      "execution_count": 0,
      "outputs": []
    },
    {
      "cell_type": "code",
      "metadata": {
        "id": "KRbFcXY4pMX9",
        "colab_type": "code",
        "colab": {}
      },
      "source": [
        "s"
      ],
      "execution_count": 0,
      "outputs": []
    },
    {
      "cell_type": "code",
      "metadata": {
        "id": "XXdcAGtPpMbq",
        "colab_type": "code",
        "colab": {}
      },
      "source": [
        "#Multiple deletion\n",
        "s = pd.Series([10,20,30,40])\n",
        "s"
      ],
      "execution_count": 0,
      "outputs": []
    },
    {
      "cell_type": "code",
      "metadata": {
        "id": "5doz5fv0qdMp",
        "colab_type": "code",
        "colab": {}
      },
      "source": [
        "s=s.drop(labels=[1,3])"
      ],
      "execution_count": 0,
      "outputs": []
    },
    {
      "cell_type": "code",
      "metadata": {
        "id": "1K7wqLox6wAh",
        "colab_type": "code",
        "colab": {}
      },
      "source": [
        "s"
      ],
      "execution_count": 0,
      "outputs": []
    },
    {
      "cell_type": "code",
      "metadata": {
        "id": "6WPfnrkmqY7I",
        "colab_type": "code",
        "outputId": "2f683dbe-7ca9-4803-db16-ad54daf95d38",
        "colab": {
          "base_uri": "https://localhost:8080/",
          "height": 151
        }
      },
      "source": [
        "#Conditional deletion\n",
        "import pandas as pd\n",
        "s = pd.Series([10,20,30,40.10,77,10,65])\n",
        "s"
      ],
      "execution_count": 0,
      "outputs": [
        {
          "output_type": "execute_result",
          "data": {
            "text/plain": [
              "0    10.0\n",
              "1    20.0\n",
              "2    30.0\n",
              "3    40.1\n",
              "4    77.0\n",
              "5    10.0\n",
              "6    65.0\n",
              "dtype: float64"
            ]
          },
          "metadata": {
            "tags": []
          },
          "execution_count": 2
        }
      ]
    },
    {
      "cell_type": "code",
      "metadata": {
        "id": "X4mUMGc7pj3c",
        "colab_type": "code",
        "colab": {}
      },
      "source": [
        "s = s[s!=10]"
      ],
      "execution_count": 0,
      "outputs": []
    },
    {
      "cell_type": "code",
      "metadata": {
        "id": "MoEQm0-oqXfk",
        "colab_type": "code",
        "outputId": "cc8a98ef-6828-4701-881a-8b98fa62a8b9",
        "colab": {
          "base_uri": "https://localhost:8080/",
          "height": 118
        }
      },
      "source": [
        "s"
      ],
      "execution_count": 0,
      "outputs": [
        {
          "output_type": "execute_result",
          "data": {
            "text/plain": [
              "1    20.0\n",
              "2    30.0\n",
              "3    40.1\n",
              "4    77.0\n",
              "6    65.0\n",
              "dtype: float64"
            ]
          },
          "metadata": {
            "tags": []
          },
          "execution_count": 4
        }
      ]
    },
    {
      "cell_type": "code",
      "metadata": {
        "id": "1XD0XOkvqBnk",
        "colab_type": "code",
        "colab": {}
      },
      "source": [
        "s[5] = 67"
      ],
      "execution_count": 0,
      "outputs": []
    },
    {
      "cell_type": "code",
      "metadata": {
        "id": "s8iZnroBv-rO",
        "colab_type": "code",
        "colab": {}
      },
      "source": [
        ""
      ],
      "execution_count": 0,
      "outputs": []
    },
    {
      "cell_type": "code",
      "metadata": {
        "id": "RbiXR2FZqBxu",
        "colab_type": "code",
        "colab": {}
      },
      "source": [
        "s"
      ],
      "execution_count": 0,
      "outputs": []
    },
    {
      "cell_type": "code",
      "metadata": {
        "id": "AJhufcLIBfby",
        "colab_type": "code",
        "colab": {}
      },
      "source": [
        "#sort the index\n",
        "s.sort_index()"
      ],
      "execution_count": 0,
      "outputs": []
    },
    {
      "cell_type": "code",
      "metadata": {
        "id": "H02w3BeHDZ4c",
        "colab_type": "code",
        "colab": {}
      },
      "source": [
        "#index is not numerical\n",
        "s = pd.Series(data = [1,2,3], index = ['A', 'B', 'C'])"
      ],
      "execution_count": 0,
      "outputs": []
    },
    {
      "cell_type": "code",
      "metadata": {
        "id": "AzlWtHvrDZ8S",
        "colab_type": "code",
        "colab": {}
      },
      "source": [
        "s"
      ],
      "execution_count": 0,
      "outputs": []
    },
    {
      "cell_type": "code",
      "metadata": {
        "id": "BUECCOP-DZ_E",
        "colab_type": "code",
        "colab": {}
      },
      "source": [
        "s = s.reindex(index = ['B','A','C'])\n",
        "s"
      ],
      "execution_count": 0,
      "outputs": []
    },
    {
      "cell_type": "markdown",
      "metadata": {
        "id": "y5mzPobDC26Z",
        "colab_type": "text"
      },
      "source": [
        "# Pandas Dataframe"
      ]
    },
    {
      "cell_type": "markdown",
      "metadata": {
        "id": "u4ZN2vd6o1Gy",
        "colab_type": "text"
      },
      "source": [
        "# Create\n",
        "\n",
        "1.   Series\n",
        "2.   List\n",
        "3.   Dictionary\n",
        "\n"
      ]
    },
    {
      "cell_type": "code",
      "metadata": {
        "id": "MGr8jII-zToK",
        "colab_type": "code",
        "colab": {}
      },
      "source": [
        "#Using list\n",
        "s1 = [1,2,3,4]\n",
        "s2 = [10, 20, 30, 40, 50]\n"
      ],
      "execution_count": 0,
      "outputs": []
    },
    {
      "cell_type": "code",
      "metadata": {
        "id": "4uD81uL_P7nL",
        "colab_type": "code",
        "colab": {}
      },
      "source": [
        "s1"
      ],
      "execution_count": 0,
      "outputs": []
    },
    {
      "cell_type": "code",
      "metadata": {
        "id": "RHtc_kfgP7wx",
        "colab_type": "code",
        "colab": {}
      },
      "source": [
        "s2"
      ],
      "execution_count": 0,
      "outputs": []
    },
    {
      "cell_type": "code",
      "metadata": {
        "id": "Hws35nggP5ok",
        "colab_type": "code",
        "colab": {}
      },
      "source": [
        "df = pd.DataFrame([s1,s2])\n",
        "df"
      ],
      "execution_count": 0,
      "outputs": []
    },
    {
      "cell_type": "code",
      "metadata": {
        "id": "N5uFXDe7zTq5",
        "colab_type": "code",
        "colab": {}
      },
      "source": [
        "df = pd.DataFrame([s1,s2], index = [67,86], columns = ['a', 'b', 'c', 'd', 'e'])\n",
        "df"
      ],
      "execution_count": 0,
      "outputs": []
    },
    {
      "cell_type": "code",
      "metadata": {
        "id": "TLb6-AVCzTt9",
        "colab_type": "code",
        "colab": {}
      },
      "source": [
        "#Using series\n",
        "s1 = pd.Series([1,2,3,4])\n",
        "s2 = pd.Series([10, 20, 30, 40, 50])\n",
        "df = pd.DataFrame([s1,s2])\n",
        "df"
      ],
      "execution_count": 0,
      "outputs": []
    },
    {
      "cell_type": "code",
      "metadata": {
        "id": "3tZreB9DzT0K",
        "colab_type": "code",
        "colab": {}
      },
      "source": [
        "#using dictionary\n",
        "d = {'PName':['Kohli','Smith', 'Kane', 'Root'], 'Avg': [59.7, 65.2, 55.9, 52.7]}\n",
        "df = pd.DataFrame(d)\n",
        "df"
      ],
      "execution_count": 0,
      "outputs": []
    },
    {
      "cell_type": "code",
      "metadata": {
        "id": "ytwTbaGgTHJF",
        "colab_type": "code",
        "colab": {}
      },
      "source": [
        "df = pd.DataFrame(d,  index = [67,86,74,90], columns = ['PName'])\n",
        "df"
      ],
      "execution_count": 0,
      "outputs": []
    },
    {
      "cell_type": "code",
      "metadata": {
        "id": "L7b98FlxzTw_",
        "colab_type": "code",
        "colab": {}
      },
      "source": [
        "#usin Multiple dictionaries\n",
        "d1 = {'PName':'Kohli', 'Avg': 59.7}\n",
        "d2 = {'PName':'Smith', 'Avg': 65.2, 'Country': 'Aus'}\n",
        "df = pd.DataFrame([d1,d2])\n",
        "df"
      ],
      "execution_count": 0,
      "outputs": []
    },
    {
      "cell_type": "code",
      "metadata": {
        "id": "J_WUQzdIRC27",
        "colab_type": "code",
        "colab": {}
      },
      "source": [
        "#read CSV\n",
        "#Google colab file upload\n",
        "from google.colab import files "
      ],
      "execution_count": 0,
      "outputs": []
    },
    {
      "cell_type": "code",
      "metadata": {
        "id": "z6nzWhZ0gFsm",
        "colab_type": "code",
        "colab": {}
      },
      "source": [
        "uploaded = files.upload()"
      ],
      "execution_count": 0,
      "outputs": []
    },
    {
      "cell_type": "code",
      "metadata": {
        "id": "OUjrLB8FTIHy",
        "colab_type": "code",
        "colab": {}
      },
      "source": [
        "df = pd.read_csv(\"http://www.sharecsv.com/s/400dea72da1bbc46402527fa88a76635/PlayerStats.csv\")\n",
        "df"
      ],
      "execution_count": 0,
      "outputs": []
    },
    {
      "cell_type": "markdown",
      "metadata": {
        "id": "1Wy6IiFSPj-H",
        "colab_type": "text"
      },
      "source": [
        "# Read and Update"
      ]
    },
    {
      "cell_type": "code",
      "metadata": {
        "id": "pYDrV3snjvjC",
        "colab_type": "code",
        "outputId": "aa0d719a-b67d-4147-e993-45f9cfa54b67",
        "colab": {
          "base_uri": "https://localhost:8080/",
          "height": 166
        }
      },
      "source": [
        "#Create dataframe\n",
        "d = {'PName':['Kohli','Smith', 'Kane', 'Root'], 'Avg': [59.7, 65.2, 55.9, 52.7],\n",
        "     'country' : ['Ind', 'Aus', 'Nz', 'Eng'], \n",
        "     'StrikeRate' : [92.7, 87.5, 91.1, 90.3] }\n",
        "df = pd.DataFrame(d)\n",
        "df"
      ],
      "execution_count": 0,
      "outputs": [
        {
          "output_type": "execute_result",
          "data": {
            "text/html": [
              "<div>\n",
              "<style scoped>\n",
              "    .dataframe tbody tr th:only-of-type {\n",
              "        vertical-align: middle;\n",
              "    }\n",
              "\n",
              "    .dataframe tbody tr th {\n",
              "        vertical-align: top;\n",
              "    }\n",
              "\n",
              "    .dataframe thead th {\n",
              "        text-align: right;\n",
              "    }\n",
              "</style>\n",
              "<table border=\"1\" class=\"dataframe\">\n",
              "  <thead>\n",
              "    <tr style=\"text-align: right;\">\n",
              "      <th></th>\n",
              "      <th>PName</th>\n",
              "      <th>Avg</th>\n",
              "      <th>country</th>\n",
              "      <th>StrikeRate</th>\n",
              "    </tr>\n",
              "  </thead>\n",
              "  <tbody>\n",
              "    <tr>\n",
              "      <th>0</th>\n",
              "      <td>Kohli</td>\n",
              "      <td>59.7</td>\n",
              "      <td>Ind</td>\n",
              "      <td>92.7</td>\n",
              "    </tr>\n",
              "    <tr>\n",
              "      <th>1</th>\n",
              "      <td>Smith</td>\n",
              "      <td>65.2</td>\n",
              "      <td>Aus</td>\n",
              "      <td>87.5</td>\n",
              "    </tr>\n",
              "    <tr>\n",
              "      <th>2</th>\n",
              "      <td>Kane</td>\n",
              "      <td>55.9</td>\n",
              "      <td>Nz</td>\n",
              "      <td>91.1</td>\n",
              "    </tr>\n",
              "    <tr>\n",
              "      <th>3</th>\n",
              "      <td>Root</td>\n",
              "      <td>52.7</td>\n",
              "      <td>Eng</td>\n",
              "      <td>90.3</td>\n",
              "    </tr>\n",
              "  </tbody>\n",
              "</table>\n",
              "</div>"
            ],
            "text/plain": [
              "   PName   Avg country  StrikeRate\n",
              "0  Kohli  59.7     Ind        92.7\n",
              "1  Smith  65.2     Aus        87.5\n",
              "2   Kane  55.9      Nz        91.1\n",
              "3   Root  52.7     Eng        90.3"
            ]
          },
          "metadata": {
            "tags": []
          },
          "execution_count": 5
        }
      ]
    },
    {
      "cell_type": "markdown",
      "metadata": {
        "id": "n8YE8b4YCP_w",
        "colab_type": "text"
      },
      "source": [
        "Slicing dataframe using iloc, loc and expr"
      ]
    },
    {
      "cell_type": "code",
      "metadata": {
        "id": "UhfM19jQjw3s",
        "colab_type": "code",
        "outputId": "d89579f2-184d-4ab6-c41c-5a31491db208",
        "colab": {
          "base_uri": "https://localhost:8080/",
          "height": 690
        }
      },
      "source": [
        "#using iloc\n",
        "df[1]"
      ],
      "execution_count": 0,
      "outputs": [
        {
          "output_type": "error",
          "ename": "KeyError",
          "evalue": "ignored",
          "traceback": [
            "\u001b[0;31m---------------------------------------------------------------------------\u001b[0m",
            "\u001b[0;31mKeyError\u001b[0m                                  Traceback (most recent call last)",
            "\u001b[0;32m/usr/local/lib/python3.6/dist-packages/pandas/core/indexes/base.py\u001b[0m in \u001b[0;36mget_loc\u001b[0;34m(self, key, method, tolerance)\u001b[0m\n\u001b[1;32m   2656\u001b[0m             \u001b[0;32mtry\u001b[0m\u001b[0;34m:\u001b[0m\u001b[0;34m\u001b[0m\u001b[0;34m\u001b[0m\u001b[0m\n\u001b[0;32m-> 2657\u001b[0;31m                 \u001b[0;32mreturn\u001b[0m \u001b[0mself\u001b[0m\u001b[0;34m.\u001b[0m\u001b[0m_engine\u001b[0m\u001b[0;34m.\u001b[0m\u001b[0mget_loc\u001b[0m\u001b[0;34m(\u001b[0m\u001b[0mkey\u001b[0m\u001b[0;34m)\u001b[0m\u001b[0;34m\u001b[0m\u001b[0;34m\u001b[0m\u001b[0m\n\u001b[0m\u001b[1;32m   2658\u001b[0m             \u001b[0;32mexcept\u001b[0m \u001b[0mKeyError\u001b[0m\u001b[0;34m:\u001b[0m\u001b[0;34m\u001b[0m\u001b[0;34m\u001b[0m\u001b[0m\n",
            "\u001b[0;32mpandas/_libs/index.pyx\u001b[0m in \u001b[0;36mpandas._libs.index.IndexEngine.get_loc\u001b[0;34m()\u001b[0m\n",
            "\u001b[0;32mpandas/_libs/index.pyx\u001b[0m in \u001b[0;36mpandas._libs.index.IndexEngine.get_loc\u001b[0;34m()\u001b[0m\n",
            "\u001b[0;32mpandas/_libs/hashtable_class_helper.pxi\u001b[0m in \u001b[0;36mpandas._libs.hashtable.PyObjectHashTable.get_item\u001b[0;34m()\u001b[0m\n",
            "\u001b[0;32mpandas/_libs/hashtable_class_helper.pxi\u001b[0m in \u001b[0;36mpandas._libs.hashtable.PyObjectHashTable.get_item\u001b[0;34m()\u001b[0m\n",
            "\u001b[0;31mKeyError\u001b[0m: 1",
            "\nDuring handling of the above exception, another exception occurred:\n",
            "\u001b[0;31mKeyError\u001b[0m                                  Traceback (most recent call last)",
            "\u001b[0;32m<ipython-input-10-78a33f69c558>\u001b[0m in \u001b[0;36m<module>\u001b[0;34m()\u001b[0m\n\u001b[0;32m----> 1\u001b[0;31m \u001b[0mdf\u001b[0m\u001b[0;34m[\u001b[0m\u001b[0;36m1\u001b[0m\u001b[0;34m]\u001b[0m\u001b[0;34m\u001b[0m\u001b[0;34m\u001b[0m\u001b[0m\n\u001b[0m",
            "\u001b[0;32m/usr/local/lib/python3.6/dist-packages/pandas/core/frame.py\u001b[0m in \u001b[0;36m__getitem__\u001b[0;34m(self, key)\u001b[0m\n\u001b[1;32m   2925\u001b[0m             \u001b[0;32mif\u001b[0m \u001b[0mself\u001b[0m\u001b[0;34m.\u001b[0m\u001b[0mcolumns\u001b[0m\u001b[0;34m.\u001b[0m\u001b[0mnlevels\u001b[0m \u001b[0;34m>\u001b[0m \u001b[0;36m1\u001b[0m\u001b[0;34m:\u001b[0m\u001b[0;34m\u001b[0m\u001b[0;34m\u001b[0m\u001b[0m\n\u001b[1;32m   2926\u001b[0m                 \u001b[0;32mreturn\u001b[0m \u001b[0mself\u001b[0m\u001b[0;34m.\u001b[0m\u001b[0m_getitem_multilevel\u001b[0m\u001b[0;34m(\u001b[0m\u001b[0mkey\u001b[0m\u001b[0;34m)\u001b[0m\u001b[0;34m\u001b[0m\u001b[0;34m\u001b[0m\u001b[0m\n\u001b[0;32m-> 2927\u001b[0;31m             \u001b[0mindexer\u001b[0m \u001b[0;34m=\u001b[0m \u001b[0mself\u001b[0m\u001b[0;34m.\u001b[0m\u001b[0mcolumns\u001b[0m\u001b[0;34m.\u001b[0m\u001b[0mget_loc\u001b[0m\u001b[0;34m(\u001b[0m\u001b[0mkey\u001b[0m\u001b[0;34m)\u001b[0m\u001b[0;34m\u001b[0m\u001b[0;34m\u001b[0m\u001b[0m\n\u001b[0m\u001b[1;32m   2928\u001b[0m             \u001b[0;32mif\u001b[0m \u001b[0mis_integer\u001b[0m\u001b[0;34m(\u001b[0m\u001b[0mindexer\u001b[0m\u001b[0;34m)\u001b[0m\u001b[0;34m:\u001b[0m\u001b[0;34m\u001b[0m\u001b[0;34m\u001b[0m\u001b[0m\n\u001b[1;32m   2929\u001b[0m                 \u001b[0mindexer\u001b[0m \u001b[0;34m=\u001b[0m \u001b[0;34m[\u001b[0m\u001b[0mindexer\u001b[0m\u001b[0;34m]\u001b[0m\u001b[0;34m\u001b[0m\u001b[0;34m\u001b[0m\u001b[0m\n",
            "\u001b[0;32m/usr/local/lib/python3.6/dist-packages/pandas/core/indexes/base.py\u001b[0m in \u001b[0;36mget_loc\u001b[0;34m(self, key, method, tolerance)\u001b[0m\n\u001b[1;32m   2657\u001b[0m                 \u001b[0;32mreturn\u001b[0m \u001b[0mself\u001b[0m\u001b[0;34m.\u001b[0m\u001b[0m_engine\u001b[0m\u001b[0;34m.\u001b[0m\u001b[0mget_loc\u001b[0m\u001b[0;34m(\u001b[0m\u001b[0mkey\u001b[0m\u001b[0;34m)\u001b[0m\u001b[0;34m\u001b[0m\u001b[0;34m\u001b[0m\u001b[0m\n\u001b[1;32m   2658\u001b[0m             \u001b[0;32mexcept\u001b[0m \u001b[0mKeyError\u001b[0m\u001b[0;34m:\u001b[0m\u001b[0;34m\u001b[0m\u001b[0;34m\u001b[0m\u001b[0m\n\u001b[0;32m-> 2659\u001b[0;31m                 \u001b[0;32mreturn\u001b[0m \u001b[0mself\u001b[0m\u001b[0;34m.\u001b[0m\u001b[0m_engine\u001b[0m\u001b[0;34m.\u001b[0m\u001b[0mget_loc\u001b[0m\u001b[0;34m(\u001b[0m\u001b[0mself\u001b[0m\u001b[0;34m.\u001b[0m\u001b[0m_maybe_cast_indexer\u001b[0m\u001b[0;34m(\u001b[0m\u001b[0mkey\u001b[0m\u001b[0;34m)\u001b[0m\u001b[0;34m)\u001b[0m\u001b[0;34m\u001b[0m\u001b[0;34m\u001b[0m\u001b[0m\n\u001b[0m\u001b[1;32m   2660\u001b[0m         \u001b[0mindexer\u001b[0m \u001b[0;34m=\u001b[0m \u001b[0mself\u001b[0m\u001b[0;34m.\u001b[0m\u001b[0mget_indexer\u001b[0m\u001b[0;34m(\u001b[0m\u001b[0;34m[\u001b[0m\u001b[0mkey\u001b[0m\u001b[0;34m]\u001b[0m\u001b[0;34m,\u001b[0m \u001b[0mmethod\u001b[0m\u001b[0;34m=\u001b[0m\u001b[0mmethod\u001b[0m\u001b[0;34m,\u001b[0m \u001b[0mtolerance\u001b[0m\u001b[0;34m=\u001b[0m\u001b[0mtolerance\u001b[0m\u001b[0;34m)\u001b[0m\u001b[0;34m\u001b[0m\u001b[0;34m\u001b[0m\u001b[0m\n\u001b[1;32m   2661\u001b[0m         \u001b[0;32mif\u001b[0m \u001b[0mindexer\u001b[0m\u001b[0;34m.\u001b[0m\u001b[0mndim\u001b[0m \u001b[0;34m>\u001b[0m \u001b[0;36m1\u001b[0m \u001b[0;32mor\u001b[0m \u001b[0mindexer\u001b[0m\u001b[0;34m.\u001b[0m\u001b[0msize\u001b[0m \u001b[0;34m>\u001b[0m \u001b[0;36m1\u001b[0m\u001b[0;34m:\u001b[0m\u001b[0;34m\u001b[0m\u001b[0;34m\u001b[0m\u001b[0m\n",
            "\u001b[0;32mpandas/_libs/index.pyx\u001b[0m in \u001b[0;36mpandas._libs.index.IndexEngine.get_loc\u001b[0;34m()\u001b[0m\n",
            "\u001b[0;32mpandas/_libs/index.pyx\u001b[0m in \u001b[0;36mpandas._libs.index.IndexEngine.get_loc\u001b[0;34m()\u001b[0m\n",
            "\u001b[0;32mpandas/_libs/hashtable_class_helper.pxi\u001b[0m in \u001b[0;36mpandas._libs.hashtable.PyObjectHashTable.get_item\u001b[0;34m()\u001b[0m\n",
            "\u001b[0;32mpandas/_libs/hashtable_class_helper.pxi\u001b[0m in \u001b[0;36mpandas._libs.hashtable.PyObjectHashTable.get_item\u001b[0;34m()\u001b[0m\n",
            "\u001b[0;31mKeyError\u001b[0m: 1"
          ]
        }
      ]
    },
    {
      "cell_type": "code",
      "metadata": {
        "id": "15Eb8uYfpUbe",
        "colab_type": "code",
        "colab": {}
      },
      "source": [
        "#All rows slicing\n",
        "df.iloc[:,0:1]"
      ],
      "execution_count": 0,
      "outputs": []
    },
    {
      "cell_type": "code",
      "metadata": {
        "id": "tiIVOu8gpfXx",
        "colab_type": "code",
        "outputId": "5b9bad83-5a11-4536-ed82-64bcb96fb0e4",
        "colab": {
          "base_uri": "https://localhost:8080/",
          "height": 34
        }
      },
      "source": [
        "#All columns slicing\n",
        "df.iloc[-1,-1]"
      ],
      "execution_count": 0,
      "outputs": [
        {
          "output_type": "execute_result",
          "data": {
            "text/plain": [
              "90.3"
            ]
          },
          "metadata": {
            "tags": []
          },
          "execution_count": 11
        }
      ]
    },
    {
      "cell_type": "code",
      "metadata": {
        "id": "ZAu7gR5Jjw_8",
        "colab_type": "code",
        "outputId": "eb9d7613-9a72-460f-bd1d-4c192a59d7d4",
        "colab": {
          "base_uri": "https://localhost:8080/",
          "height": 106
        }
      },
      "source": [
        "df.iloc[0:2,0:2]"
      ],
      "execution_count": 0,
      "outputs": [
        {
          "output_type": "execute_result",
          "data": {
            "text/html": [
              "<div>\n",
              "<style scoped>\n",
              "    .dataframe tbody tr th:only-of-type {\n",
              "        vertical-align: middle;\n",
              "    }\n",
              "\n",
              "    .dataframe tbody tr th {\n",
              "        vertical-align: top;\n",
              "    }\n",
              "\n",
              "    .dataframe thead th {\n",
              "        text-align: right;\n",
              "    }\n",
              "</style>\n",
              "<table border=\"1\" class=\"dataframe\">\n",
              "  <thead>\n",
              "    <tr style=\"text-align: right;\">\n",
              "      <th></th>\n",
              "      <th>PName</th>\n",
              "      <th>Avg</th>\n",
              "    </tr>\n",
              "  </thead>\n",
              "  <tbody>\n",
              "    <tr>\n",
              "      <th>0</th>\n",
              "      <td>Kohli</td>\n",
              "      <td>59.7</td>\n",
              "    </tr>\n",
              "    <tr>\n",
              "      <th>1</th>\n",
              "      <td>Smith</td>\n",
              "      <td>65.2</td>\n",
              "    </tr>\n",
              "  </tbody>\n",
              "</table>\n",
              "</div>"
            ],
            "text/plain": [
              "   PName   Avg\n",
              "0  Kohli  59.7\n",
              "1  Smith  65.2"
            ]
          },
          "metadata": {
            "tags": []
          },
          "execution_count": 12
        }
      ]
    },
    {
      "cell_type": "code",
      "metadata": {
        "id": "FRxAnyuQjxIV",
        "colab_type": "code",
        "colab": {}
      },
      "source": [
        "df.iloc[[0,3],[0,2]]"
      ],
      "execution_count": 0,
      "outputs": []
    },
    {
      "cell_type": "code",
      "metadata": {
        "id": "1bvbJTYEjxLs",
        "colab_type": "code",
        "colab": {}
      },
      "source": [
        "#Select specic row and column\n",
        " \n",
        "x=df.iloc[1:2,1:2]\n",
        "x"
      ],
      "execution_count": 0,
      "outputs": []
    },
    {
      "cell_type": "code",
      "metadata": {
        "id": "2rBUrdLDcZ9G",
        "colab_type": "code",
        "colab": {}
      },
      "source": [
        "bonus =x*2\n",
        "bonus"
      ],
      "execution_count": 0,
      "outputs": []
    },
    {
      "cell_type": "code",
      "metadata": {
        "id": "5-QSv92tjxFY",
        "colab_type": "code",
        "colab": {}
      },
      "source": [
        "#using loc\n",
        "d = {'PName':['Kohli','Smith', 'Kane', 'Root'], 'Avg': [59.7, 65.2, 55.9, 52.7],\n",
        "     'country' : ['Ind', 'Aus', 'Nz', 'Eng'], \n",
        "     'StrikeRate' : [92.7, 87.5, 91.1, 90.3] }\n",
        "df = pd.DataFrame(d)\n",
        "df"
      ],
      "execution_count": 0,
      "outputs": []
    },
    {
      "cell_type": "code",
      "metadata": {
        "id": "Eh1pr4Awef78",
        "colab_type": "code",
        "colab": {}
      },
      "source": [
        "df.loc[:,['PName']]"
      ],
      "execution_count": 0,
      "outputs": []
    },
    {
      "cell_type": "code",
      "metadata": {
        "id": "MTEevBq7jxC3",
        "colab_type": "code",
        "colab": {}
      },
      "source": [
        "# select value by row label and column label using loc\n",
        " \n",
        "df.loc[[1,2],'PName':'country']"
      ],
      "execution_count": 0,
      "outputs": []
    },
    {
      "cell_type": "code",
      "metadata": {
        "id": "Gfvzo6BaMecb",
        "colab_type": "code",
        "colab": {}
      },
      "source": [
        "df.loc[:,['PName','country']]"
      ],
      "execution_count": 0,
      "outputs": []
    },
    {
      "cell_type": "code",
      "metadata": {
        "id": "P8FrL5XGHafL",
        "colab_type": "code",
        "outputId": "906f05e5-9d79-4460-c1ab-8976a920bfd0",
        "colab": {
          "base_uri": "https://localhost:8080/",
          "height": 166
        }
      },
      "source": [
        "Best = pd.Series(['GOAT', 'Test', 'T20', 'Odi'])\n",
        "df['Achievement'] = Best\n",
        "df"
      ],
      "execution_count": 0,
      "outputs": [
        {
          "output_type": "execute_result",
          "data": {
            "text/html": [
              "<div>\n",
              "<style scoped>\n",
              "    .dataframe tbody tr th:only-of-type {\n",
              "        vertical-align: middle;\n",
              "    }\n",
              "\n",
              "    .dataframe tbody tr th {\n",
              "        vertical-align: top;\n",
              "    }\n",
              "\n",
              "    .dataframe thead th {\n",
              "        text-align: right;\n",
              "    }\n",
              "</style>\n",
              "<table border=\"1\" class=\"dataframe\">\n",
              "  <thead>\n",
              "    <tr style=\"text-align: right;\">\n",
              "      <th></th>\n",
              "      <th>PName</th>\n",
              "      <th>Avg</th>\n",
              "      <th>country</th>\n",
              "      <th>StrikeRate</th>\n",
              "      <th>Achievement</th>\n",
              "    </tr>\n",
              "  </thead>\n",
              "  <tbody>\n",
              "    <tr>\n",
              "      <th>0</th>\n",
              "      <td>Kohli</td>\n",
              "      <td>59.7</td>\n",
              "      <td>Ind</td>\n",
              "      <td>92.7</td>\n",
              "      <td>GOAT</td>\n",
              "    </tr>\n",
              "    <tr>\n",
              "      <th>1</th>\n",
              "      <td>Smith</td>\n",
              "      <td>65.2</td>\n",
              "      <td>Aus</td>\n",
              "      <td>87.5</td>\n",
              "      <td>Test</td>\n",
              "    </tr>\n",
              "    <tr>\n",
              "      <th>2</th>\n",
              "      <td>Kane</td>\n",
              "      <td>55.9</td>\n",
              "      <td>Nz</td>\n",
              "      <td>91.1</td>\n",
              "      <td>T20</td>\n",
              "    </tr>\n",
              "    <tr>\n",
              "      <th>3</th>\n",
              "      <td>Root</td>\n",
              "      <td>52.7</td>\n",
              "      <td>Eng</td>\n",
              "      <td>90.3</td>\n",
              "      <td>Odi</td>\n",
              "    </tr>\n",
              "  </tbody>\n",
              "</table>\n",
              "</div>"
            ],
            "text/plain": [
              "   PName   Avg country  StrikeRate Achievement\n",
              "0  Kohli  59.7     Ind        92.7        GOAT\n",
              "1  Smith  65.2     Aus        87.5        Test\n",
              "2   Kane  55.9      Nz        91.1         T20\n",
              "3   Root  52.7     Eng        90.3         Odi"
            ]
          },
          "metadata": {
            "tags": []
          },
          "execution_count": 13
        }
      ]
    },
    {
      "cell_type": "code",
      "metadata": {
        "id": "93ECTk8IHapf",
        "colab_type": "code",
        "outputId": "b52fe903-ae11-4f79-93eb-d8551ff67207",
        "colab": {
          "base_uri": "https://localhost:8080/",
          "height": 195
        }
      },
      "source": [
        "df= df.set_index('Achievement')\n",
        "df"
      ],
      "execution_count": 0,
      "outputs": [
        {
          "output_type": "execute_result",
          "data": {
            "text/html": [
              "<div>\n",
              "<style scoped>\n",
              "    .dataframe tbody tr th:only-of-type {\n",
              "        vertical-align: middle;\n",
              "    }\n",
              "\n",
              "    .dataframe tbody tr th {\n",
              "        vertical-align: top;\n",
              "    }\n",
              "\n",
              "    .dataframe thead th {\n",
              "        text-align: right;\n",
              "    }\n",
              "</style>\n",
              "<table border=\"1\" class=\"dataframe\">\n",
              "  <thead>\n",
              "    <tr style=\"text-align: right;\">\n",
              "      <th></th>\n",
              "      <th>PName</th>\n",
              "      <th>Avg</th>\n",
              "      <th>country</th>\n",
              "      <th>StrikeRate</th>\n",
              "    </tr>\n",
              "    <tr>\n",
              "      <th>Achievement</th>\n",
              "      <th></th>\n",
              "      <th></th>\n",
              "      <th></th>\n",
              "      <th></th>\n",
              "    </tr>\n",
              "  </thead>\n",
              "  <tbody>\n",
              "    <tr>\n",
              "      <th>GOAT</th>\n",
              "      <td>Kohli</td>\n",
              "      <td>59.7</td>\n",
              "      <td>Ind</td>\n",
              "      <td>92.7</td>\n",
              "    </tr>\n",
              "    <tr>\n",
              "      <th>Test</th>\n",
              "      <td>Smith</td>\n",
              "      <td>65.2</td>\n",
              "      <td>Aus</td>\n",
              "      <td>87.5</td>\n",
              "    </tr>\n",
              "    <tr>\n",
              "      <th>T20</th>\n",
              "      <td>Kane</td>\n",
              "      <td>55.9</td>\n",
              "      <td>Nz</td>\n",
              "      <td>91.1</td>\n",
              "    </tr>\n",
              "    <tr>\n",
              "      <th>Odi</th>\n",
              "      <td>Root</td>\n",
              "      <td>52.7</td>\n",
              "      <td>Eng</td>\n",
              "      <td>90.3</td>\n",
              "    </tr>\n",
              "  </tbody>\n",
              "</table>\n",
              "</div>"
            ],
            "text/plain": [
              "             PName   Avg country  StrikeRate\n",
              "Achievement                                 \n",
              "GOAT         Kohli  59.7     Ind        92.7\n",
              "Test         Smith  65.2     Aus        87.5\n",
              "T20           Kane  55.9      Nz        91.1\n",
              "Odi           Root  52.7     Eng        90.3"
            ]
          },
          "metadata": {
            "tags": []
          },
          "execution_count": 14
        }
      ]
    },
    {
      "cell_type": "code",
      "metadata": {
        "id": "0TrFksNQIA2M",
        "colab_type": "code",
        "colab": {}
      },
      "source": [
        "#iloc vs loc\n",
        "df.iloc[1:3,0:2]"
      ],
      "execution_count": 0,
      "outputs": []
    },
    {
      "cell_type": "code",
      "metadata": {
        "id": "NpQRgneAIA5N",
        "colab_type": "code",
        "outputId": "43660143-ff36-4d63-866a-f640530ab584",
        "colab": {
          "base_uri": "https://localhost:8080/",
          "height": 136
        }
      },
      "source": [
        "df.loc[['GOAT', 'Test'],['PName', 'Avg']]"
      ],
      "execution_count": 0,
      "outputs": [
        {
          "output_type": "execute_result",
          "data": {
            "text/html": [
              "<div>\n",
              "<style scoped>\n",
              "    .dataframe tbody tr th:only-of-type {\n",
              "        vertical-align: middle;\n",
              "    }\n",
              "\n",
              "    .dataframe tbody tr th {\n",
              "        vertical-align: top;\n",
              "    }\n",
              "\n",
              "    .dataframe thead th {\n",
              "        text-align: right;\n",
              "    }\n",
              "</style>\n",
              "<table border=\"1\" class=\"dataframe\">\n",
              "  <thead>\n",
              "    <tr style=\"text-align: right;\">\n",
              "      <th></th>\n",
              "      <th>PName</th>\n",
              "      <th>Avg</th>\n",
              "    </tr>\n",
              "    <tr>\n",
              "      <th>Achievement</th>\n",
              "      <th></th>\n",
              "      <th></th>\n",
              "    </tr>\n",
              "  </thead>\n",
              "  <tbody>\n",
              "    <tr>\n",
              "      <th>GOAT</th>\n",
              "      <td>Kohli</td>\n",
              "      <td>59.7</td>\n",
              "    </tr>\n",
              "    <tr>\n",
              "      <th>Test</th>\n",
              "      <td>Smith</td>\n",
              "      <td>65.2</td>\n",
              "    </tr>\n",
              "  </tbody>\n",
              "</table>\n",
              "</div>"
            ],
            "text/plain": [
              "             PName   Avg\n",
              "Achievement             \n",
              "GOAT         Kohli  59.7\n",
              "Test         Smith  65.2"
            ]
          },
          "metadata": {
            "tags": []
          },
          "execution_count": 15
        }
      ]
    },
    {
      "cell_type": "code",
      "metadata": {
        "id": "fBfLZCQYNXaJ",
        "colab_type": "code",
        "outputId": "b903e984-6ba6-4752-e81e-199405c21ede",
        "colab": {
          "base_uri": "https://localhost:8080/",
          "height": 162
        }
      },
      "source": [
        "#using regexp\n",
        "df['Avg' > 55]"
      ],
      "execution_count": 0,
      "outputs": [
        {
          "output_type": "error",
          "ename": "TypeError",
          "evalue": "ignored",
          "traceback": [
            "\u001b[0;31m---------------------------------------------------------------------------\u001b[0m",
            "\u001b[0;31mTypeError\u001b[0m                                 Traceback (most recent call last)",
            "\u001b[0;32m<ipython-input-17-5447da213830>\u001b[0m in \u001b[0;36m<module>\u001b[0;34m()\u001b[0m\n\u001b[0;32m----> 1\u001b[0;31m \u001b[0mdf\u001b[0m\u001b[0;34m[\u001b[0m\u001b[0;34m'Avg'\u001b[0m \u001b[0;34m>\u001b[0m \u001b[0;36m55\u001b[0m\u001b[0;34m]\u001b[0m\u001b[0;34m\u001b[0m\u001b[0;34m\u001b[0m\u001b[0m\n\u001b[0m",
            "\u001b[0;31mTypeError\u001b[0m: '>' not supported between instances of 'str' and 'int'"
          ]
        }
      ]
    },
    {
      "cell_type": "code",
      "metadata": {
        "id": "E7F7NhT0NXe3",
        "colab_type": "code",
        "colab": {}
      },
      "source": [
        "df['Avg'] > 55"
      ],
      "execution_count": 0,
      "outputs": []
    },
    {
      "cell_type": "markdown",
      "metadata": {
        "id": "bg9WglB6hzdu",
        "colab_type": "text"
      },
      "source": [
        "Dataframe iteration"
      ]
    },
    {
      "cell_type": "code",
      "metadata": {
        "id": "aS7SBeSPhyE9",
        "colab_type": "code",
        "colab": {}
      },
      "source": [
        "#create dataframe\n",
        "#using loc\n",
        "d = {'PName':['Kohli','Smith', 'Kane', 'Root'], 'Avg': [59.7, 65.2, 55.9, 52.7],\n",
        "     'country' : ['Ind', 'Aus', 'Nz', 'Eng'], \n",
        "     'StrikeRate' : [92.7, 87.5, 91.1, 90.3] }\n",
        "df = pd.DataFrame(d)\n",
        "df"
      ],
      "execution_count": 0,
      "outputs": []
    },
    {
      "cell_type": "markdown",
      "metadata": {
        "id": "_aGAw9ujiqQv",
        "colab_type": "text"
      },
      "source": [
        "(https://ibb.co/bHNHYgf)"
      ]
    },
    {
      "cell_type": "code",
      "metadata": {
        "id": "6s7mX_BvhyBu",
        "colab_type": "code",
        "colab": {}
      },
      "source": [
        "# iterating over rows using iterrows() function \n",
        "for i, j in df.iterrows():\n",
        "    print(i, j,\"\\n\")"
      ],
      "execution_count": 0,
      "outputs": []
    },
    {
      "cell_type": "code",
      "metadata": {
        "id": "S1Z_zBnejdx8",
        "colab_type": "code",
        "colab": {}
      },
      "source": [
        "# iterating over columns\n",
        "# creating a list of dataframe columns\n",
        "columns = list(df)\n",
        "columns"
      ],
      "execution_count": 0,
      "outputs": []
    },
    {
      "cell_type": "code",
      "metadata": {
        "id": "bxS8Yvi2hx-l",
        "colab_type": "code",
        "colab": {}
      },
      "source": [
        "for i in columns: \n",
        "    # printing the third element of the column\n",
        "    print (df[i][3])"
      ],
      "execution_count": 0,
      "outputs": []
    },
    {
      "cell_type": "markdown",
      "metadata": {
        "id": "Yw15fHGzQ53E",
        "colab_type": "text"
      },
      "source": [
        "Adding a column"
      ]
    },
    {
      "cell_type": "code",
      "metadata": {
        "id": "HrhHXaIUPpVV",
        "colab_type": "code",
        "colab": {}
      },
      "source": [
        "#Add a column\n",
        "d = {'PName':['Kohli','Smith', 'Kane', 'Root'], 'Avg': [59.7, 65.2, 55.9, 52.7]}\n",
        "df = pd.DataFrame(d)\n",
        "df"
      ],
      "execution_count": 0,
      "outputs": []
    },
    {
      "cell_type": "code",
      "metadata": {
        "id": "7GE231FRJDaV",
        "colab_type": "code",
        "colab": {}
      },
      "source": [
        "df"
      ],
      "execution_count": 0,
      "outputs": []
    },
    {
      "cell_type": "code",
      "metadata": {
        "id": "Vmf4ZvzKWuuS",
        "colab_type": "code",
        "colab": {}
      },
      "source": [
        "#using List\n",
        "country = ['Ind', 'Aus', 'Nz', 'Eng']"
      ],
      "execution_count": 0,
      "outputs": []
    },
    {
      "cell_type": "code",
      "metadata": {
        "id": "SzPyuOaMX72G",
        "colab_type": "code",
        "colab": {}
      },
      "source": [
        "df['Country'] = country\n",
        "df"
      ],
      "execution_count": 0,
      "outputs": []
    },
    {
      "cell_type": "code",
      "metadata": {
        "id": "7seAcxBvYX6F",
        "colab_type": "code",
        "colab": {}
      },
      "source": [
        "#using Series\n",
        "country = pd.Series(['Ind', 'Aus', 'Nz', 'Eng'])"
      ],
      "execution_count": 0,
      "outputs": []
    },
    {
      "cell_type": "code",
      "metadata": {
        "id": "3GFEa5RdYYAd",
        "colab_type": "code",
        "colab": {}
      },
      "source": [
        "df['Country'] = country\n",
        "df"
      ],
      "execution_count": 0,
      "outputs": []
    },
    {
      "cell_type": "code",
      "metadata": {
        "id": "SSVkChJMYYOp",
        "colab_type": "code",
        "colab": {}
      },
      "source": [
        "#using dictionary\n",
        "country = {'Kohli': 'Ind', 'Smith': 'Aus', 'Kane': 'Nz', 'Root':'Eng'}\n",
        "country"
      ],
      "execution_count": 0,
      "outputs": []
    },
    {
      "cell_type": "code",
      "metadata": {
        "id": "t01dMwWYYX91",
        "colab_type": "code",
        "colab": {}
      },
      "source": [
        "df['Country'] = df['PName'].map(country)\n",
        "df"
      ],
      "execution_count": 0,
      "outputs": []
    },
    {
      "cell_type": "code",
      "metadata": {
        "id": "XFs9eMeSbbB4",
        "colab_type": "code",
        "colab": {}
      },
      "source": [
        "#using assign function\n",
        "df = df.assign(StrikeRate = [92.7, 87.5, 91.1, 90.3])\n",
        "df"
      ],
      "execution_count": 0,
      "outputs": []
    },
    {
      "cell_type": "markdown",
      "metadata": {
        "id": "D11qzxD5RN1k",
        "colab_type": "text"
      },
      "source": [
        "Adding  a row in dataframe"
      ]
    },
    {
      "cell_type": "code",
      "metadata": {
        "id": "9581mO6RbbFK",
        "colab_type": "code",
        "outputId": "34fe29d1-4f29-480e-f95a-0d70e640dd31",
        "colab": {
          "base_uri": "https://localhost:8080/",
          "height": 166
        }
      },
      "source": [
        "#Add a Row\n",
        "d = {'PName':['Kohli','Smith', 'Kane', 'Root'], 'Avg': [59.7, 65.2, 55.9, 52.7]}\n",
        "df = pd.DataFrame(d)\n",
        "df"
      ],
      "execution_count": 0,
      "outputs": [
        {
          "output_type": "execute_result",
          "data": {
            "text/html": [
              "<div>\n",
              "<style scoped>\n",
              "    .dataframe tbody tr th:only-of-type {\n",
              "        vertical-align: middle;\n",
              "    }\n",
              "\n",
              "    .dataframe tbody tr th {\n",
              "        vertical-align: top;\n",
              "    }\n",
              "\n",
              "    .dataframe thead th {\n",
              "        text-align: right;\n",
              "    }\n",
              "</style>\n",
              "<table border=\"1\" class=\"dataframe\">\n",
              "  <thead>\n",
              "    <tr style=\"text-align: right;\">\n",
              "      <th></th>\n",
              "      <th>PName</th>\n",
              "      <th>Avg</th>\n",
              "    </tr>\n",
              "  </thead>\n",
              "  <tbody>\n",
              "    <tr>\n",
              "      <th>0</th>\n",
              "      <td>Kohli</td>\n",
              "      <td>59.7</td>\n",
              "    </tr>\n",
              "    <tr>\n",
              "      <th>1</th>\n",
              "      <td>Smith</td>\n",
              "      <td>65.2</td>\n",
              "    </tr>\n",
              "    <tr>\n",
              "      <th>2</th>\n",
              "      <td>Kane</td>\n",
              "      <td>55.9</td>\n",
              "    </tr>\n",
              "    <tr>\n",
              "      <th>3</th>\n",
              "      <td>Root</td>\n",
              "      <td>52.7</td>\n",
              "    </tr>\n",
              "  </tbody>\n",
              "</table>\n",
              "</div>"
            ],
            "text/plain": [
              "   PName   Avg\n",
              "0  Kohli  59.7\n",
              "1  Smith  65.2\n",
              "2   Kane  55.9\n",
              "3   Root  52.7"
            ]
          },
          "metadata": {
            "tags": []
          },
          "execution_count": 18
        }
      ]
    },
    {
      "cell_type": "code",
      "metadata": {
        "id": "DYwRW8WHaSep",
        "colab_type": "code",
        "colab": {}
      },
      "source": [
        ""
      ],
      "execution_count": 0,
      "outputs": []
    },
    {
      "cell_type": "code",
      "metadata": {
        "id": "edw7P5eiRWVV",
        "colab_type": "code",
        "outputId": "90fdd3e1-1c95-4e18-d0db-12970de8a62b",
        "colab": {
          "base_uri": "https://localhost:8080/",
          "height": 195
        }
      },
      "source": [
        "df.loc[4] = ['Warner', 49.6]\n",
        "df"
      ],
      "execution_count": 0,
      "outputs": [
        {
          "output_type": "execute_result",
          "data": {
            "text/html": [
              "<div>\n",
              "<style scoped>\n",
              "    .dataframe tbody tr th:only-of-type {\n",
              "        vertical-align: middle;\n",
              "    }\n",
              "\n",
              "    .dataframe tbody tr th {\n",
              "        vertical-align: top;\n",
              "    }\n",
              "\n",
              "    .dataframe thead th {\n",
              "        text-align: right;\n",
              "    }\n",
              "</style>\n",
              "<table border=\"1\" class=\"dataframe\">\n",
              "  <thead>\n",
              "    <tr style=\"text-align: right;\">\n",
              "      <th></th>\n",
              "      <th>PName</th>\n",
              "      <th>Avg</th>\n",
              "    </tr>\n",
              "  </thead>\n",
              "  <tbody>\n",
              "    <tr>\n",
              "      <th>0</th>\n",
              "      <td>Kohli</td>\n",
              "      <td>59.7</td>\n",
              "    </tr>\n",
              "    <tr>\n",
              "      <th>1</th>\n",
              "      <td>Smith</td>\n",
              "      <td>65.2</td>\n",
              "    </tr>\n",
              "    <tr>\n",
              "      <th>2</th>\n",
              "      <td>Kane</td>\n",
              "      <td>55.9</td>\n",
              "    </tr>\n",
              "    <tr>\n",
              "      <th>3</th>\n",
              "      <td>Root</td>\n",
              "      <td>52.7</td>\n",
              "    </tr>\n",
              "    <tr>\n",
              "      <th>4</th>\n",
              "      <td>Warner</td>\n",
              "      <td>49.6</td>\n",
              "    </tr>\n",
              "  </tbody>\n",
              "</table>\n",
              "</div>"
            ],
            "text/plain": [
              "    PName   Avg\n",
              "0   Kohli  59.7\n",
              "1   Smith  65.2\n",
              "2    Kane  55.9\n",
              "3    Root  52.7\n",
              "4  Warner  49.6"
            ]
          },
          "metadata": {
            "tags": []
          },
          "execution_count": 19
        }
      ]
    },
    {
      "cell_type": "markdown",
      "metadata": {
        "id": "gQlQimm_SR0W",
        "colab_type": "text"
      },
      "source": [
        "where(cond,  other =NAN, inplace = True/False)\n",
        "where condition is true keep the original value, otherwise updat with other\n",
        "inplace for the dataset changes\n"
      ]
    },
    {
      "cell_type": "code",
      "metadata": {
        "id": "n-9vxWopRWcq",
        "colab_type": "code",
        "outputId": "b2e20d1c-1461-46ac-81fa-318c807eee88",
        "colab": {
          "base_uri": "https://localhost:8080/",
          "height": 195
        }
      },
      "source": [
        "d = {'PName':['Kohli','Smith', 'Kane', 'Root', 'Warner'], 'Avg': [59.7, 65.2, 55.9, 52.7, 49.2],\n",
        "     'country' : ['Ind', 'Aus', 'Nz', 'Eng', 'Aus'], \n",
        "     'StrikeRate' : [92.7, 87.5, 91.1, 90.3, 95.8] }\n",
        "df = pd.DataFrame(d)\n",
        "df"
      ],
      "execution_count": 0,
      "outputs": [
        {
          "output_type": "execute_result",
          "data": {
            "text/html": [
              "<div>\n",
              "<style scoped>\n",
              "    .dataframe tbody tr th:only-of-type {\n",
              "        vertical-align: middle;\n",
              "    }\n",
              "\n",
              "    .dataframe tbody tr th {\n",
              "        vertical-align: top;\n",
              "    }\n",
              "\n",
              "    .dataframe thead th {\n",
              "        text-align: right;\n",
              "    }\n",
              "</style>\n",
              "<table border=\"1\" class=\"dataframe\">\n",
              "  <thead>\n",
              "    <tr style=\"text-align: right;\">\n",
              "      <th></th>\n",
              "      <th>PName</th>\n",
              "      <th>Avg</th>\n",
              "      <th>country</th>\n",
              "      <th>StrikeRate</th>\n",
              "    </tr>\n",
              "  </thead>\n",
              "  <tbody>\n",
              "    <tr>\n",
              "      <th>0</th>\n",
              "      <td>Kohli</td>\n",
              "      <td>59.7</td>\n",
              "      <td>Ind</td>\n",
              "      <td>92.7</td>\n",
              "    </tr>\n",
              "    <tr>\n",
              "      <th>1</th>\n",
              "      <td>Smith</td>\n",
              "      <td>65.2</td>\n",
              "      <td>Aus</td>\n",
              "      <td>87.5</td>\n",
              "    </tr>\n",
              "    <tr>\n",
              "      <th>2</th>\n",
              "      <td>Kane</td>\n",
              "      <td>55.9</td>\n",
              "      <td>Nz</td>\n",
              "      <td>91.1</td>\n",
              "    </tr>\n",
              "    <tr>\n",
              "      <th>3</th>\n",
              "      <td>Root</td>\n",
              "      <td>52.7</td>\n",
              "      <td>Eng</td>\n",
              "      <td>90.3</td>\n",
              "    </tr>\n",
              "    <tr>\n",
              "      <th>4</th>\n",
              "      <td>Warner</td>\n",
              "      <td>49.2</td>\n",
              "      <td>Aus</td>\n",
              "      <td>95.8</td>\n",
              "    </tr>\n",
              "  </tbody>\n",
              "</table>\n",
              "</div>"
            ],
            "text/plain": [
              "    PName   Avg country  StrikeRate\n",
              "0   Kohli  59.7     Ind        92.7\n",
              "1   Smith  65.2     Aus        87.5\n",
              "2    Kane  55.9      Nz        91.1\n",
              "3    Root  52.7     Eng        90.3\n",
              "4  Warner  49.2     Aus        95.8"
            ]
          },
          "metadata": {
            "tags": []
          },
          "execution_count": 20
        }
      ]
    },
    {
      "cell_type": "code",
      "metadata": {
        "id": "r_WfbPPgaU6Y",
        "colab_type": "code",
        "outputId": "3941b2de-33f2-499d-bfa2-b25a51467d42",
        "colab": {
          "base_uri": "https://localhost:8080/",
          "height": 195
        }
      },
      "source": [
        "df.loc[0:,0:1] = ['Rohit']\n",
        "df"
      ],
      "execution_count": 0,
      "outputs": [
        {
          "output_type": "execute_result",
          "data": {
            "text/html": [
              "<div>\n",
              "<style scoped>\n",
              "    .dataframe tbody tr th:only-of-type {\n",
              "        vertical-align: middle;\n",
              "    }\n",
              "\n",
              "    .dataframe tbody tr th {\n",
              "        vertical-align: top;\n",
              "    }\n",
              "\n",
              "    .dataframe thead th {\n",
              "        text-align: right;\n",
              "    }\n",
              "</style>\n",
              "<table border=\"1\" class=\"dataframe\">\n",
              "  <thead>\n",
              "    <tr style=\"text-align: right;\">\n",
              "      <th></th>\n",
              "      <th>PName</th>\n",
              "      <th>Avg</th>\n",
              "      <th>country</th>\n",
              "      <th>StrikeRate</th>\n",
              "    </tr>\n",
              "  </thead>\n",
              "  <tbody>\n",
              "    <tr>\n",
              "      <th>0</th>\n",
              "      <td>Rohit</td>\n",
              "      <td>59.7</td>\n",
              "      <td>Ind</td>\n",
              "      <td>92.7</td>\n",
              "    </tr>\n",
              "    <tr>\n",
              "      <th>1</th>\n",
              "      <td>Rohit</td>\n",
              "      <td>65.2</td>\n",
              "      <td>Aus</td>\n",
              "      <td>87.5</td>\n",
              "    </tr>\n",
              "    <tr>\n",
              "      <th>2</th>\n",
              "      <td>Kane</td>\n",
              "      <td>55.9</td>\n",
              "      <td>Nz</td>\n",
              "      <td>91.1</td>\n",
              "    </tr>\n",
              "    <tr>\n",
              "      <th>3</th>\n",
              "      <td>Root</td>\n",
              "      <td>52.7</td>\n",
              "      <td>Eng</td>\n",
              "      <td>90.3</td>\n",
              "    </tr>\n",
              "    <tr>\n",
              "      <th>4</th>\n",
              "      <td>Warner</td>\n",
              "      <td>49.2</td>\n",
              "      <td>Aus</td>\n",
              "      <td>95.8</td>\n",
              "    </tr>\n",
              "  </tbody>\n",
              "</table>\n",
              "</div>"
            ],
            "text/plain": [
              "    PName   Avg country  StrikeRate\n",
              "0   Rohit  59.7     Ind        92.7\n",
              "1   Rohit  65.2     Aus        87.5\n",
              "2    Kane  55.9      Nz        91.1\n",
              "3    Root  52.7     Eng        90.3\n",
              "4  Warner  49.2     Aus        95.8"
            ]
          },
          "metadata": {
            "tags": []
          },
          "execution_count": 22
        }
      ]
    },
    {
      "cell_type": "code",
      "metadata": {
        "id": "VKL8Bb6gRWgo",
        "colab_type": "code",
        "outputId": "7d884ad0-9e32-4065-f560-b3077e2e2d1e",
        "colab": {
          "base_uri": "https://localhost:8080/",
          "height": 204
        }
      },
      "source": [
        "df.where(df['country']==\"Aus\")"
      ],
      "execution_count": 0,
      "outputs": [
        {
          "output_type": "execute_result",
          "data": {
            "text/html": [
              "<div>\n",
              "<style scoped>\n",
              "    .dataframe tbody tr th:only-of-type {\n",
              "        vertical-align: middle;\n",
              "    }\n",
              "\n",
              "    .dataframe tbody tr th {\n",
              "        vertical-align: top;\n",
              "    }\n",
              "\n",
              "    .dataframe thead th {\n",
              "        text-align: right;\n",
              "    }\n",
              "</style>\n",
              "<table border=\"1\" class=\"dataframe\">\n",
              "  <thead>\n",
              "    <tr style=\"text-align: right;\">\n",
              "      <th></th>\n",
              "      <th>PName</th>\n",
              "      <th>Avg</th>\n",
              "      <th>country</th>\n",
              "      <th>StrikeRate</th>\n",
              "    </tr>\n",
              "  </thead>\n",
              "  <tbody>\n",
              "    <tr>\n",
              "      <th>0</th>\n",
              "      <td>NaN</td>\n",
              "      <td>NaN</td>\n",
              "      <td>NaN</td>\n",
              "      <td>NaN</td>\n",
              "    </tr>\n",
              "    <tr>\n",
              "      <th>1</th>\n",
              "      <td>Smith</td>\n",
              "      <td>65.2</td>\n",
              "      <td>Aus</td>\n",
              "      <td>87.5</td>\n",
              "    </tr>\n",
              "    <tr>\n",
              "      <th>2</th>\n",
              "      <td>NaN</td>\n",
              "      <td>NaN</td>\n",
              "      <td>NaN</td>\n",
              "      <td>NaN</td>\n",
              "    </tr>\n",
              "    <tr>\n",
              "      <th>3</th>\n",
              "      <td>NaN</td>\n",
              "      <td>NaN</td>\n",
              "      <td>NaN</td>\n",
              "      <td>NaN</td>\n",
              "    </tr>\n",
              "    <tr>\n",
              "      <th>4</th>\n",
              "      <td>Warner</td>\n",
              "      <td>49.2</td>\n",
              "      <td>Aus</td>\n",
              "      <td>95.8</td>\n",
              "    </tr>\n",
              "  </tbody>\n",
              "</table>\n",
              "</div>"
            ],
            "text/plain": [
              "    PName   Avg country  StrikeRate\n",
              "0     NaN   NaN     NaN         NaN\n",
              "1   Smith  65.2     Aus        87.5\n",
              "2     NaN   NaN     NaN         NaN\n",
              "3     NaN   NaN     NaN         NaN\n",
              "4  Warner  49.2     Aus        95.8"
            ]
          },
          "metadata": {
            "tags": []
          },
          "execution_count": 50
        }
      ]
    },
    {
      "cell_type": "code",
      "metadata": {
        "id": "0Vr0nVVERWki",
        "colab_type": "code",
        "outputId": "46ebdca0-ebf5-48f6-e3ae-ca894d781387",
        "colab": {
          "base_uri": "https://localhost:8080/",
          "height": 204
        }
      },
      "source": [
        "df"
      ],
      "execution_count": 0,
      "outputs": [
        {
          "output_type": "execute_result",
          "data": {
            "text/html": [
              "<div>\n",
              "<style scoped>\n",
              "    .dataframe tbody tr th:only-of-type {\n",
              "        vertical-align: middle;\n",
              "    }\n",
              "\n",
              "    .dataframe tbody tr th {\n",
              "        vertical-align: top;\n",
              "    }\n",
              "\n",
              "    .dataframe thead th {\n",
              "        text-align: right;\n",
              "    }\n",
              "</style>\n",
              "<table border=\"1\" class=\"dataframe\">\n",
              "  <thead>\n",
              "    <tr style=\"text-align: right;\">\n",
              "      <th></th>\n",
              "      <th>PName</th>\n",
              "      <th>Avg</th>\n",
              "      <th>country</th>\n",
              "      <th>StrikeRate</th>\n",
              "    </tr>\n",
              "  </thead>\n",
              "  <tbody>\n",
              "    <tr>\n",
              "      <th>0</th>\n",
              "      <td>Kohli</td>\n",
              "      <td>59.7</td>\n",
              "      <td>Ind</td>\n",
              "      <td>92.7</td>\n",
              "    </tr>\n",
              "    <tr>\n",
              "      <th>1</th>\n",
              "      <td>Smith</td>\n",
              "      <td>65.2</td>\n",
              "      <td>Aus</td>\n",
              "      <td>87.5</td>\n",
              "    </tr>\n",
              "    <tr>\n",
              "      <th>2</th>\n",
              "      <td>Kane</td>\n",
              "      <td>55.9</td>\n",
              "      <td>Nz</td>\n",
              "      <td>91.1</td>\n",
              "    </tr>\n",
              "    <tr>\n",
              "      <th>3</th>\n",
              "      <td>Root</td>\n",
              "      <td>52.7</td>\n",
              "      <td>Eng</td>\n",
              "      <td>90.3</td>\n",
              "    </tr>\n",
              "    <tr>\n",
              "      <th>4</th>\n",
              "      <td>Warner</td>\n",
              "      <td>49.2</td>\n",
              "      <td>Aus</td>\n",
              "      <td>95.8</td>\n",
              "    </tr>\n",
              "  </tbody>\n",
              "</table>\n",
              "</div>"
            ],
            "text/plain": [
              "    PName   Avg country  StrikeRate\n",
              "0   Kohli  59.7     Ind        92.7\n",
              "1   Smith  65.2     Aus        87.5\n",
              "2    Kane  55.9      Nz        91.1\n",
              "3    Root  52.7     Eng        90.3\n",
              "4  Warner  49.2     Aus        95.8"
            ]
          },
          "metadata": {
            "tags": []
          },
          "execution_count": 51
        }
      ]
    },
    {
      "cell_type": "code",
      "metadata": {
        "id": "PJ8iz1PgRWn8",
        "colab_type": "code",
        "colab": {}
      },
      "source": [
        "df.where(df['country']==\"Aus\", inplace = True)"
      ],
      "execution_count": 0,
      "outputs": []
    },
    {
      "cell_type": "code",
      "metadata": {
        "id": "kaI2ilJCWmoL",
        "colab_type": "code",
        "outputId": "0ffd6524-0724-4f59-e358-aac797337c1a",
        "colab": {
          "base_uri": "https://localhost:8080/",
          "height": 204
        }
      },
      "source": [
        "df"
      ],
      "execution_count": 0,
      "outputs": [
        {
          "output_type": "execute_result",
          "data": {
            "text/html": [
              "<div>\n",
              "<style scoped>\n",
              "    .dataframe tbody tr th:only-of-type {\n",
              "        vertical-align: middle;\n",
              "    }\n",
              "\n",
              "    .dataframe tbody tr th {\n",
              "        vertical-align: top;\n",
              "    }\n",
              "\n",
              "    .dataframe thead th {\n",
              "        text-align: right;\n",
              "    }\n",
              "</style>\n",
              "<table border=\"1\" class=\"dataframe\">\n",
              "  <thead>\n",
              "    <tr style=\"text-align: right;\">\n",
              "      <th></th>\n",
              "      <th>PName</th>\n",
              "      <th>Avg</th>\n",
              "      <th>country</th>\n",
              "      <th>StrikeRate</th>\n",
              "    </tr>\n",
              "  </thead>\n",
              "  <tbody>\n",
              "    <tr>\n",
              "      <th>0</th>\n",
              "      <td>NaN</td>\n",
              "      <td>NaN</td>\n",
              "      <td>NaN</td>\n",
              "      <td>NaN</td>\n",
              "    </tr>\n",
              "    <tr>\n",
              "      <th>1</th>\n",
              "      <td>Smith</td>\n",
              "      <td>65.2</td>\n",
              "      <td>Aus</td>\n",
              "      <td>87.5</td>\n",
              "    </tr>\n",
              "    <tr>\n",
              "      <th>2</th>\n",
              "      <td>NaN</td>\n",
              "      <td>NaN</td>\n",
              "      <td>NaN</td>\n",
              "      <td>NaN</td>\n",
              "    </tr>\n",
              "    <tr>\n",
              "      <th>3</th>\n",
              "      <td>NaN</td>\n",
              "      <td>NaN</td>\n",
              "      <td>NaN</td>\n",
              "      <td>NaN</td>\n",
              "    </tr>\n",
              "    <tr>\n",
              "      <th>4</th>\n",
              "      <td>Warner</td>\n",
              "      <td>49.2</td>\n",
              "      <td>Aus</td>\n",
              "      <td>95.8</td>\n",
              "    </tr>\n",
              "  </tbody>\n",
              "</table>\n",
              "</div>"
            ],
            "text/plain": [
              "    PName   Avg country  StrikeRate\n",
              "0     NaN   NaN     NaN         NaN\n",
              "1   Smith  65.2     Aus        87.5\n",
              "2     NaN   NaN     NaN         NaN\n",
              "3     NaN   NaN     NaN         NaN\n",
              "4  Warner  49.2     Aus        95.8"
            ]
          },
          "metadata": {
            "tags": []
          },
          "execution_count": 53
        }
      ]
    },
    {
      "cell_type": "code",
      "metadata": {
        "id": "43mnC6xTbvv1",
        "colab_type": "code",
        "outputId": "f060a83a-5f65-40ee-94bc-8029071aac2d",
        "colab": {
          "base_uri": "https://localhost:8080/",
          "height": 173
        }
      },
      "source": [
        "d = {'Day1':[795, 840, 61500, 870], 'Day2': [831, 65000, 62700, 67300],\n",
        "     'Day3' : [865, 66700, 64300, 850], \n",
        "     'Day4' : [65900, 835, 64950, 890] }\n",
        "df = pd.DataFrame(d)\n",
        "df"
      ],
      "execution_count": 0,
      "outputs": [
        {
          "output_type": "execute_result",
          "data": {
            "text/html": [
              "<div>\n",
              "<style scoped>\n",
              "    .dataframe tbody tr th:only-of-type {\n",
              "        vertical-align: middle;\n",
              "    }\n",
              "\n",
              "    .dataframe tbody tr th {\n",
              "        vertical-align: top;\n",
              "    }\n",
              "\n",
              "    .dataframe thead th {\n",
              "        text-align: right;\n",
              "    }\n",
              "</style>\n",
              "<table border=\"1\" class=\"dataframe\">\n",
              "  <thead>\n",
              "    <tr style=\"text-align: right;\">\n",
              "      <th></th>\n",
              "      <th>Day1</th>\n",
              "      <th>Day2</th>\n",
              "      <th>Day3</th>\n",
              "      <th>Day4</th>\n",
              "    </tr>\n",
              "  </thead>\n",
              "  <tbody>\n",
              "    <tr>\n",
              "      <th>0</th>\n",
              "      <td>795</td>\n",
              "      <td>831</td>\n",
              "      <td>865</td>\n",
              "      <td>65900</td>\n",
              "    </tr>\n",
              "    <tr>\n",
              "      <th>1</th>\n",
              "      <td>840</td>\n",
              "      <td>65000</td>\n",
              "      <td>66700</td>\n",
              "      <td>835</td>\n",
              "    </tr>\n",
              "    <tr>\n",
              "      <th>2</th>\n",
              "      <td>61500</td>\n",
              "      <td>62700</td>\n",
              "      <td>64300</td>\n",
              "      <td>64950</td>\n",
              "    </tr>\n",
              "    <tr>\n",
              "      <th>3</th>\n",
              "      <td>870</td>\n",
              "      <td>67300</td>\n",
              "      <td>850</td>\n",
              "      <td>890</td>\n",
              "    </tr>\n",
              "  </tbody>\n",
              "</table>\n",
              "</div>"
            ],
            "text/plain": [
              "    Day1   Day2   Day3   Day4\n",
              "0    795    831    865  65900\n",
              "1    840  65000  66700    835\n",
              "2  61500  62700  64300  64950\n",
              "3    870  67300    850    890"
            ]
          },
          "metadata": {
            "tags": []
          },
          "execution_count": 61
        }
      ]
    },
    {
      "cell_type": "code",
      "metadata": {
        "id": "8V4S_YX4bwAH",
        "colab_type": "code",
        "outputId": "15df6573-245c-4ace-f356-c4f79c31aeaa",
        "colab": {
          "base_uri": "https://localhost:8080/",
          "height": 173
        }
      },
      "source": [
        "cond = df < 1000\n",
        "df.where(cond, 0)"
      ],
      "execution_count": 0,
      "outputs": [
        {
          "output_type": "execute_result",
          "data": {
            "text/html": [
              "<div>\n",
              "<style scoped>\n",
              "    .dataframe tbody tr th:only-of-type {\n",
              "        vertical-align: middle;\n",
              "    }\n",
              "\n",
              "    .dataframe tbody tr th {\n",
              "        vertical-align: top;\n",
              "    }\n",
              "\n",
              "    .dataframe thead th {\n",
              "        text-align: right;\n",
              "    }\n",
              "</style>\n",
              "<table border=\"1\" class=\"dataframe\">\n",
              "  <thead>\n",
              "    <tr style=\"text-align: right;\">\n",
              "      <th></th>\n",
              "      <th>Day1</th>\n",
              "      <th>Day2</th>\n",
              "      <th>Day3</th>\n",
              "      <th>Day4</th>\n",
              "    </tr>\n",
              "  </thead>\n",
              "  <tbody>\n",
              "    <tr>\n",
              "      <th>0</th>\n",
              "      <td>795</td>\n",
              "      <td>831</td>\n",
              "      <td>865</td>\n",
              "      <td>0</td>\n",
              "    </tr>\n",
              "    <tr>\n",
              "      <th>1</th>\n",
              "      <td>840</td>\n",
              "      <td>0</td>\n",
              "      <td>0</td>\n",
              "      <td>835</td>\n",
              "    </tr>\n",
              "    <tr>\n",
              "      <th>2</th>\n",
              "      <td>0</td>\n",
              "      <td>0</td>\n",
              "      <td>0</td>\n",
              "      <td>0</td>\n",
              "    </tr>\n",
              "    <tr>\n",
              "      <th>3</th>\n",
              "      <td>870</td>\n",
              "      <td>0</td>\n",
              "      <td>850</td>\n",
              "      <td>890</td>\n",
              "    </tr>\n",
              "  </tbody>\n",
              "</table>\n",
              "</div>"
            ],
            "text/plain": [
              "   Day1  Day2  Day3  Day4\n",
              "0   795   831   865     0\n",
              "1   840     0     0   835\n",
              "2     0     0     0     0\n",
              "3   870     0   850   890"
            ]
          },
          "metadata": {
            "tags": []
          },
          "execution_count": 62
        }
      ]
    },
    {
      "cell_type": "code",
      "metadata": {
        "id": "QO1S54pjWmro",
        "colab_type": "code",
        "outputId": "6a7011ab-4cac-4e43-f5a6-28e902ee52cd",
        "colab": {
          "base_uri": "https://localhost:8080/",
          "height": 204
        }
      },
      "source": [
        "#Multiple conditions\n",
        "d = {'PName':['Kohli','Smith', 'Kane', 'Root', 'Warner'], 'Avg': [59.7, 65.2, 55.9, 52.7, 49.2],\n",
        "     'country' : ['Ind', 'Aus', 'Nz', 'Eng', 'Aus'], \n",
        "     'StrikeRate' : [92.7, 87.5, 91.1, 90.3, 95.8] }\n",
        "df = pd.DataFrame(d)\n",
        "df"
      ],
      "execution_count": 0,
      "outputs": [
        {
          "output_type": "execute_result",
          "data": {
            "text/html": [
              "<div>\n",
              "<style scoped>\n",
              "    .dataframe tbody tr th:only-of-type {\n",
              "        vertical-align: middle;\n",
              "    }\n",
              "\n",
              "    .dataframe tbody tr th {\n",
              "        vertical-align: top;\n",
              "    }\n",
              "\n",
              "    .dataframe thead th {\n",
              "        text-align: right;\n",
              "    }\n",
              "</style>\n",
              "<table border=\"1\" class=\"dataframe\">\n",
              "  <thead>\n",
              "    <tr style=\"text-align: right;\">\n",
              "      <th></th>\n",
              "      <th>PName</th>\n",
              "      <th>Avg</th>\n",
              "      <th>country</th>\n",
              "      <th>StrikeRate</th>\n",
              "    </tr>\n",
              "  </thead>\n",
              "  <tbody>\n",
              "    <tr>\n",
              "      <th>0</th>\n",
              "      <td>Kohli</td>\n",
              "      <td>59.7</td>\n",
              "      <td>Ind</td>\n",
              "      <td>92.7</td>\n",
              "    </tr>\n",
              "    <tr>\n",
              "      <th>1</th>\n",
              "      <td>Smith</td>\n",
              "      <td>65.2</td>\n",
              "      <td>Aus</td>\n",
              "      <td>87.5</td>\n",
              "    </tr>\n",
              "    <tr>\n",
              "      <th>2</th>\n",
              "      <td>Kane</td>\n",
              "      <td>55.9</td>\n",
              "      <td>Nz</td>\n",
              "      <td>91.1</td>\n",
              "    </tr>\n",
              "    <tr>\n",
              "      <th>3</th>\n",
              "      <td>Root</td>\n",
              "      <td>52.7</td>\n",
              "      <td>Eng</td>\n",
              "      <td>90.3</td>\n",
              "    </tr>\n",
              "    <tr>\n",
              "      <th>4</th>\n",
              "      <td>Warner</td>\n",
              "      <td>49.2</td>\n",
              "      <td>Aus</td>\n",
              "      <td>95.8</td>\n",
              "    </tr>\n",
              "  </tbody>\n",
              "</table>\n",
              "</div>"
            ],
            "text/plain": [
              "    PName   Avg country  StrikeRate\n",
              "0   Kohli  59.7     Ind        92.7\n",
              "1   Smith  65.2     Aus        87.5\n",
              "2    Kane  55.9      Nz        91.1\n",
              "3    Root  52.7     Eng        90.3\n",
              "4  Warner  49.2     Aus        95.8"
            ]
          },
          "metadata": {
            "tags": []
          },
          "execution_count": 56
        }
      ]
    },
    {
      "cell_type": "code",
      "metadata": {
        "id": "02xzXpxIWzf0",
        "colab_type": "code",
        "colab": {}
      },
      "source": [
        "\n",
        "cond1 = df['country']== 'Aus'\n",
        "cond2 = df['Avg']>55\n",
        "df.where(cond1 & cond2, inplace = True)\n"
      ],
      "execution_count": 0,
      "outputs": []
    },
    {
      "cell_type": "code",
      "metadata": {
        "id": "UI9h8fqQX0cb",
        "colab_type": "code",
        "outputId": "c7a5b8c8-c9a5-4375-bcc1-73a21e40cc43",
        "colab": {
          "base_uri": "https://localhost:8080/",
          "height": 204
        }
      },
      "source": [
        "df"
      ],
      "execution_count": 0,
      "outputs": [
        {
          "output_type": "execute_result",
          "data": {
            "text/html": [
              "<div>\n",
              "<style scoped>\n",
              "    .dataframe tbody tr th:only-of-type {\n",
              "        vertical-align: middle;\n",
              "    }\n",
              "\n",
              "    .dataframe tbody tr th {\n",
              "        vertical-align: top;\n",
              "    }\n",
              "\n",
              "    .dataframe thead th {\n",
              "        text-align: right;\n",
              "    }\n",
              "</style>\n",
              "<table border=\"1\" class=\"dataframe\">\n",
              "  <thead>\n",
              "    <tr style=\"text-align: right;\">\n",
              "      <th></th>\n",
              "      <th>PName</th>\n",
              "      <th>Avg</th>\n",
              "      <th>country</th>\n",
              "      <th>StrikeRate</th>\n",
              "    </tr>\n",
              "  </thead>\n",
              "  <tbody>\n",
              "    <tr>\n",
              "      <th>0</th>\n",
              "      <td>NaN</td>\n",
              "      <td>NaN</td>\n",
              "      <td>NaN</td>\n",
              "      <td>NaN</td>\n",
              "    </tr>\n",
              "    <tr>\n",
              "      <th>1</th>\n",
              "      <td>Smith</td>\n",
              "      <td>65.2</td>\n",
              "      <td>Aus</td>\n",
              "      <td>87.5</td>\n",
              "    </tr>\n",
              "    <tr>\n",
              "      <th>2</th>\n",
              "      <td>NaN</td>\n",
              "      <td>NaN</td>\n",
              "      <td>NaN</td>\n",
              "      <td>NaN</td>\n",
              "    </tr>\n",
              "    <tr>\n",
              "      <th>3</th>\n",
              "      <td>NaN</td>\n",
              "      <td>NaN</td>\n",
              "      <td>NaN</td>\n",
              "      <td>NaN</td>\n",
              "    </tr>\n",
              "    <tr>\n",
              "      <th>4</th>\n",
              "      <td>NaN</td>\n",
              "      <td>NaN</td>\n",
              "      <td>NaN</td>\n",
              "      <td>NaN</td>\n",
              "    </tr>\n",
              "  </tbody>\n",
              "</table>\n",
              "</div>"
            ],
            "text/plain": [
              "   PName   Avg country  StrikeRate\n",
              "0    NaN   NaN     NaN         NaN\n",
              "1  Smith  65.2     Aus        87.5\n",
              "2    NaN   NaN     NaN         NaN\n",
              "3    NaN   NaN     NaN         NaN\n",
              "4    NaN   NaN     NaN         NaN"
            ]
          },
          "metadata": {
            "tags": []
          },
          "execution_count": 58
        }
      ]
    },
    {
      "cell_type": "markdown",
      "metadata": {
        "id": "dMfMNyeJYISi",
        "colab_type": "text"
      },
      "source": [
        "query(expr, inplace)\n",
        "expression to evaluate"
      ]
    },
    {
      "cell_type": "code",
      "metadata": {
        "id": "k866db2OYSdM",
        "colab_type": "code",
        "outputId": "f56a1f7e-cc0d-402b-b218-525351bf3a3a",
        "colab": {
          "base_uri": "https://localhost:8080/",
          "height": 204
        }
      },
      "source": [
        "d = {'PName':['Kohli','Smith', 'Kane', 'Root', 'Warner'], 'Avg': [59.7, 65.2, 55.9, 52.7, 49.2],\n",
        "     'country' : ['Ind', 'Aus', 'Nz', 'Eng', 'Aus'], \n",
        "     'StrikeRate' : [92.7, 87.5, 91.1, 90.3, 95.8] }\n",
        "df = pd.DataFrame(d)\n",
        "df"
      ],
      "execution_count": 0,
      "outputs": [
        {
          "output_type": "execute_result",
          "data": {
            "text/html": [
              "<div>\n",
              "<style scoped>\n",
              "    .dataframe tbody tr th:only-of-type {\n",
              "        vertical-align: middle;\n",
              "    }\n",
              "\n",
              "    .dataframe tbody tr th {\n",
              "        vertical-align: top;\n",
              "    }\n",
              "\n",
              "    .dataframe thead th {\n",
              "        text-align: right;\n",
              "    }\n",
              "</style>\n",
              "<table border=\"1\" class=\"dataframe\">\n",
              "  <thead>\n",
              "    <tr style=\"text-align: right;\">\n",
              "      <th></th>\n",
              "      <th>PName</th>\n",
              "      <th>Avg</th>\n",
              "      <th>country</th>\n",
              "      <th>StrikeRate</th>\n",
              "    </tr>\n",
              "  </thead>\n",
              "  <tbody>\n",
              "    <tr>\n",
              "      <th>0</th>\n",
              "      <td>Kohli</td>\n",
              "      <td>59.7</td>\n",
              "      <td>Ind</td>\n",
              "      <td>92.7</td>\n",
              "    </tr>\n",
              "    <tr>\n",
              "      <th>1</th>\n",
              "      <td>Smith</td>\n",
              "      <td>65.2</td>\n",
              "      <td>Aus</td>\n",
              "      <td>87.5</td>\n",
              "    </tr>\n",
              "    <tr>\n",
              "      <th>2</th>\n",
              "      <td>Kane</td>\n",
              "      <td>55.9</td>\n",
              "      <td>Nz</td>\n",
              "      <td>91.1</td>\n",
              "    </tr>\n",
              "    <tr>\n",
              "      <th>3</th>\n",
              "      <td>Root</td>\n",
              "      <td>52.7</td>\n",
              "      <td>Eng</td>\n",
              "      <td>90.3</td>\n",
              "    </tr>\n",
              "    <tr>\n",
              "      <th>4</th>\n",
              "      <td>Warner</td>\n",
              "      <td>49.2</td>\n",
              "      <td>Aus</td>\n",
              "      <td>95.8</td>\n",
              "    </tr>\n",
              "  </tbody>\n",
              "</table>\n",
              "</div>"
            ],
            "text/plain": [
              "    PName   Avg country  StrikeRate\n",
              "0   Kohli  59.7     Ind        92.7\n",
              "1   Smith  65.2     Aus        87.5\n",
              "2    Kane  55.9      Nz        91.1\n",
              "3    Root  52.7     Eng        90.3\n",
              "4  Warner  49.2     Aus        95.8"
            ]
          },
          "metadata": {
            "tags": []
          },
          "execution_count": 59
        }
      ]
    },
    {
      "cell_type": "code",
      "metadata": {
        "id": "-dgtm59zYSgu",
        "colab_type": "code",
        "outputId": "aef3bd10-c327-4780-d28a-e48c4cae4e4e",
        "colab": {
          "base_uri": "https://localhost:8080/",
          "height": 142
        }
      },
      "source": [
        "df.query('Avg > 55', inplace = True)\n",
        "df"
      ],
      "execution_count": 0,
      "outputs": [
        {
          "output_type": "execute_result",
          "data": {
            "text/html": [
              "<div>\n",
              "<style scoped>\n",
              "    .dataframe tbody tr th:only-of-type {\n",
              "        vertical-align: middle;\n",
              "    }\n",
              "\n",
              "    .dataframe tbody tr th {\n",
              "        vertical-align: top;\n",
              "    }\n",
              "\n",
              "    .dataframe thead th {\n",
              "        text-align: right;\n",
              "    }\n",
              "</style>\n",
              "<table border=\"1\" class=\"dataframe\">\n",
              "  <thead>\n",
              "    <tr style=\"text-align: right;\">\n",
              "      <th></th>\n",
              "      <th>PName</th>\n",
              "      <th>Avg</th>\n",
              "      <th>country</th>\n",
              "      <th>StrikeRate</th>\n",
              "    </tr>\n",
              "  </thead>\n",
              "  <tbody>\n",
              "    <tr>\n",
              "      <th>0</th>\n",
              "      <td>Kohli</td>\n",
              "      <td>59.7</td>\n",
              "      <td>Ind</td>\n",
              "      <td>92.7</td>\n",
              "    </tr>\n",
              "    <tr>\n",
              "      <th>1</th>\n",
              "      <td>Smith</td>\n",
              "      <td>65.2</td>\n",
              "      <td>Aus</td>\n",
              "      <td>87.5</td>\n",
              "    </tr>\n",
              "    <tr>\n",
              "      <th>2</th>\n",
              "      <td>Kane</td>\n",
              "      <td>55.9</td>\n",
              "      <td>Nz</td>\n",
              "      <td>91.1</td>\n",
              "    </tr>\n",
              "  </tbody>\n",
              "</table>\n",
              "</div>"
            ],
            "text/plain": [
              "   PName   Avg country  StrikeRate\n",
              "0  Kohli  59.7     Ind        92.7\n",
              "1  Smith  65.2     Aus        87.5\n",
              "2   Kane  55.9      Nz        91.1"
            ]
          },
          "metadata": {
            "tags": []
          },
          "execution_count": 60
        }
      ]
    },
    {
      "cell_type": "markdown",
      "metadata": {
        "id": "N9Pd4uW6g4hm",
        "colab_type": "text"
      },
      "source": [
        "copy(deep=True/False)\n",
        "True = makes a copy of the data and indices\n",
        "False = neither the indices nor the data is copied"
      ]
    },
    {
      "cell_type": "code",
      "metadata": {
        "id": "y-W9H9dig3Sd",
        "colab_type": "code",
        "outputId": "6e030fa2-2b0e-4394-eed9-9c7826a0edc6",
        "colab": {
          "base_uri": "https://localhost:8080/",
          "height": 204
        }
      },
      "source": [
        "#create dataframe\n",
        "d = {'PName':['Kohli','Smith', 'Kane', 'Root', 'Warner'], 'Avg': [59.7, 65.2, 55.9, 52.7, 49.2],\n",
        "     'country' : ['Ind', 'Aus', 'Nz', 'Eng', 'Aus'], \n",
        "     'StrikeRate' : [92.7, 87.5, 91.1, 90.3, 95.8] }\n",
        "df = pd.DataFrame(d)\n",
        "df"
      ],
      "execution_count": 0,
      "outputs": [
        {
          "output_type": "execute_result",
          "data": {
            "text/html": [
              "<div>\n",
              "<style scoped>\n",
              "    .dataframe tbody tr th:only-of-type {\n",
              "        vertical-align: middle;\n",
              "    }\n",
              "\n",
              "    .dataframe tbody tr th {\n",
              "        vertical-align: top;\n",
              "    }\n",
              "\n",
              "    .dataframe thead th {\n",
              "        text-align: right;\n",
              "    }\n",
              "</style>\n",
              "<table border=\"1\" class=\"dataframe\">\n",
              "  <thead>\n",
              "    <tr style=\"text-align: right;\">\n",
              "      <th></th>\n",
              "      <th>PName</th>\n",
              "      <th>Avg</th>\n",
              "      <th>country</th>\n",
              "      <th>StrikeRate</th>\n",
              "    </tr>\n",
              "  </thead>\n",
              "  <tbody>\n",
              "    <tr>\n",
              "      <th>0</th>\n",
              "      <td>Kohli</td>\n",
              "      <td>59.7</td>\n",
              "      <td>Ind</td>\n",
              "      <td>92.7</td>\n",
              "    </tr>\n",
              "    <tr>\n",
              "      <th>1</th>\n",
              "      <td>Smith</td>\n",
              "      <td>65.2</td>\n",
              "      <td>Aus</td>\n",
              "      <td>87.5</td>\n",
              "    </tr>\n",
              "    <tr>\n",
              "      <th>2</th>\n",
              "      <td>Kane</td>\n",
              "      <td>55.9</td>\n",
              "      <td>Nz</td>\n",
              "      <td>91.1</td>\n",
              "    </tr>\n",
              "    <tr>\n",
              "      <th>3</th>\n",
              "      <td>Root</td>\n",
              "      <td>52.7</td>\n",
              "      <td>Eng</td>\n",
              "      <td>90.3</td>\n",
              "    </tr>\n",
              "    <tr>\n",
              "      <th>4</th>\n",
              "      <td>Warner</td>\n",
              "      <td>49.2</td>\n",
              "      <td>Aus</td>\n",
              "      <td>95.8</td>\n",
              "    </tr>\n",
              "  </tbody>\n",
              "</table>\n",
              "</div>"
            ],
            "text/plain": [
              "    PName   Avg country  StrikeRate\n",
              "0   Kohli  59.7     Ind        92.7\n",
              "1   Smith  65.2     Aus        87.5\n",
              "2    Kane  55.9      Nz        91.1\n",
              "3    Root  52.7     Eng        90.3\n",
              "4  Warner  49.2     Aus        95.8"
            ]
          },
          "metadata": {
            "tags": []
          },
          "execution_count": 63
        }
      ]
    },
    {
      "cell_type": "code",
      "metadata": {
        "id": "qrPMsIyxYSx1",
        "colab_type": "code",
        "colab": {}
      },
      "source": [
        "df1 = df.copy(deep = True)"
      ],
      "execution_count": 0,
      "outputs": []
    },
    {
      "cell_type": "code",
      "metadata": {
        "id": "4q46WS32YSqv",
        "colab_type": "code",
        "outputId": "597b6aec-7aaf-4def-f952-8f18ca40e8ec",
        "colab": {
          "base_uri": "https://localhost:8080/",
          "height": 204
        }
      },
      "source": [
        "df1"
      ],
      "execution_count": 0,
      "outputs": [
        {
          "output_type": "execute_result",
          "data": {
            "text/html": [
              "<div>\n",
              "<style scoped>\n",
              "    .dataframe tbody tr th:only-of-type {\n",
              "        vertical-align: middle;\n",
              "    }\n",
              "\n",
              "    .dataframe tbody tr th {\n",
              "        vertical-align: top;\n",
              "    }\n",
              "\n",
              "    .dataframe thead th {\n",
              "        text-align: right;\n",
              "    }\n",
              "</style>\n",
              "<table border=\"1\" class=\"dataframe\">\n",
              "  <thead>\n",
              "    <tr style=\"text-align: right;\">\n",
              "      <th></th>\n",
              "      <th>PName</th>\n",
              "      <th>Avg</th>\n",
              "      <th>country</th>\n",
              "      <th>StrikeRate</th>\n",
              "    </tr>\n",
              "  </thead>\n",
              "  <tbody>\n",
              "    <tr>\n",
              "      <th>0</th>\n",
              "      <td>Kohli</td>\n",
              "      <td>59.7</td>\n",
              "      <td>Ind</td>\n",
              "      <td>92.7</td>\n",
              "    </tr>\n",
              "    <tr>\n",
              "      <th>1</th>\n",
              "      <td>Smith</td>\n",
              "      <td>65.2</td>\n",
              "      <td>Aus</td>\n",
              "      <td>87.5</td>\n",
              "    </tr>\n",
              "    <tr>\n",
              "      <th>2</th>\n",
              "      <td>Kane</td>\n",
              "      <td>55.9</td>\n",
              "      <td>Nz</td>\n",
              "      <td>91.1</td>\n",
              "    </tr>\n",
              "    <tr>\n",
              "      <th>3</th>\n",
              "      <td>Root</td>\n",
              "      <td>52.7</td>\n",
              "      <td>Eng</td>\n",
              "      <td>90.3</td>\n",
              "    </tr>\n",
              "    <tr>\n",
              "      <th>4</th>\n",
              "      <td>Warner</td>\n",
              "      <td>49.2</td>\n",
              "      <td>Aus</td>\n",
              "      <td>95.8</td>\n",
              "    </tr>\n",
              "  </tbody>\n",
              "</table>\n",
              "</div>"
            ],
            "text/plain": [
              "    PName   Avg country  StrikeRate\n",
              "0   Kohli  59.7     Ind        92.7\n",
              "1   Smith  65.2     Aus        87.5\n",
              "2    Kane  55.9      Nz        91.1\n",
              "3    Root  52.7     Eng        90.3\n",
              "4  Warner  49.2     Aus        95.8"
            ]
          },
          "metadata": {
            "tags": []
          },
          "execution_count": 65
        }
      ]
    },
    {
      "cell_type": "code",
      "metadata": {
        "id": "wHnd5e7qYSoO",
        "colab_type": "code",
        "colab": {}
      },
      "source": [
        "df1.iloc[4,0] = 'Finch'"
      ],
      "execution_count": 0,
      "outputs": []
    },
    {
      "cell_type": "code",
      "metadata": {
        "id": "izqkOSGDYSk5",
        "colab_type": "code",
        "outputId": "200e39e4-b4ae-4f89-8c8a-4aa45abc795b",
        "colab": {
          "base_uri": "https://localhost:8080/",
          "height": 204
        }
      },
      "source": [
        "df1"
      ],
      "execution_count": 0,
      "outputs": [
        {
          "output_type": "execute_result",
          "data": {
            "text/html": [
              "<div>\n",
              "<style scoped>\n",
              "    .dataframe tbody tr th:only-of-type {\n",
              "        vertical-align: middle;\n",
              "    }\n",
              "\n",
              "    .dataframe tbody tr th {\n",
              "        vertical-align: top;\n",
              "    }\n",
              "\n",
              "    .dataframe thead th {\n",
              "        text-align: right;\n",
              "    }\n",
              "</style>\n",
              "<table border=\"1\" class=\"dataframe\">\n",
              "  <thead>\n",
              "    <tr style=\"text-align: right;\">\n",
              "      <th></th>\n",
              "      <th>PName</th>\n",
              "      <th>Avg</th>\n",
              "      <th>country</th>\n",
              "      <th>StrikeRate</th>\n",
              "    </tr>\n",
              "  </thead>\n",
              "  <tbody>\n",
              "    <tr>\n",
              "      <th>0</th>\n",
              "      <td>Kohli</td>\n",
              "      <td>59.7</td>\n",
              "      <td>Ind</td>\n",
              "      <td>92.7</td>\n",
              "    </tr>\n",
              "    <tr>\n",
              "      <th>1</th>\n",
              "      <td>Smith</td>\n",
              "      <td>65.2</td>\n",
              "      <td>Aus</td>\n",
              "      <td>87.5</td>\n",
              "    </tr>\n",
              "    <tr>\n",
              "      <th>2</th>\n",
              "      <td>Kane</td>\n",
              "      <td>55.9</td>\n",
              "      <td>Nz</td>\n",
              "      <td>91.1</td>\n",
              "    </tr>\n",
              "    <tr>\n",
              "      <th>3</th>\n",
              "      <td>Root</td>\n",
              "      <td>52.7</td>\n",
              "      <td>Eng</td>\n",
              "      <td>90.3</td>\n",
              "    </tr>\n",
              "    <tr>\n",
              "      <th>4</th>\n",
              "      <td>Finch</td>\n",
              "      <td>49.2</td>\n",
              "      <td>Aus</td>\n",
              "      <td>95.8</td>\n",
              "    </tr>\n",
              "  </tbody>\n",
              "</table>\n",
              "</div>"
            ],
            "text/plain": [
              "   PName   Avg country  StrikeRate\n",
              "0  Kohli  59.7     Ind        92.7\n",
              "1  Smith  65.2     Aus        87.5\n",
              "2   Kane  55.9      Nz        91.1\n",
              "3   Root  52.7     Eng        90.3\n",
              "4  Finch  49.2     Aus        95.8"
            ]
          },
          "metadata": {
            "tags": []
          },
          "execution_count": 67
        }
      ]
    },
    {
      "cell_type": "code",
      "metadata": {
        "id": "wgBi3UG0lkET",
        "colab_type": "code",
        "outputId": "a79839ea-99cf-4136-e22c-321f4b56a77b",
        "colab": {
          "base_uri": "https://localhost:8080/",
          "height": 204
        }
      },
      "source": [
        "df"
      ],
      "execution_count": 0,
      "outputs": [
        {
          "output_type": "execute_result",
          "data": {
            "text/html": [
              "<div>\n",
              "<style scoped>\n",
              "    .dataframe tbody tr th:only-of-type {\n",
              "        vertical-align: middle;\n",
              "    }\n",
              "\n",
              "    .dataframe tbody tr th {\n",
              "        vertical-align: top;\n",
              "    }\n",
              "\n",
              "    .dataframe thead th {\n",
              "        text-align: right;\n",
              "    }\n",
              "</style>\n",
              "<table border=\"1\" class=\"dataframe\">\n",
              "  <thead>\n",
              "    <tr style=\"text-align: right;\">\n",
              "      <th></th>\n",
              "      <th>PName</th>\n",
              "      <th>Avg</th>\n",
              "      <th>country</th>\n",
              "      <th>StrikeRate</th>\n",
              "    </tr>\n",
              "  </thead>\n",
              "  <tbody>\n",
              "    <tr>\n",
              "      <th>0</th>\n",
              "      <td>Kohli</td>\n",
              "      <td>59.7</td>\n",
              "      <td>Ind</td>\n",
              "      <td>92.7</td>\n",
              "    </tr>\n",
              "    <tr>\n",
              "      <th>1</th>\n",
              "      <td>Smith</td>\n",
              "      <td>65.2</td>\n",
              "      <td>Aus</td>\n",
              "      <td>87.5</td>\n",
              "    </tr>\n",
              "    <tr>\n",
              "      <th>2</th>\n",
              "      <td>Kane</td>\n",
              "      <td>55.9</td>\n",
              "      <td>Nz</td>\n",
              "      <td>91.1</td>\n",
              "    </tr>\n",
              "    <tr>\n",
              "      <th>3</th>\n",
              "      <td>Root</td>\n",
              "      <td>52.7</td>\n",
              "      <td>Eng</td>\n",
              "      <td>90.3</td>\n",
              "    </tr>\n",
              "    <tr>\n",
              "      <th>4</th>\n",
              "      <td>Warner</td>\n",
              "      <td>49.2</td>\n",
              "      <td>Aus</td>\n",
              "      <td>95.8</td>\n",
              "    </tr>\n",
              "  </tbody>\n",
              "</table>\n",
              "</div>"
            ],
            "text/plain": [
              "    PName   Avg country  StrikeRate\n",
              "0   Kohli  59.7     Ind        92.7\n",
              "1   Smith  65.2     Aus        87.5\n",
              "2    Kane  55.9      Nz        91.1\n",
              "3    Root  52.7     Eng        90.3\n",
              "4  Warner  49.2     Aus        95.8"
            ]
          },
          "metadata": {
            "tags": []
          },
          "execution_count": 68
        }
      ]
    },
    {
      "cell_type": "code",
      "metadata": {
        "id": "9uCCPNNIlkRV",
        "colab_type": "code",
        "outputId": "f0d5c913-cfba-494f-d5e2-0d892375bdae",
        "colab": {
          "base_uri": "https://localhost:8080/",
          "height": 204
        }
      },
      "source": [
        "df2 = df.copy(deep = False)\n",
        "df2"
      ],
      "execution_count": 0,
      "outputs": [
        {
          "output_type": "execute_result",
          "data": {
            "text/html": [
              "<div>\n",
              "<style scoped>\n",
              "    .dataframe tbody tr th:only-of-type {\n",
              "        vertical-align: middle;\n",
              "    }\n",
              "\n",
              "    .dataframe tbody tr th {\n",
              "        vertical-align: top;\n",
              "    }\n",
              "\n",
              "    .dataframe thead th {\n",
              "        text-align: right;\n",
              "    }\n",
              "</style>\n",
              "<table border=\"1\" class=\"dataframe\">\n",
              "  <thead>\n",
              "    <tr style=\"text-align: right;\">\n",
              "      <th></th>\n",
              "      <th>PName</th>\n",
              "      <th>Avg</th>\n",
              "      <th>country</th>\n",
              "      <th>StrikeRate</th>\n",
              "    </tr>\n",
              "  </thead>\n",
              "  <tbody>\n",
              "    <tr>\n",
              "      <th>0</th>\n",
              "      <td>Kohli</td>\n",
              "      <td>59.7</td>\n",
              "      <td>Ind</td>\n",
              "      <td>92.7</td>\n",
              "    </tr>\n",
              "    <tr>\n",
              "      <th>1</th>\n",
              "      <td>Smith</td>\n",
              "      <td>65.2</td>\n",
              "      <td>Aus</td>\n",
              "      <td>87.5</td>\n",
              "    </tr>\n",
              "    <tr>\n",
              "      <th>2</th>\n",
              "      <td>Kane</td>\n",
              "      <td>55.9</td>\n",
              "      <td>Nz</td>\n",
              "      <td>91.1</td>\n",
              "    </tr>\n",
              "    <tr>\n",
              "      <th>3</th>\n",
              "      <td>Root</td>\n",
              "      <td>52.7</td>\n",
              "      <td>Eng</td>\n",
              "      <td>90.3</td>\n",
              "    </tr>\n",
              "    <tr>\n",
              "      <th>4</th>\n",
              "      <td>Warner</td>\n",
              "      <td>49.2</td>\n",
              "      <td>Aus</td>\n",
              "      <td>95.8</td>\n",
              "    </tr>\n",
              "  </tbody>\n",
              "</table>\n",
              "</div>"
            ],
            "text/plain": [
              "    PName   Avg country  StrikeRate\n",
              "0   Kohli  59.7     Ind        92.7\n",
              "1   Smith  65.2     Aus        87.5\n",
              "2    Kane  55.9      Nz        91.1\n",
              "3    Root  52.7     Eng        90.3\n",
              "4  Warner  49.2     Aus        95.8"
            ]
          },
          "metadata": {
            "tags": []
          },
          "execution_count": 70
        }
      ]
    },
    {
      "cell_type": "code",
      "metadata": {
        "id": "LSOfymBLlkAU",
        "colab_type": "code",
        "colab": {}
      },
      "source": [
        "df2.iloc[4,0] = 'Marsh'"
      ],
      "execution_count": 0,
      "outputs": []
    },
    {
      "cell_type": "code",
      "metadata": {
        "id": "kIKg8FeHl1wy",
        "colab_type": "code",
        "outputId": "01a0f5ca-0b86-4b0b-d6f4-4dd9671ee904",
        "colab": {
          "base_uri": "https://localhost:8080/",
          "height": 204
        }
      },
      "source": [
        "df2"
      ],
      "execution_count": 0,
      "outputs": [
        {
          "output_type": "execute_result",
          "data": {
            "text/html": [
              "<div>\n",
              "<style scoped>\n",
              "    .dataframe tbody tr th:only-of-type {\n",
              "        vertical-align: middle;\n",
              "    }\n",
              "\n",
              "    .dataframe tbody tr th {\n",
              "        vertical-align: top;\n",
              "    }\n",
              "\n",
              "    .dataframe thead th {\n",
              "        text-align: right;\n",
              "    }\n",
              "</style>\n",
              "<table border=\"1\" class=\"dataframe\">\n",
              "  <thead>\n",
              "    <tr style=\"text-align: right;\">\n",
              "      <th></th>\n",
              "      <th>PName</th>\n",
              "      <th>Avg</th>\n",
              "      <th>country</th>\n",
              "      <th>StrikeRate</th>\n",
              "    </tr>\n",
              "  </thead>\n",
              "  <tbody>\n",
              "    <tr>\n",
              "      <th>0</th>\n",
              "      <td>Kohli</td>\n",
              "      <td>59.7</td>\n",
              "      <td>Ind</td>\n",
              "      <td>92.7</td>\n",
              "    </tr>\n",
              "    <tr>\n",
              "      <th>1</th>\n",
              "      <td>Smith</td>\n",
              "      <td>65.2</td>\n",
              "      <td>Aus</td>\n",
              "      <td>87.5</td>\n",
              "    </tr>\n",
              "    <tr>\n",
              "      <th>2</th>\n",
              "      <td>Kane</td>\n",
              "      <td>55.9</td>\n",
              "      <td>Nz</td>\n",
              "      <td>91.1</td>\n",
              "    </tr>\n",
              "    <tr>\n",
              "      <th>3</th>\n",
              "      <td>Root</td>\n",
              "      <td>52.7</td>\n",
              "      <td>Eng</td>\n",
              "      <td>90.3</td>\n",
              "    </tr>\n",
              "    <tr>\n",
              "      <th>4</th>\n",
              "      <td>Marsh</td>\n",
              "      <td>49.2</td>\n",
              "      <td>Aus</td>\n",
              "      <td>95.8</td>\n",
              "    </tr>\n",
              "  </tbody>\n",
              "</table>\n",
              "</div>"
            ],
            "text/plain": [
              "   PName   Avg country  StrikeRate\n",
              "0  Kohli  59.7     Ind        92.7\n",
              "1  Smith  65.2     Aus        87.5\n",
              "2   Kane  55.9      Nz        91.1\n",
              "3   Root  52.7     Eng        90.3\n",
              "4  Marsh  49.2     Aus        95.8"
            ]
          },
          "metadata": {
            "tags": []
          },
          "execution_count": 72
        }
      ]
    },
    {
      "cell_type": "code",
      "metadata": {
        "id": "g22RBfDal1tk",
        "colab_type": "code",
        "outputId": "e352fcfb-9dbf-4cce-aca9-c854264160e9",
        "colab": {
          "base_uri": "https://localhost:8080/",
          "height": 204
        }
      },
      "source": [
        "df"
      ],
      "execution_count": 0,
      "outputs": [
        {
          "output_type": "execute_result",
          "data": {
            "text/html": [
              "<div>\n",
              "<style scoped>\n",
              "    .dataframe tbody tr th:only-of-type {\n",
              "        vertical-align: middle;\n",
              "    }\n",
              "\n",
              "    .dataframe tbody tr th {\n",
              "        vertical-align: top;\n",
              "    }\n",
              "\n",
              "    .dataframe thead th {\n",
              "        text-align: right;\n",
              "    }\n",
              "</style>\n",
              "<table border=\"1\" class=\"dataframe\">\n",
              "  <thead>\n",
              "    <tr style=\"text-align: right;\">\n",
              "      <th></th>\n",
              "      <th>PName</th>\n",
              "      <th>Avg</th>\n",
              "      <th>country</th>\n",
              "      <th>StrikeRate</th>\n",
              "    </tr>\n",
              "  </thead>\n",
              "  <tbody>\n",
              "    <tr>\n",
              "      <th>0</th>\n",
              "      <td>Kohli</td>\n",
              "      <td>59.7</td>\n",
              "      <td>Ind</td>\n",
              "      <td>92.7</td>\n",
              "    </tr>\n",
              "    <tr>\n",
              "      <th>1</th>\n",
              "      <td>Smith</td>\n",
              "      <td>65.2</td>\n",
              "      <td>Aus</td>\n",
              "      <td>87.5</td>\n",
              "    </tr>\n",
              "    <tr>\n",
              "      <th>2</th>\n",
              "      <td>Kane</td>\n",
              "      <td>55.9</td>\n",
              "      <td>Nz</td>\n",
              "      <td>91.1</td>\n",
              "    </tr>\n",
              "    <tr>\n",
              "      <th>3</th>\n",
              "      <td>Root</td>\n",
              "      <td>52.7</td>\n",
              "      <td>Eng</td>\n",
              "      <td>90.3</td>\n",
              "    </tr>\n",
              "    <tr>\n",
              "      <th>4</th>\n",
              "      <td>Marsh</td>\n",
              "      <td>49.2</td>\n",
              "      <td>Aus</td>\n",
              "      <td>95.8</td>\n",
              "    </tr>\n",
              "  </tbody>\n",
              "</table>\n",
              "</div>"
            ],
            "text/plain": [
              "   PName   Avg country  StrikeRate\n",
              "0  Kohli  59.7     Ind        92.7\n",
              "1  Smith  65.2     Aus        87.5\n",
              "2   Kane  55.9      Nz        91.1\n",
              "3   Root  52.7     Eng        90.3\n",
              "4  Marsh  49.2     Aus        95.8"
            ]
          },
          "metadata": {
            "tags": []
          },
          "execution_count": 73
        }
      ]
    },
    {
      "cell_type": "code",
      "metadata": {
        "id": "RLkj4XFil4ot",
        "colab_type": "code",
        "colab": {}
      },
      "source": [
        "df.iloc[4,0] = 'Shaun'"
      ],
      "execution_count": 0,
      "outputs": []
    },
    {
      "cell_type": "code",
      "metadata": {
        "id": "k59DQicRJYml",
        "colab_type": "code",
        "outputId": "b0b82342-b7bb-4ea9-abe3-98da25cc36fa",
        "colab": {
          "base_uri": "https://localhost:8080/",
          "height": 204
        }
      },
      "source": [
        "df"
      ],
      "execution_count": 0,
      "outputs": [
        {
          "output_type": "execute_result",
          "data": {
            "text/html": [
              "<div>\n",
              "<style scoped>\n",
              "    .dataframe tbody tr th:only-of-type {\n",
              "        vertical-align: middle;\n",
              "    }\n",
              "\n",
              "    .dataframe tbody tr th {\n",
              "        vertical-align: top;\n",
              "    }\n",
              "\n",
              "    .dataframe thead th {\n",
              "        text-align: right;\n",
              "    }\n",
              "</style>\n",
              "<table border=\"1\" class=\"dataframe\">\n",
              "  <thead>\n",
              "    <tr style=\"text-align: right;\">\n",
              "      <th></th>\n",
              "      <th>PName</th>\n",
              "      <th>Avg</th>\n",
              "      <th>country</th>\n",
              "      <th>StrikeRate</th>\n",
              "    </tr>\n",
              "  </thead>\n",
              "  <tbody>\n",
              "    <tr>\n",
              "      <th>0</th>\n",
              "      <td>Kohli</td>\n",
              "      <td>59.7</td>\n",
              "      <td>Ind</td>\n",
              "      <td>92.7</td>\n",
              "    </tr>\n",
              "    <tr>\n",
              "      <th>1</th>\n",
              "      <td>Smith</td>\n",
              "      <td>65.2</td>\n",
              "      <td>Aus</td>\n",
              "      <td>87.5</td>\n",
              "    </tr>\n",
              "    <tr>\n",
              "      <th>2</th>\n",
              "      <td>Kane</td>\n",
              "      <td>55.9</td>\n",
              "      <td>Nz</td>\n",
              "      <td>91.1</td>\n",
              "    </tr>\n",
              "    <tr>\n",
              "      <th>3</th>\n",
              "      <td>Root</td>\n",
              "      <td>52.7</td>\n",
              "      <td>Eng</td>\n",
              "      <td>90.3</td>\n",
              "    </tr>\n",
              "    <tr>\n",
              "      <th>4</th>\n",
              "      <td>Shaun</td>\n",
              "      <td>49.2</td>\n",
              "      <td>Aus</td>\n",
              "      <td>95.8</td>\n",
              "    </tr>\n",
              "  </tbody>\n",
              "</table>\n",
              "</div>"
            ],
            "text/plain": [
              "   PName   Avg country  StrikeRate\n",
              "0  Kohli  59.7     Ind        92.7\n",
              "1  Smith  65.2     Aus        87.5\n",
              "2   Kane  55.9      Nz        91.1\n",
              "3   Root  52.7     Eng        90.3\n",
              "4  Shaun  49.2     Aus        95.8"
            ]
          },
          "metadata": {
            "tags": []
          },
          "execution_count": 75
        }
      ]
    },
    {
      "cell_type": "code",
      "metadata": {
        "id": "nvvx9dmtJY1Q",
        "colab_type": "code",
        "outputId": "b39313cc-5848-46a0-ef93-37da629a3cc9",
        "colab": {
          "base_uri": "https://localhost:8080/",
          "height": 204
        }
      },
      "source": [
        "df2"
      ],
      "execution_count": 0,
      "outputs": [
        {
          "output_type": "execute_result",
          "data": {
            "text/html": [
              "<div>\n",
              "<style scoped>\n",
              "    .dataframe tbody tr th:only-of-type {\n",
              "        vertical-align: middle;\n",
              "    }\n",
              "\n",
              "    .dataframe tbody tr th {\n",
              "        vertical-align: top;\n",
              "    }\n",
              "\n",
              "    .dataframe thead th {\n",
              "        text-align: right;\n",
              "    }\n",
              "</style>\n",
              "<table border=\"1\" class=\"dataframe\">\n",
              "  <thead>\n",
              "    <tr style=\"text-align: right;\">\n",
              "      <th></th>\n",
              "      <th>PName</th>\n",
              "      <th>Avg</th>\n",
              "      <th>country</th>\n",
              "      <th>StrikeRate</th>\n",
              "    </tr>\n",
              "  </thead>\n",
              "  <tbody>\n",
              "    <tr>\n",
              "      <th>0</th>\n",
              "      <td>Kohli</td>\n",
              "      <td>59.7</td>\n",
              "      <td>Ind</td>\n",
              "      <td>92.7</td>\n",
              "    </tr>\n",
              "    <tr>\n",
              "      <th>1</th>\n",
              "      <td>Smith</td>\n",
              "      <td>65.2</td>\n",
              "      <td>Aus</td>\n",
              "      <td>87.5</td>\n",
              "    </tr>\n",
              "    <tr>\n",
              "      <th>2</th>\n",
              "      <td>Kane</td>\n",
              "      <td>55.9</td>\n",
              "      <td>Nz</td>\n",
              "      <td>91.1</td>\n",
              "    </tr>\n",
              "    <tr>\n",
              "      <th>3</th>\n",
              "      <td>Root</td>\n",
              "      <td>52.7</td>\n",
              "      <td>Eng</td>\n",
              "      <td>90.3</td>\n",
              "    </tr>\n",
              "    <tr>\n",
              "      <th>4</th>\n",
              "      <td>Shaun</td>\n",
              "      <td>49.2</td>\n",
              "      <td>Aus</td>\n",
              "      <td>95.8</td>\n",
              "    </tr>\n",
              "  </tbody>\n",
              "</table>\n",
              "</div>"
            ],
            "text/plain": [
              "   PName   Avg country  StrikeRate\n",
              "0  Kohli  59.7     Ind        92.7\n",
              "1  Smith  65.2     Aus        87.5\n",
              "2   Kane  55.9      Nz        91.1\n",
              "3   Root  52.7     Eng        90.3\n",
              "4  Shaun  49.2     Aus        95.8"
            ]
          },
          "metadata": {
            "tags": []
          },
          "execution_count": 76
        }
      ]
    },
    {
      "cell_type": "code",
      "metadata": {
        "id": "2hsusDmgJYyA",
        "colab_type": "code",
        "outputId": "adfd42f5-13c3-4171-ac00-0c72ffbb2f05",
        "colab": {
          "base_uri": "https://localhost:8080/",
          "height": 204
        }
      },
      "source": [
        "df1"
      ],
      "execution_count": 0,
      "outputs": [
        {
          "output_type": "execute_result",
          "data": {
            "text/html": [
              "<div>\n",
              "<style scoped>\n",
              "    .dataframe tbody tr th:only-of-type {\n",
              "        vertical-align: middle;\n",
              "    }\n",
              "\n",
              "    .dataframe tbody tr th {\n",
              "        vertical-align: top;\n",
              "    }\n",
              "\n",
              "    .dataframe thead th {\n",
              "        text-align: right;\n",
              "    }\n",
              "</style>\n",
              "<table border=\"1\" class=\"dataframe\">\n",
              "  <thead>\n",
              "    <tr style=\"text-align: right;\">\n",
              "      <th></th>\n",
              "      <th>PName</th>\n",
              "      <th>Avg</th>\n",
              "      <th>country</th>\n",
              "      <th>StrikeRate</th>\n",
              "    </tr>\n",
              "  </thead>\n",
              "  <tbody>\n",
              "    <tr>\n",
              "      <th>0</th>\n",
              "      <td>Kohli</td>\n",
              "      <td>59.7</td>\n",
              "      <td>Ind</td>\n",
              "      <td>92.7</td>\n",
              "    </tr>\n",
              "    <tr>\n",
              "      <th>1</th>\n",
              "      <td>Smith</td>\n",
              "      <td>65.2</td>\n",
              "      <td>Aus</td>\n",
              "      <td>87.5</td>\n",
              "    </tr>\n",
              "    <tr>\n",
              "      <th>2</th>\n",
              "      <td>Kane</td>\n",
              "      <td>55.9</td>\n",
              "      <td>Nz</td>\n",
              "      <td>91.1</td>\n",
              "    </tr>\n",
              "    <tr>\n",
              "      <th>3</th>\n",
              "      <td>Root</td>\n",
              "      <td>52.7</td>\n",
              "      <td>Eng</td>\n",
              "      <td>90.3</td>\n",
              "    </tr>\n",
              "    <tr>\n",
              "      <th>4</th>\n",
              "      <td>Finch</td>\n",
              "      <td>49.2</td>\n",
              "      <td>Aus</td>\n",
              "      <td>95.8</td>\n",
              "    </tr>\n",
              "  </tbody>\n",
              "</table>\n",
              "</div>"
            ],
            "text/plain": [
              "   PName   Avg country  StrikeRate\n",
              "0  Kohli  59.7     Ind        92.7\n",
              "1  Smith  65.2     Aus        87.5\n",
              "2   Kane  55.9      Nz        91.1\n",
              "3   Root  52.7     Eng        90.3\n",
              "4  Finch  49.2     Aus        95.8"
            ]
          },
          "metadata": {
            "tags": []
          },
          "execution_count": 77
        }
      ]
    },
    {
      "cell_type": "code",
      "metadata": {
        "id": "0Bj-NzjkJim2",
        "colab_type": "code",
        "outputId": "45f7dc81-3075-4c06-8b2a-92016f11ef7b",
        "colab": {
          "base_uri": "https://localhost:8080/",
          "height": 204
        }
      },
      "source": [
        "#create dataframe\n",
        "d = {'PName':['Kohli','Smith', 'Kane', 'Root', 'Warner'], 'Avg': [59.7, 65.2, 55.9, 52.7, 49.2],\n",
        "     'country' : ['Ind', 'Aus', 'Nz', 'Eng', 'Aus'], \n",
        "     'StrikeRate' : [92.7, 87.5, 91.1, 90.3, 95.8] }\n",
        "df = pd.DataFrame(d)\n",
        "df"
      ],
      "execution_count": 0,
      "outputs": [
        {
          "output_type": "execute_result",
          "data": {
            "text/html": [
              "<div>\n",
              "<style scoped>\n",
              "    .dataframe tbody tr th:only-of-type {\n",
              "        vertical-align: middle;\n",
              "    }\n",
              "\n",
              "    .dataframe tbody tr th {\n",
              "        vertical-align: top;\n",
              "    }\n",
              "\n",
              "    .dataframe thead th {\n",
              "        text-align: right;\n",
              "    }\n",
              "</style>\n",
              "<table border=\"1\" class=\"dataframe\">\n",
              "  <thead>\n",
              "    <tr style=\"text-align: right;\">\n",
              "      <th></th>\n",
              "      <th>PName</th>\n",
              "      <th>Avg</th>\n",
              "      <th>country</th>\n",
              "      <th>StrikeRate</th>\n",
              "    </tr>\n",
              "  </thead>\n",
              "  <tbody>\n",
              "    <tr>\n",
              "      <th>0</th>\n",
              "      <td>Kohli</td>\n",
              "      <td>59.7</td>\n",
              "      <td>Ind</td>\n",
              "      <td>92.7</td>\n",
              "    </tr>\n",
              "    <tr>\n",
              "      <th>1</th>\n",
              "      <td>Smith</td>\n",
              "      <td>65.2</td>\n",
              "      <td>Aus</td>\n",
              "      <td>87.5</td>\n",
              "    </tr>\n",
              "    <tr>\n",
              "      <th>2</th>\n",
              "      <td>Kane</td>\n",
              "      <td>55.9</td>\n",
              "      <td>Nz</td>\n",
              "      <td>91.1</td>\n",
              "    </tr>\n",
              "    <tr>\n",
              "      <th>3</th>\n",
              "      <td>Root</td>\n",
              "      <td>52.7</td>\n",
              "      <td>Eng</td>\n",
              "      <td>90.3</td>\n",
              "    </tr>\n",
              "    <tr>\n",
              "      <th>4</th>\n",
              "      <td>Warner</td>\n",
              "      <td>49.2</td>\n",
              "      <td>Aus</td>\n",
              "      <td>95.8</td>\n",
              "    </tr>\n",
              "  </tbody>\n",
              "</table>\n",
              "</div>"
            ],
            "text/plain": [
              "    PName   Avg country  StrikeRate\n",
              "0   Kohli  59.7     Ind        92.7\n",
              "1   Smith  65.2     Aus        87.5\n",
              "2    Kane  55.9      Nz        91.1\n",
              "3    Root  52.7     Eng        90.3\n",
              "4  Warner  49.2     Aus        95.8"
            ]
          },
          "metadata": {
            "tags": []
          },
          "execution_count": 78
        }
      ]
    },
    {
      "cell_type": "code",
      "metadata": {
        "id": "-IfgPuhrJiiA",
        "colab_type": "code",
        "outputId": "14b3b3d9-9cca-4b4f-81d4-3f10a8b5e572",
        "colab": {
          "base_uri": "https://localhost:8080/",
          "height": 204
        }
      },
      "source": [
        "df1 = df\n",
        "df1"
      ],
      "execution_count": 0,
      "outputs": [
        {
          "output_type": "execute_result",
          "data": {
            "text/html": [
              "<div>\n",
              "<style scoped>\n",
              "    .dataframe tbody tr th:only-of-type {\n",
              "        vertical-align: middle;\n",
              "    }\n",
              "\n",
              "    .dataframe tbody tr th {\n",
              "        vertical-align: top;\n",
              "    }\n",
              "\n",
              "    .dataframe thead th {\n",
              "        text-align: right;\n",
              "    }\n",
              "</style>\n",
              "<table border=\"1\" class=\"dataframe\">\n",
              "  <thead>\n",
              "    <tr style=\"text-align: right;\">\n",
              "      <th></th>\n",
              "      <th>PName</th>\n",
              "      <th>Avg</th>\n",
              "      <th>country</th>\n",
              "      <th>StrikeRate</th>\n",
              "    </tr>\n",
              "  </thead>\n",
              "  <tbody>\n",
              "    <tr>\n",
              "      <th>0</th>\n",
              "      <td>Kohli</td>\n",
              "      <td>59.7</td>\n",
              "      <td>Ind</td>\n",
              "      <td>92.7</td>\n",
              "    </tr>\n",
              "    <tr>\n",
              "      <th>1</th>\n",
              "      <td>Smith</td>\n",
              "      <td>65.2</td>\n",
              "      <td>Aus</td>\n",
              "      <td>87.5</td>\n",
              "    </tr>\n",
              "    <tr>\n",
              "      <th>2</th>\n",
              "      <td>Kane</td>\n",
              "      <td>55.9</td>\n",
              "      <td>Nz</td>\n",
              "      <td>91.1</td>\n",
              "    </tr>\n",
              "    <tr>\n",
              "      <th>3</th>\n",
              "      <td>Root</td>\n",
              "      <td>52.7</td>\n",
              "      <td>Eng</td>\n",
              "      <td>90.3</td>\n",
              "    </tr>\n",
              "    <tr>\n",
              "      <th>4</th>\n",
              "      <td>Warner</td>\n",
              "      <td>49.2</td>\n",
              "      <td>Aus</td>\n",
              "      <td>95.8</td>\n",
              "    </tr>\n",
              "  </tbody>\n",
              "</table>\n",
              "</div>"
            ],
            "text/plain": [
              "    PName   Avg country  StrikeRate\n",
              "0   Kohli  59.7     Ind        92.7\n",
              "1   Smith  65.2     Aus        87.5\n",
              "2    Kane  55.9      Nz        91.1\n",
              "3    Root  52.7     Eng        90.3\n",
              "4  Warner  49.2     Aus        95.8"
            ]
          },
          "metadata": {
            "tags": []
          },
          "execution_count": 79
        }
      ]
    },
    {
      "cell_type": "code",
      "metadata": {
        "id": "X698AWl-JnQX",
        "colab_type": "code",
        "outputId": "a04db9a8-c199-4e2b-adf4-13dca1f31569",
        "colab": {
          "base_uri": "https://localhost:8080/",
          "height": 204
        }
      },
      "source": [
        "df1.iloc[4,0] = 'Finch'\n",
        "df1"
      ],
      "execution_count": 0,
      "outputs": [
        {
          "output_type": "execute_result",
          "data": {
            "text/html": [
              "<div>\n",
              "<style scoped>\n",
              "    .dataframe tbody tr th:only-of-type {\n",
              "        vertical-align: middle;\n",
              "    }\n",
              "\n",
              "    .dataframe tbody tr th {\n",
              "        vertical-align: top;\n",
              "    }\n",
              "\n",
              "    .dataframe thead th {\n",
              "        text-align: right;\n",
              "    }\n",
              "</style>\n",
              "<table border=\"1\" class=\"dataframe\">\n",
              "  <thead>\n",
              "    <tr style=\"text-align: right;\">\n",
              "      <th></th>\n",
              "      <th>PName</th>\n",
              "      <th>Avg</th>\n",
              "      <th>country</th>\n",
              "      <th>StrikeRate</th>\n",
              "    </tr>\n",
              "  </thead>\n",
              "  <tbody>\n",
              "    <tr>\n",
              "      <th>0</th>\n",
              "      <td>Kohli</td>\n",
              "      <td>59.7</td>\n",
              "      <td>Ind</td>\n",
              "      <td>92.7</td>\n",
              "    </tr>\n",
              "    <tr>\n",
              "      <th>1</th>\n",
              "      <td>Smith</td>\n",
              "      <td>65.2</td>\n",
              "      <td>Aus</td>\n",
              "      <td>87.5</td>\n",
              "    </tr>\n",
              "    <tr>\n",
              "      <th>2</th>\n",
              "      <td>Kane</td>\n",
              "      <td>55.9</td>\n",
              "      <td>Nz</td>\n",
              "      <td>91.1</td>\n",
              "    </tr>\n",
              "    <tr>\n",
              "      <th>3</th>\n",
              "      <td>Root</td>\n",
              "      <td>52.7</td>\n",
              "      <td>Eng</td>\n",
              "      <td>90.3</td>\n",
              "    </tr>\n",
              "    <tr>\n",
              "      <th>4</th>\n",
              "      <td>Finch</td>\n",
              "      <td>49.2</td>\n",
              "      <td>Aus</td>\n",
              "      <td>95.8</td>\n",
              "    </tr>\n",
              "  </tbody>\n",
              "</table>\n",
              "</div>"
            ],
            "text/plain": [
              "   PName   Avg country  StrikeRate\n",
              "0  Kohli  59.7     Ind        92.7\n",
              "1  Smith  65.2     Aus        87.5\n",
              "2   Kane  55.9      Nz        91.1\n",
              "3   Root  52.7     Eng        90.3\n",
              "4  Finch  49.2     Aus        95.8"
            ]
          },
          "metadata": {
            "tags": []
          },
          "execution_count": 80
        }
      ]
    },
    {
      "cell_type": "code",
      "metadata": {
        "id": "drCEcHPIJtzI",
        "colab_type": "code",
        "outputId": "20727958-92f3-49fe-a423-9c6b302ad4d5",
        "colab": {
          "base_uri": "https://localhost:8080/",
          "height": 204
        }
      },
      "source": [
        "df"
      ],
      "execution_count": 0,
      "outputs": [
        {
          "output_type": "execute_result",
          "data": {
            "text/html": [
              "<div>\n",
              "<style scoped>\n",
              "    .dataframe tbody tr th:only-of-type {\n",
              "        vertical-align: middle;\n",
              "    }\n",
              "\n",
              "    .dataframe tbody tr th {\n",
              "        vertical-align: top;\n",
              "    }\n",
              "\n",
              "    .dataframe thead th {\n",
              "        text-align: right;\n",
              "    }\n",
              "</style>\n",
              "<table border=\"1\" class=\"dataframe\">\n",
              "  <thead>\n",
              "    <tr style=\"text-align: right;\">\n",
              "      <th></th>\n",
              "      <th>PName</th>\n",
              "      <th>Avg</th>\n",
              "      <th>country</th>\n",
              "      <th>StrikeRate</th>\n",
              "    </tr>\n",
              "  </thead>\n",
              "  <tbody>\n",
              "    <tr>\n",
              "      <th>0</th>\n",
              "      <td>Kohli</td>\n",
              "      <td>59.7</td>\n",
              "      <td>Ind</td>\n",
              "      <td>92.7</td>\n",
              "    </tr>\n",
              "    <tr>\n",
              "      <th>1</th>\n",
              "      <td>Smith</td>\n",
              "      <td>65.2</td>\n",
              "      <td>Aus</td>\n",
              "      <td>87.5</td>\n",
              "    </tr>\n",
              "    <tr>\n",
              "      <th>2</th>\n",
              "      <td>Kane</td>\n",
              "      <td>55.9</td>\n",
              "      <td>Nz</td>\n",
              "      <td>91.1</td>\n",
              "    </tr>\n",
              "    <tr>\n",
              "      <th>3</th>\n",
              "      <td>Root</td>\n",
              "      <td>52.7</td>\n",
              "      <td>Eng</td>\n",
              "      <td>90.3</td>\n",
              "    </tr>\n",
              "    <tr>\n",
              "      <th>4</th>\n",
              "      <td>Finch</td>\n",
              "      <td>49.2</td>\n",
              "      <td>Aus</td>\n",
              "      <td>95.8</td>\n",
              "    </tr>\n",
              "  </tbody>\n",
              "</table>\n",
              "</div>"
            ],
            "text/plain": [
              "   PName   Avg country  StrikeRate\n",
              "0  Kohli  59.7     Ind        92.7\n",
              "1  Smith  65.2     Aus        87.5\n",
              "2   Kane  55.9      Nz        91.1\n",
              "3   Root  52.7     Eng        90.3\n",
              "4  Finch  49.2     Aus        95.8"
            ]
          },
          "metadata": {
            "tags": []
          },
          "execution_count": 81
        }
      ]
    },
    {
      "cell_type": "markdown",
      "metadata": {
        "id": "V4xPV1M0Gfax",
        "colab_type": "text"
      },
      "source": [
        "apply(func, axis) \n",
        "func: python function to apply, axis: row/col wise"
      ]
    },
    {
      "cell_type": "code",
      "metadata": {
        "id": "euxkrQ5mAzbj",
        "colab_type": "code",
        "outputId": "4cb569ce-f5e1-4ded-8d51-2a2de4a22967",
        "colab": {
          "base_uri": "https://localhost:8080/",
          "height": 204
        }
      },
      "source": [
        "#create dataframe\n",
        "d = {'Apples':[10, 43, 67, 56, 31], 'Oranges': [26,41,12,52,23],\n",
        "     'Mangos' : [34, 11,52,72,29], \n",
        "     'Kiwi' : [22,31,11,59,46] }\n",
        "df = pd.DataFrame(d)\n",
        "df"
      ],
      "execution_count": 0,
      "outputs": [
        {
          "output_type": "execute_result",
          "data": {
            "text/html": [
              "<div>\n",
              "<style scoped>\n",
              "    .dataframe tbody tr th:only-of-type {\n",
              "        vertical-align: middle;\n",
              "    }\n",
              "\n",
              "    .dataframe tbody tr th {\n",
              "        vertical-align: top;\n",
              "    }\n",
              "\n",
              "    .dataframe thead th {\n",
              "        text-align: right;\n",
              "    }\n",
              "</style>\n",
              "<table border=\"1\" class=\"dataframe\">\n",
              "  <thead>\n",
              "    <tr style=\"text-align: right;\">\n",
              "      <th></th>\n",
              "      <th>Apples</th>\n",
              "      <th>Oranges</th>\n",
              "      <th>Mangos</th>\n",
              "      <th>Kiwi</th>\n",
              "    </tr>\n",
              "  </thead>\n",
              "  <tbody>\n",
              "    <tr>\n",
              "      <th>0</th>\n",
              "      <td>10</td>\n",
              "      <td>26</td>\n",
              "      <td>34</td>\n",
              "      <td>22</td>\n",
              "    </tr>\n",
              "    <tr>\n",
              "      <th>1</th>\n",
              "      <td>43</td>\n",
              "      <td>41</td>\n",
              "      <td>11</td>\n",
              "      <td>31</td>\n",
              "    </tr>\n",
              "    <tr>\n",
              "      <th>2</th>\n",
              "      <td>67</td>\n",
              "      <td>12</td>\n",
              "      <td>52</td>\n",
              "      <td>11</td>\n",
              "    </tr>\n",
              "    <tr>\n",
              "      <th>3</th>\n",
              "      <td>56</td>\n",
              "      <td>52</td>\n",
              "      <td>72</td>\n",
              "      <td>59</td>\n",
              "    </tr>\n",
              "    <tr>\n",
              "      <th>4</th>\n",
              "      <td>31</td>\n",
              "      <td>23</td>\n",
              "      <td>29</td>\n",
              "      <td>46</td>\n",
              "    </tr>\n",
              "  </tbody>\n",
              "</table>\n",
              "</div>"
            ],
            "text/plain": [
              "   Apples  Oranges  Mangos  Kiwi\n",
              "0      10       26      34    22\n",
              "1      43       41      11    31\n",
              "2      67       12      52    11\n",
              "3      56       52      72    59\n",
              "4      31       23      29    46"
            ]
          },
          "metadata": {
            "tags": []
          },
          "execution_count": 85
        }
      ]
    },
    {
      "cell_type": "code",
      "metadata": {
        "id": "WS0-Fm_hAzgW",
        "colab_type": "code",
        "outputId": "776dac1c-9d21-4893-d5fb-ce91601162a2",
        "colab": {
          "base_uri": "https://localhost:8080/",
          "height": 125
        }
      },
      "source": [
        "df.apply(np.sum, axis = 1)"
      ],
      "execution_count": 0,
      "outputs": [
        {
          "output_type": "execute_result",
          "data": {
            "text/plain": [
              "0     92\n",
              "1    126\n",
              "2    142\n",
              "3    239\n",
              "4    129\n",
              "dtype: int64"
            ]
          },
          "metadata": {
            "tags": []
          },
          "execution_count": 83
        }
      ]
    },
    {
      "cell_type": "code",
      "metadata": {
        "id": "y44NNWtaAzkp",
        "colab_type": "code",
        "outputId": "655ad6af-daf6-47f8-93fa-2ff6ff98f204",
        "colab": {
          "base_uri": "https://localhost:8080/",
          "height": 204
        }
      },
      "source": [
        "df['Sum'] = df.apply(np.sum, axis = 1)\n",
        "df"
      ],
      "execution_count": 0,
      "outputs": [
        {
          "output_type": "execute_result",
          "data": {
            "text/html": [
              "<div>\n",
              "<style scoped>\n",
              "    .dataframe tbody tr th:only-of-type {\n",
              "        vertical-align: middle;\n",
              "    }\n",
              "\n",
              "    .dataframe tbody tr th {\n",
              "        vertical-align: top;\n",
              "    }\n",
              "\n",
              "    .dataframe thead th {\n",
              "        text-align: right;\n",
              "    }\n",
              "</style>\n",
              "<table border=\"1\" class=\"dataframe\">\n",
              "  <thead>\n",
              "    <tr style=\"text-align: right;\">\n",
              "      <th></th>\n",
              "      <th>Apples</th>\n",
              "      <th>Oranges</th>\n",
              "      <th>Mangos</th>\n",
              "      <th>Kiwi</th>\n",
              "      <th>Sum</th>\n",
              "    </tr>\n",
              "  </thead>\n",
              "  <tbody>\n",
              "    <tr>\n",
              "      <th>0</th>\n",
              "      <td>10</td>\n",
              "      <td>26</td>\n",
              "      <td>34</td>\n",
              "      <td>22</td>\n",
              "      <td>92</td>\n",
              "    </tr>\n",
              "    <tr>\n",
              "      <th>1</th>\n",
              "      <td>43</td>\n",
              "      <td>41</td>\n",
              "      <td>11</td>\n",
              "      <td>31</td>\n",
              "      <td>126</td>\n",
              "    </tr>\n",
              "    <tr>\n",
              "      <th>2</th>\n",
              "      <td>67</td>\n",
              "      <td>12</td>\n",
              "      <td>52</td>\n",
              "      <td>11</td>\n",
              "      <td>142</td>\n",
              "    </tr>\n",
              "    <tr>\n",
              "      <th>3</th>\n",
              "      <td>56</td>\n",
              "      <td>52</td>\n",
              "      <td>72</td>\n",
              "      <td>59</td>\n",
              "      <td>239</td>\n",
              "    </tr>\n",
              "    <tr>\n",
              "      <th>4</th>\n",
              "      <td>31</td>\n",
              "      <td>23</td>\n",
              "      <td>29</td>\n",
              "      <td>46</td>\n",
              "      <td>129</td>\n",
              "    </tr>\n",
              "  </tbody>\n",
              "</table>\n",
              "</div>"
            ],
            "text/plain": [
              "   Apples  Oranges  Mangos  Kiwi  Sum\n",
              "0      10       26      34    22   92\n",
              "1      43       41      11    31  126\n",
              "2      67       12      52    11  142\n",
              "3      56       52      72    59  239\n",
              "4      31       23      29    46  129"
            ]
          },
          "metadata": {
            "tags": []
          },
          "execution_count": 87
        }
      ]
    },
    {
      "cell_type": "code",
      "metadata": {
        "id": "ShQH120VJ7Ry",
        "colab_type": "code",
        "outputId": "7c43c733-2008-446d-ab34-ad3951bb77d0",
        "colab": {
          "base_uri": "https://localhost:8080/",
          "height": 125
        }
      },
      "source": [
        "df.apply(np.sum, axis = 0)"
      ],
      "execution_count": 0,
      "outputs": [
        {
          "output_type": "execute_result",
          "data": {
            "text/plain": [
              "Apples     207\n",
              "Oranges    154\n",
              "Mangos     198\n",
              "Kiwi       169\n",
              "Sum        728\n",
              "dtype: int64"
            ]
          },
          "metadata": {
            "tags": []
          },
          "execution_count": 88
        }
      ]
    },
    {
      "cell_type": "code",
      "metadata": {
        "id": "7_8pSNMyJ7W2",
        "colab_type": "code",
        "colab": {}
      },
      "source": [
        "df.loc['Total'] = df.apply(np.sum, axis = 0)"
      ],
      "execution_count": 0,
      "outputs": []
    },
    {
      "cell_type": "code",
      "metadata": {
        "id": "052yunyvAzpm",
        "colab_type": "code",
        "outputId": "959e8114-85bf-4d49-9452-86ebe44b15a9",
        "colab": {
          "base_uri": "https://localhost:8080/",
          "height": 235
        }
      },
      "source": [
        "df"
      ],
      "execution_count": 0,
      "outputs": [
        {
          "output_type": "execute_result",
          "data": {
            "text/html": [
              "<div>\n",
              "<style scoped>\n",
              "    .dataframe tbody tr th:only-of-type {\n",
              "        vertical-align: middle;\n",
              "    }\n",
              "\n",
              "    .dataframe tbody tr th {\n",
              "        vertical-align: top;\n",
              "    }\n",
              "\n",
              "    .dataframe thead th {\n",
              "        text-align: right;\n",
              "    }\n",
              "</style>\n",
              "<table border=\"1\" class=\"dataframe\">\n",
              "  <thead>\n",
              "    <tr style=\"text-align: right;\">\n",
              "      <th></th>\n",
              "      <th>Apples</th>\n",
              "      <th>Oranges</th>\n",
              "      <th>Mangos</th>\n",
              "      <th>Kiwi</th>\n",
              "      <th>Sum</th>\n",
              "    </tr>\n",
              "  </thead>\n",
              "  <tbody>\n",
              "    <tr>\n",
              "      <th>0</th>\n",
              "      <td>10</td>\n",
              "      <td>26</td>\n",
              "      <td>34</td>\n",
              "      <td>22</td>\n",
              "      <td>92</td>\n",
              "    </tr>\n",
              "    <tr>\n",
              "      <th>1</th>\n",
              "      <td>43</td>\n",
              "      <td>41</td>\n",
              "      <td>11</td>\n",
              "      <td>31</td>\n",
              "      <td>126</td>\n",
              "    </tr>\n",
              "    <tr>\n",
              "      <th>2</th>\n",
              "      <td>67</td>\n",
              "      <td>12</td>\n",
              "      <td>52</td>\n",
              "      <td>11</td>\n",
              "      <td>142</td>\n",
              "    </tr>\n",
              "    <tr>\n",
              "      <th>3</th>\n",
              "      <td>56</td>\n",
              "      <td>52</td>\n",
              "      <td>72</td>\n",
              "      <td>59</td>\n",
              "      <td>239</td>\n",
              "    </tr>\n",
              "    <tr>\n",
              "      <th>4</th>\n",
              "      <td>31</td>\n",
              "      <td>23</td>\n",
              "      <td>29</td>\n",
              "      <td>46</td>\n",
              "      <td>129</td>\n",
              "    </tr>\n",
              "    <tr>\n",
              "      <th>Total</th>\n",
              "      <td>207</td>\n",
              "      <td>154</td>\n",
              "      <td>198</td>\n",
              "      <td>169</td>\n",
              "      <td>728</td>\n",
              "    </tr>\n",
              "  </tbody>\n",
              "</table>\n",
              "</div>"
            ],
            "text/plain": [
              "       Apples  Oranges  Mangos  Kiwi  Sum\n",
              "0          10       26      34    22   92\n",
              "1          43       41      11    31  126\n",
              "2          67       12      52    11  142\n",
              "3          56       52      72    59  239\n",
              "4          31       23      29    46  129\n",
              "Total     207      154     198   169  728"
            ]
          },
          "metadata": {
            "tags": []
          },
          "execution_count": 90
        }
      ]
    },
    {
      "cell_type": "markdown",
      "metadata": {
        "id": "S2HgdRQpKZwK",
        "colab_type": "text"
      },
      "source": [
        "applymap(func)"
      ]
    },
    {
      "cell_type": "code",
      "metadata": {
        "id": "PmhI7lRfAzz0",
        "colab_type": "code",
        "outputId": "5da7fc5c-de18-4b17-9b03-cf564032b299",
        "colab": {
          "base_uri": "https://localhost:8080/",
          "height": 195
        }
      },
      "source": [
        "#create dataframe\n",
        "d = {'Apples':[10, 43, 67, 56, 31], 'Oranges': [26,41,12,52,23],\n",
        "     'Mangoes' : [34, 11,52,72,29], \n",
        "     'Kiwi' : [22,31,11,59,46] }\n",
        "df = pd.DataFrame(d)\n",
        "df"
      ],
      "execution_count": 0,
      "outputs": [
        {
          "output_type": "execute_result",
          "data": {
            "text/html": [
              "<div>\n",
              "<style scoped>\n",
              "    .dataframe tbody tr th:only-of-type {\n",
              "        vertical-align: middle;\n",
              "    }\n",
              "\n",
              "    .dataframe tbody tr th {\n",
              "        vertical-align: top;\n",
              "    }\n",
              "\n",
              "    .dataframe thead th {\n",
              "        text-align: right;\n",
              "    }\n",
              "</style>\n",
              "<table border=\"1\" class=\"dataframe\">\n",
              "  <thead>\n",
              "    <tr style=\"text-align: right;\">\n",
              "      <th></th>\n",
              "      <th>Apples</th>\n",
              "      <th>Oranges</th>\n",
              "      <th>Mangoes</th>\n",
              "      <th>Kiwi</th>\n",
              "    </tr>\n",
              "  </thead>\n",
              "  <tbody>\n",
              "    <tr>\n",
              "      <th>0</th>\n",
              "      <td>10</td>\n",
              "      <td>26</td>\n",
              "      <td>34</td>\n",
              "      <td>22</td>\n",
              "    </tr>\n",
              "    <tr>\n",
              "      <th>1</th>\n",
              "      <td>43</td>\n",
              "      <td>41</td>\n",
              "      <td>11</td>\n",
              "      <td>31</td>\n",
              "    </tr>\n",
              "    <tr>\n",
              "      <th>2</th>\n",
              "      <td>67</td>\n",
              "      <td>12</td>\n",
              "      <td>52</td>\n",
              "      <td>11</td>\n",
              "    </tr>\n",
              "    <tr>\n",
              "      <th>3</th>\n",
              "      <td>56</td>\n",
              "      <td>52</td>\n",
              "      <td>72</td>\n",
              "      <td>59</td>\n",
              "    </tr>\n",
              "    <tr>\n",
              "      <th>4</th>\n",
              "      <td>31</td>\n",
              "      <td>23</td>\n",
              "      <td>29</td>\n",
              "      <td>46</td>\n",
              "    </tr>\n",
              "  </tbody>\n",
              "</table>\n",
              "</div>"
            ],
            "text/plain": [
              "   Apples  Oranges  Mangoes  Kiwi\n",
              "0      10       26       34    22\n",
              "1      43       41       11    31\n",
              "2      67       12       52    11\n",
              "3      56       52       72    59\n",
              "4      31       23       29    46"
            ]
          },
          "metadata": {
            "tags": []
          },
          "execution_count": 23
        }
      ]
    },
    {
      "cell_type": "code",
      "metadata": {
        "id": "MH9SyV3DAz4x",
        "colab_type": "code",
        "outputId": "b4be2c48-c8ef-4c9c-f2a9-5592c06b8b2e",
        "colab": {
          "base_uri": "https://localhost:8080/",
          "height": 204
        }
      },
      "source": [
        "df.applymap(np.sqrt)"
      ],
      "execution_count": 0,
      "outputs": [
        {
          "output_type": "execute_result",
          "data": {
            "text/html": [
              "<div>\n",
              "<style scoped>\n",
              "    .dataframe tbody tr th:only-of-type {\n",
              "        vertical-align: middle;\n",
              "    }\n",
              "\n",
              "    .dataframe tbody tr th {\n",
              "        vertical-align: top;\n",
              "    }\n",
              "\n",
              "    .dataframe thead th {\n",
              "        text-align: right;\n",
              "    }\n",
              "</style>\n",
              "<table border=\"1\" class=\"dataframe\">\n",
              "  <thead>\n",
              "    <tr style=\"text-align: right;\">\n",
              "      <th></th>\n",
              "      <th>Apples</th>\n",
              "      <th>Oranges</th>\n",
              "      <th>Mangoes</th>\n",
              "      <th>Kiwi</th>\n",
              "    </tr>\n",
              "  </thead>\n",
              "  <tbody>\n",
              "    <tr>\n",
              "      <th>0</th>\n",
              "      <td>3.162278</td>\n",
              "      <td>5.099020</td>\n",
              "      <td>5.830952</td>\n",
              "      <td>4.690416</td>\n",
              "    </tr>\n",
              "    <tr>\n",
              "      <th>1</th>\n",
              "      <td>6.557439</td>\n",
              "      <td>6.403124</td>\n",
              "      <td>3.316625</td>\n",
              "      <td>5.567764</td>\n",
              "    </tr>\n",
              "    <tr>\n",
              "      <th>2</th>\n",
              "      <td>8.185353</td>\n",
              "      <td>3.464102</td>\n",
              "      <td>7.211103</td>\n",
              "      <td>3.316625</td>\n",
              "    </tr>\n",
              "    <tr>\n",
              "      <th>3</th>\n",
              "      <td>7.483315</td>\n",
              "      <td>7.211103</td>\n",
              "      <td>8.485281</td>\n",
              "      <td>7.681146</td>\n",
              "    </tr>\n",
              "    <tr>\n",
              "      <th>4</th>\n",
              "      <td>5.567764</td>\n",
              "      <td>4.795832</td>\n",
              "      <td>5.385165</td>\n",
              "      <td>6.782330</td>\n",
              "    </tr>\n",
              "  </tbody>\n",
              "</table>\n",
              "</div>"
            ],
            "text/plain": [
              "     Apples   Oranges   Mangoes      Kiwi\n",
              "0  3.162278  5.099020  5.830952  4.690416\n",
              "1  6.557439  6.403124  3.316625  5.567764\n",
              "2  8.185353  3.464102  7.211103  3.316625\n",
              "3  7.483315  7.211103  8.485281  7.681146\n",
              "4  5.567764  4.795832  5.385165  6.782330"
            ]
          },
          "metadata": {
            "tags": []
          },
          "execution_count": 92
        }
      ]
    },
    {
      "cell_type": "code",
      "metadata": {
        "id": "GTC-bJNcAz-B",
        "colab_type": "code",
        "outputId": "eee883e4-6893-4589-9376-484acbc1781f",
        "colab": {
          "base_uri": "https://localhost:8080/",
          "height": 204
        }
      },
      "source": [
        "df.applymap(lambda x : x**2)"
      ],
      "execution_count": 0,
      "outputs": [
        {
          "output_type": "execute_result",
          "data": {
            "text/html": [
              "<div>\n",
              "<style scoped>\n",
              "    .dataframe tbody tr th:only-of-type {\n",
              "        vertical-align: middle;\n",
              "    }\n",
              "\n",
              "    .dataframe tbody tr th {\n",
              "        vertical-align: top;\n",
              "    }\n",
              "\n",
              "    .dataframe thead th {\n",
              "        text-align: right;\n",
              "    }\n",
              "</style>\n",
              "<table border=\"1\" class=\"dataframe\">\n",
              "  <thead>\n",
              "    <tr style=\"text-align: right;\">\n",
              "      <th></th>\n",
              "      <th>Apples</th>\n",
              "      <th>Oranges</th>\n",
              "      <th>Mangoes</th>\n",
              "      <th>Kiwi</th>\n",
              "    </tr>\n",
              "  </thead>\n",
              "  <tbody>\n",
              "    <tr>\n",
              "      <th>0</th>\n",
              "      <td>100</td>\n",
              "      <td>676</td>\n",
              "      <td>1156</td>\n",
              "      <td>484</td>\n",
              "    </tr>\n",
              "    <tr>\n",
              "      <th>1</th>\n",
              "      <td>1849</td>\n",
              "      <td>1681</td>\n",
              "      <td>121</td>\n",
              "      <td>961</td>\n",
              "    </tr>\n",
              "    <tr>\n",
              "      <th>2</th>\n",
              "      <td>4489</td>\n",
              "      <td>144</td>\n",
              "      <td>2704</td>\n",
              "      <td>121</td>\n",
              "    </tr>\n",
              "    <tr>\n",
              "      <th>3</th>\n",
              "      <td>3136</td>\n",
              "      <td>2704</td>\n",
              "      <td>5184</td>\n",
              "      <td>3481</td>\n",
              "    </tr>\n",
              "    <tr>\n",
              "      <th>4</th>\n",
              "      <td>961</td>\n",
              "      <td>529</td>\n",
              "      <td>841</td>\n",
              "      <td>2116</td>\n",
              "    </tr>\n",
              "  </tbody>\n",
              "</table>\n",
              "</div>"
            ],
            "text/plain": [
              "   Apples  Oranges  Mangoes  Kiwi\n",
              "0     100      676     1156   484\n",
              "1    1849     1681      121   961\n",
              "2    4489      144     2704   121\n",
              "3    3136     2704     5184  3481\n",
              "4     961      529      841  2116"
            ]
          },
          "metadata": {
            "tags": []
          },
          "execution_count": 93
        }
      ]
    },
    {
      "cell_type": "code",
      "metadata": {
        "id": "-yPUoCq3AzWc",
        "colab_type": "code",
        "colab": {}
      },
      "source": [
        "def tstFunc(x):\n",
        "  return x+5"
      ],
      "execution_count": 0,
      "outputs": []
    },
    {
      "cell_type": "code",
      "metadata": {
        "id": "nku5O25JM_q1",
        "colab_type": "code",
        "outputId": "8e41d078-df91-4d30-ce24-8ea9f38a30ae",
        "colab": {
          "base_uri": "https://localhost:8080/",
          "height": 204
        }
      },
      "source": [
        "df.applymap(lambda x : tstFunc(x))"
      ],
      "execution_count": 0,
      "outputs": [
        {
          "output_type": "execute_result",
          "data": {
            "text/html": [
              "<div>\n",
              "<style scoped>\n",
              "    .dataframe tbody tr th:only-of-type {\n",
              "        vertical-align: middle;\n",
              "    }\n",
              "\n",
              "    .dataframe tbody tr th {\n",
              "        vertical-align: top;\n",
              "    }\n",
              "\n",
              "    .dataframe thead th {\n",
              "        text-align: right;\n",
              "    }\n",
              "</style>\n",
              "<table border=\"1\" class=\"dataframe\">\n",
              "  <thead>\n",
              "    <tr style=\"text-align: right;\">\n",
              "      <th></th>\n",
              "      <th>Apples</th>\n",
              "      <th>Oranges</th>\n",
              "      <th>Mangoes</th>\n",
              "      <th>Kiwi</th>\n",
              "    </tr>\n",
              "  </thead>\n",
              "  <tbody>\n",
              "    <tr>\n",
              "      <th>0</th>\n",
              "      <td>15</td>\n",
              "      <td>31</td>\n",
              "      <td>39</td>\n",
              "      <td>27</td>\n",
              "    </tr>\n",
              "    <tr>\n",
              "      <th>1</th>\n",
              "      <td>48</td>\n",
              "      <td>46</td>\n",
              "      <td>16</td>\n",
              "      <td>36</td>\n",
              "    </tr>\n",
              "    <tr>\n",
              "      <th>2</th>\n",
              "      <td>72</td>\n",
              "      <td>17</td>\n",
              "      <td>57</td>\n",
              "      <td>16</td>\n",
              "    </tr>\n",
              "    <tr>\n",
              "      <th>3</th>\n",
              "      <td>61</td>\n",
              "      <td>57</td>\n",
              "      <td>77</td>\n",
              "      <td>64</td>\n",
              "    </tr>\n",
              "    <tr>\n",
              "      <th>4</th>\n",
              "      <td>36</td>\n",
              "      <td>28</td>\n",
              "      <td>34</td>\n",
              "      <td>51</td>\n",
              "    </tr>\n",
              "  </tbody>\n",
              "</table>\n",
              "</div>"
            ],
            "text/plain": [
              "   Apples  Oranges  Mangoes  Kiwi\n",
              "0      15       31       39    27\n",
              "1      48       46       16    36\n",
              "2      72       17       57    16\n",
              "3      61       57       77    64\n",
              "4      36       28       34    51"
            ]
          },
          "metadata": {
            "tags": []
          },
          "execution_count": 95
        }
      ]
    },
    {
      "cell_type": "markdown",
      "metadata": {
        "id": "y90mzh33PAZr",
        "colab_type": "text"
      },
      "source": [
        "aggregate(func, axis)"
      ]
    },
    {
      "cell_type": "code",
      "metadata": {
        "id": "SsprU4QmM_xp",
        "colab_type": "code",
        "outputId": "4f9cc31b-5c78-4862-9351-434802183ff5",
        "colab": {
          "base_uri": "https://localhost:8080/",
          "height": 142
        }
      },
      "source": [
        "df.aggregate({'Apples':['sum', 'min', 'max'], \n",
        "              'Oranges':['max', 'min'], \n",
        "              'Mangoes':['min', 'sum'],  \n",
        "              'Kiwi':['sum']}) "
      ],
      "execution_count": 0,
      "outputs": [
        {
          "output_type": "execute_result",
          "data": {
            "text/html": [
              "<div>\n",
              "<style scoped>\n",
              "    .dataframe tbody tr th:only-of-type {\n",
              "        vertical-align: middle;\n",
              "    }\n",
              "\n",
              "    .dataframe tbody tr th {\n",
              "        vertical-align: top;\n",
              "    }\n",
              "\n",
              "    .dataframe thead th {\n",
              "        text-align: right;\n",
              "    }\n",
              "</style>\n",
              "<table border=\"1\" class=\"dataframe\">\n",
              "  <thead>\n",
              "    <tr style=\"text-align: right;\">\n",
              "      <th></th>\n",
              "      <th>Apples</th>\n",
              "      <th>Oranges</th>\n",
              "      <th>Mangoes</th>\n",
              "      <th>Kiwi</th>\n",
              "    </tr>\n",
              "  </thead>\n",
              "  <tbody>\n",
              "    <tr>\n",
              "      <th>max</th>\n",
              "      <td>67</td>\n",
              "      <td>52.0</td>\n",
              "      <td>NaN</td>\n",
              "      <td>NaN</td>\n",
              "    </tr>\n",
              "    <tr>\n",
              "      <th>min</th>\n",
              "      <td>10</td>\n",
              "      <td>12.0</td>\n",
              "      <td>11.0</td>\n",
              "      <td>NaN</td>\n",
              "    </tr>\n",
              "    <tr>\n",
              "      <th>sum</th>\n",
              "      <td>207</td>\n",
              "      <td>NaN</td>\n",
              "      <td>198.0</td>\n",
              "      <td>169.0</td>\n",
              "    </tr>\n",
              "  </tbody>\n",
              "</table>\n",
              "</div>"
            ],
            "text/plain": [
              "     Apples  Oranges  Mangoes   Kiwi\n",
              "max      67     52.0      NaN    NaN\n",
              "min      10     12.0     11.0    NaN\n",
              "sum     207      NaN    198.0  169.0"
            ]
          },
          "metadata": {
            "tags": []
          },
          "execution_count": 97
        }
      ]
    },
    {
      "cell_type": "markdown",
      "metadata": {
        "id": "6AvHNNEkPPIT",
        "colab_type": "text"
      },
      "source": [
        "groupby(by, axis)"
      ]
    },
    {
      "cell_type": "code",
      "metadata": {
        "id": "kD5prg6XPNOA",
        "colab_type": "code",
        "outputId": "393f5f79-f483-4df5-8e03-2ecb3d64ae5e",
        "colab": {
          "base_uri": "https://localhost:8080/",
          "height": 979
        }
      },
      "source": [
        "#create dataframe\n",
        "d = {'PName':['Lara', 'Hayden', 'Bradman', 'Lara', 'Sehwag', 'Kohli', 'Sachin', 'Cook', 'Dravid', 'AB','Smith', 'Kohli', 'Rohit', 'Kane', 'Root', 'Warner', 'Guptil',\n",
        "              'Mahela', 'Gayle', 'Ponting', 'Miller', 'Inzi', 'Sachin','Dravid', 'Lara', 'Root', 'Kane', 'Tamim', 'Ashraful', 'Kohli'],\n",
        "     'Runs': [400, 381, 375, 374, 319, 248, 241, 294, 270, 105, 283, 103, 264, 187, 154, 239, 190, 334, 333, 175, 129, 145, 186, 233, 131, 102, 100, 81, 105, 167],\n",
        "     'country' : ['Wi', 'Aus', 'Aus', 'Wi', 'Ind', 'Ind', 'Ind', 'Eng', 'Ind', 'Sa', 'Aus', 'Ind', 'Ind', 'Nz', 'Eng', 'Aus', 'Nz', 'Sl', 'Wi', 'Aus', 'Sa', 'Pak', 'Ind', 'Ind', 'Wi', 'Eng', 'Nz', 'Ban', 'Ban', 'Ind'],\n",
        "     'Type': ['Test', 'Test', 'Test', 'Test', 'Test', 'Test', 'Test', 'Test', 'Test', 'Odi', 'Test', 'Odi', 'Odi', 'Test', 'Test', 'Test', 'Test', 'Test', 'Test', 'Test', 'Odi', 'T20', 'Odi', 'Test', 'Test',\n",
        "             'Odi', 'T20', 'T20','T20', 'T20']\n",
        "      }\n",
        "df = pd.DataFrame(d)\n",
        "df"
      ],
      "execution_count": 0,
      "outputs": [
        {
          "output_type": "execute_result",
          "data": {
            "text/html": [
              "<div>\n",
              "<style scoped>\n",
              "    .dataframe tbody tr th:only-of-type {\n",
              "        vertical-align: middle;\n",
              "    }\n",
              "\n",
              "    .dataframe tbody tr th {\n",
              "        vertical-align: top;\n",
              "    }\n",
              "\n",
              "    .dataframe thead th {\n",
              "        text-align: right;\n",
              "    }\n",
              "</style>\n",
              "<table border=\"1\" class=\"dataframe\">\n",
              "  <thead>\n",
              "    <tr style=\"text-align: right;\">\n",
              "      <th></th>\n",
              "      <th>PName</th>\n",
              "      <th>Runs</th>\n",
              "      <th>country</th>\n",
              "      <th>Type</th>\n",
              "    </tr>\n",
              "  </thead>\n",
              "  <tbody>\n",
              "    <tr>\n",
              "      <th>0</th>\n",
              "      <td>Lara</td>\n",
              "      <td>400</td>\n",
              "      <td>Wi</td>\n",
              "      <td>Test</td>\n",
              "    </tr>\n",
              "    <tr>\n",
              "      <th>1</th>\n",
              "      <td>Hayden</td>\n",
              "      <td>381</td>\n",
              "      <td>Aus</td>\n",
              "      <td>Test</td>\n",
              "    </tr>\n",
              "    <tr>\n",
              "      <th>2</th>\n",
              "      <td>Bradman</td>\n",
              "      <td>375</td>\n",
              "      <td>Aus</td>\n",
              "      <td>Test</td>\n",
              "    </tr>\n",
              "    <tr>\n",
              "      <th>3</th>\n",
              "      <td>Lara</td>\n",
              "      <td>374</td>\n",
              "      <td>Wi</td>\n",
              "      <td>Test</td>\n",
              "    </tr>\n",
              "    <tr>\n",
              "      <th>4</th>\n",
              "      <td>Sehwag</td>\n",
              "      <td>319</td>\n",
              "      <td>Ind</td>\n",
              "      <td>Test</td>\n",
              "    </tr>\n",
              "    <tr>\n",
              "      <th>5</th>\n",
              "      <td>Kohli</td>\n",
              "      <td>248</td>\n",
              "      <td>Ind</td>\n",
              "      <td>Test</td>\n",
              "    </tr>\n",
              "    <tr>\n",
              "      <th>6</th>\n",
              "      <td>Sachin</td>\n",
              "      <td>241</td>\n",
              "      <td>Ind</td>\n",
              "      <td>Test</td>\n",
              "    </tr>\n",
              "    <tr>\n",
              "      <th>7</th>\n",
              "      <td>Cook</td>\n",
              "      <td>294</td>\n",
              "      <td>Eng</td>\n",
              "      <td>Test</td>\n",
              "    </tr>\n",
              "    <tr>\n",
              "      <th>8</th>\n",
              "      <td>Dravid</td>\n",
              "      <td>270</td>\n",
              "      <td>Ind</td>\n",
              "      <td>Test</td>\n",
              "    </tr>\n",
              "    <tr>\n",
              "      <th>9</th>\n",
              "      <td>AB</td>\n",
              "      <td>105</td>\n",
              "      <td>Sa</td>\n",
              "      <td>Odi</td>\n",
              "    </tr>\n",
              "    <tr>\n",
              "      <th>10</th>\n",
              "      <td>Smith</td>\n",
              "      <td>283</td>\n",
              "      <td>Aus</td>\n",
              "      <td>Test</td>\n",
              "    </tr>\n",
              "    <tr>\n",
              "      <th>11</th>\n",
              "      <td>Kohli</td>\n",
              "      <td>103</td>\n",
              "      <td>Ind</td>\n",
              "      <td>Odi</td>\n",
              "    </tr>\n",
              "    <tr>\n",
              "      <th>12</th>\n",
              "      <td>Rohit</td>\n",
              "      <td>264</td>\n",
              "      <td>Ind</td>\n",
              "      <td>Odi</td>\n",
              "    </tr>\n",
              "    <tr>\n",
              "      <th>13</th>\n",
              "      <td>Kane</td>\n",
              "      <td>187</td>\n",
              "      <td>Nz</td>\n",
              "      <td>Test</td>\n",
              "    </tr>\n",
              "    <tr>\n",
              "      <th>14</th>\n",
              "      <td>Root</td>\n",
              "      <td>154</td>\n",
              "      <td>Eng</td>\n",
              "      <td>Test</td>\n",
              "    </tr>\n",
              "    <tr>\n",
              "      <th>15</th>\n",
              "      <td>Warner</td>\n",
              "      <td>239</td>\n",
              "      <td>Aus</td>\n",
              "      <td>Test</td>\n",
              "    </tr>\n",
              "    <tr>\n",
              "      <th>16</th>\n",
              "      <td>Guptil</td>\n",
              "      <td>190</td>\n",
              "      <td>Nz</td>\n",
              "      <td>Test</td>\n",
              "    </tr>\n",
              "    <tr>\n",
              "      <th>17</th>\n",
              "      <td>Mahela</td>\n",
              "      <td>334</td>\n",
              "      <td>Sl</td>\n",
              "      <td>Test</td>\n",
              "    </tr>\n",
              "    <tr>\n",
              "      <th>18</th>\n",
              "      <td>Gayle</td>\n",
              "      <td>333</td>\n",
              "      <td>Wi</td>\n",
              "      <td>Test</td>\n",
              "    </tr>\n",
              "    <tr>\n",
              "      <th>19</th>\n",
              "      <td>Ponting</td>\n",
              "      <td>175</td>\n",
              "      <td>Aus</td>\n",
              "      <td>Test</td>\n",
              "    </tr>\n",
              "    <tr>\n",
              "      <th>20</th>\n",
              "      <td>Miller</td>\n",
              "      <td>129</td>\n",
              "      <td>Sa</td>\n",
              "      <td>Odi</td>\n",
              "    </tr>\n",
              "    <tr>\n",
              "      <th>21</th>\n",
              "      <td>Inzi</td>\n",
              "      <td>145</td>\n",
              "      <td>Pak</td>\n",
              "      <td>T20</td>\n",
              "    </tr>\n",
              "    <tr>\n",
              "      <th>22</th>\n",
              "      <td>Sachin</td>\n",
              "      <td>186</td>\n",
              "      <td>Ind</td>\n",
              "      <td>Odi</td>\n",
              "    </tr>\n",
              "    <tr>\n",
              "      <th>23</th>\n",
              "      <td>Dravid</td>\n",
              "      <td>233</td>\n",
              "      <td>Ind</td>\n",
              "      <td>Test</td>\n",
              "    </tr>\n",
              "    <tr>\n",
              "      <th>24</th>\n",
              "      <td>Lara</td>\n",
              "      <td>131</td>\n",
              "      <td>Wi</td>\n",
              "      <td>Test</td>\n",
              "    </tr>\n",
              "    <tr>\n",
              "      <th>25</th>\n",
              "      <td>Root</td>\n",
              "      <td>102</td>\n",
              "      <td>Eng</td>\n",
              "      <td>Odi</td>\n",
              "    </tr>\n",
              "    <tr>\n",
              "      <th>26</th>\n",
              "      <td>Kane</td>\n",
              "      <td>100</td>\n",
              "      <td>Nz</td>\n",
              "      <td>T20</td>\n",
              "    </tr>\n",
              "    <tr>\n",
              "      <th>27</th>\n",
              "      <td>Tamim</td>\n",
              "      <td>81</td>\n",
              "      <td>Ban</td>\n",
              "      <td>T20</td>\n",
              "    </tr>\n",
              "    <tr>\n",
              "      <th>28</th>\n",
              "      <td>Ashraful</td>\n",
              "      <td>105</td>\n",
              "      <td>Ban</td>\n",
              "      <td>T20</td>\n",
              "    </tr>\n",
              "    <tr>\n",
              "      <th>29</th>\n",
              "      <td>Kohli</td>\n",
              "      <td>167</td>\n",
              "      <td>Ind</td>\n",
              "      <td>T20</td>\n",
              "    </tr>\n",
              "  </tbody>\n",
              "</table>\n",
              "</div>"
            ],
            "text/plain": [
              "       PName  Runs country  Type\n",
              "0       Lara   400      Wi  Test\n",
              "1     Hayden   381     Aus  Test\n",
              "2    Bradman   375     Aus  Test\n",
              "3       Lara   374      Wi  Test\n",
              "4     Sehwag   319     Ind  Test\n",
              "5      Kohli   248     Ind  Test\n",
              "6     Sachin   241     Ind  Test\n",
              "7       Cook   294     Eng  Test\n",
              "8     Dravid   270     Ind  Test\n",
              "9         AB   105      Sa   Odi\n",
              "10     Smith   283     Aus  Test\n",
              "11     Kohli   103     Ind   Odi\n",
              "12     Rohit   264     Ind   Odi\n",
              "13      Kane   187      Nz  Test\n",
              "14      Root   154     Eng  Test\n",
              "15    Warner   239     Aus  Test\n",
              "16    Guptil   190      Nz  Test\n",
              "17    Mahela   334      Sl  Test\n",
              "18     Gayle   333      Wi  Test\n",
              "19   Ponting   175     Aus  Test\n",
              "20    Miller   129      Sa   Odi\n",
              "21      Inzi   145     Pak   T20\n",
              "22    Sachin   186     Ind   Odi\n",
              "23    Dravid   233     Ind  Test\n",
              "24      Lara   131      Wi  Test\n",
              "25      Root   102     Eng   Odi\n",
              "26      Kane   100      Nz   T20\n",
              "27     Tamim    81     Ban   T20\n",
              "28  Ashraful   105     Ban   T20\n",
              "29     Kohli   167     Ind   T20"
            ]
          },
          "metadata": {
            "tags": []
          },
          "execution_count": 103
        }
      ]
    },
    {
      "cell_type": "code",
      "metadata": {
        "id": "TAIF8H1QPNdV",
        "colab_type": "code",
        "outputId": "6a4e4152-011f-4328-9514-93e184c032b0",
        "colab": {
          "base_uri": "https://localhost:8080/",
          "height": 762
        }
      },
      "source": [
        "gk = df.groupby('PName')\n",
        "gk.first()"
      ],
      "execution_count": 0,
      "outputs": [
        {
          "output_type": "execute_result",
          "data": {
            "text/html": [
              "<div>\n",
              "<style scoped>\n",
              "    .dataframe tbody tr th:only-of-type {\n",
              "        vertical-align: middle;\n",
              "    }\n",
              "\n",
              "    .dataframe tbody tr th {\n",
              "        vertical-align: top;\n",
              "    }\n",
              "\n",
              "    .dataframe thead th {\n",
              "        text-align: right;\n",
              "    }\n",
              "</style>\n",
              "<table border=\"1\" class=\"dataframe\">\n",
              "  <thead>\n",
              "    <tr style=\"text-align: right;\">\n",
              "      <th></th>\n",
              "      <th>Runs</th>\n",
              "      <th>country</th>\n",
              "      <th>Type</th>\n",
              "    </tr>\n",
              "    <tr>\n",
              "      <th>PName</th>\n",
              "      <th></th>\n",
              "      <th></th>\n",
              "      <th></th>\n",
              "    </tr>\n",
              "  </thead>\n",
              "  <tbody>\n",
              "    <tr>\n",
              "      <th>AB</th>\n",
              "      <td>105</td>\n",
              "      <td>Sa</td>\n",
              "      <td>Odi</td>\n",
              "    </tr>\n",
              "    <tr>\n",
              "      <th>Ashraful</th>\n",
              "      <td>105</td>\n",
              "      <td>Ban</td>\n",
              "      <td>T20</td>\n",
              "    </tr>\n",
              "    <tr>\n",
              "      <th>Bradman</th>\n",
              "      <td>375</td>\n",
              "      <td>Aus</td>\n",
              "      <td>Test</td>\n",
              "    </tr>\n",
              "    <tr>\n",
              "      <th>Cook</th>\n",
              "      <td>294</td>\n",
              "      <td>Eng</td>\n",
              "      <td>Test</td>\n",
              "    </tr>\n",
              "    <tr>\n",
              "      <th>Dravid</th>\n",
              "      <td>270</td>\n",
              "      <td>Ind</td>\n",
              "      <td>Test</td>\n",
              "    </tr>\n",
              "    <tr>\n",
              "      <th>Gayle</th>\n",
              "      <td>333</td>\n",
              "      <td>Wi</td>\n",
              "      <td>Test</td>\n",
              "    </tr>\n",
              "    <tr>\n",
              "      <th>Guptil</th>\n",
              "      <td>190</td>\n",
              "      <td>Nz</td>\n",
              "      <td>Test</td>\n",
              "    </tr>\n",
              "    <tr>\n",
              "      <th>Hayden</th>\n",
              "      <td>381</td>\n",
              "      <td>Aus</td>\n",
              "      <td>Test</td>\n",
              "    </tr>\n",
              "    <tr>\n",
              "      <th>Inzi</th>\n",
              "      <td>145</td>\n",
              "      <td>Pak</td>\n",
              "      <td>T20</td>\n",
              "    </tr>\n",
              "    <tr>\n",
              "      <th>Kane</th>\n",
              "      <td>187</td>\n",
              "      <td>Nz</td>\n",
              "      <td>Test</td>\n",
              "    </tr>\n",
              "    <tr>\n",
              "      <th>Kohli</th>\n",
              "      <td>248</td>\n",
              "      <td>Ind</td>\n",
              "      <td>Test</td>\n",
              "    </tr>\n",
              "    <tr>\n",
              "      <th>Lara</th>\n",
              "      <td>400</td>\n",
              "      <td>Wi</td>\n",
              "      <td>Test</td>\n",
              "    </tr>\n",
              "    <tr>\n",
              "      <th>Mahela</th>\n",
              "      <td>334</td>\n",
              "      <td>Sl</td>\n",
              "      <td>Test</td>\n",
              "    </tr>\n",
              "    <tr>\n",
              "      <th>Miller</th>\n",
              "      <td>129</td>\n",
              "      <td>Sa</td>\n",
              "      <td>Odi</td>\n",
              "    </tr>\n",
              "    <tr>\n",
              "      <th>Ponting</th>\n",
              "      <td>175</td>\n",
              "      <td>Aus</td>\n",
              "      <td>Test</td>\n",
              "    </tr>\n",
              "    <tr>\n",
              "      <th>Rohit</th>\n",
              "      <td>264</td>\n",
              "      <td>Ind</td>\n",
              "      <td>Odi</td>\n",
              "    </tr>\n",
              "    <tr>\n",
              "      <th>Root</th>\n",
              "      <td>154</td>\n",
              "      <td>Eng</td>\n",
              "      <td>Test</td>\n",
              "    </tr>\n",
              "    <tr>\n",
              "      <th>Sachin</th>\n",
              "      <td>241</td>\n",
              "      <td>Ind</td>\n",
              "      <td>Test</td>\n",
              "    </tr>\n",
              "    <tr>\n",
              "      <th>Sehwag</th>\n",
              "      <td>319</td>\n",
              "      <td>Ind</td>\n",
              "      <td>Test</td>\n",
              "    </tr>\n",
              "    <tr>\n",
              "      <th>Smith</th>\n",
              "      <td>283</td>\n",
              "      <td>Aus</td>\n",
              "      <td>Test</td>\n",
              "    </tr>\n",
              "    <tr>\n",
              "      <th>Tamim</th>\n",
              "      <td>81</td>\n",
              "      <td>Ban</td>\n",
              "      <td>T20</td>\n",
              "    </tr>\n",
              "    <tr>\n",
              "      <th>Warner</th>\n",
              "      <td>239</td>\n",
              "      <td>Aus</td>\n",
              "      <td>Test</td>\n",
              "    </tr>\n",
              "  </tbody>\n",
              "</table>\n",
              "</div>"
            ],
            "text/plain": [
              "          Runs country  Type\n",
              "PName                       \n",
              "AB         105      Sa   Odi\n",
              "Ashraful   105     Ban   T20\n",
              "Bradman    375     Aus  Test\n",
              "Cook       294     Eng  Test\n",
              "Dravid     270     Ind  Test\n",
              "Gayle      333      Wi  Test\n",
              "Guptil     190      Nz  Test\n",
              "Hayden     381     Aus  Test\n",
              "Inzi       145     Pak   T20\n",
              "Kane       187      Nz  Test\n",
              "Kohli      248     Ind  Test\n",
              "Lara       400      Wi  Test\n",
              "Mahela     334      Sl  Test\n",
              "Miller     129      Sa   Odi\n",
              "Ponting    175     Aus  Test\n",
              "Rohit      264     Ind   Odi\n",
              "Root       154     Eng  Test\n",
              "Sachin     241     Ind  Test\n",
              "Sehwag     319     Ind  Test\n",
              "Smith      283     Aus  Test\n",
              "Tamim       81     Ban   T20\n",
              "Warner     239     Aus  Test"
            ]
          },
          "metadata": {
            "tags": []
          },
          "execution_count": 114
        }
      ]
    },
    {
      "cell_type": "code",
      "metadata": {
        "id": "Vz27FIekPNJy",
        "colab_type": "code",
        "outputId": "f68aec93-bbeb-41f4-ddfa-433bd62ea188",
        "colab": {
          "base_uri": "https://localhost:8080/",
          "height": 142
        }
      },
      "source": [
        "x = gk.get_group('Kohli') \n",
        "x\n",
        "#x['Runs'].min()"
      ],
      "execution_count": 0,
      "outputs": [
        {
          "output_type": "execute_result",
          "data": {
            "text/html": [
              "<div>\n",
              "<style scoped>\n",
              "    .dataframe tbody tr th:only-of-type {\n",
              "        vertical-align: middle;\n",
              "    }\n",
              "\n",
              "    .dataframe tbody tr th {\n",
              "        vertical-align: top;\n",
              "    }\n",
              "\n",
              "    .dataframe thead th {\n",
              "        text-align: right;\n",
              "    }\n",
              "</style>\n",
              "<table border=\"1\" class=\"dataframe\">\n",
              "  <thead>\n",
              "    <tr style=\"text-align: right;\">\n",
              "      <th></th>\n",
              "      <th>Runs</th>\n",
              "      <th>country</th>\n",
              "      <th>Type</th>\n",
              "    </tr>\n",
              "  </thead>\n",
              "  <tbody>\n",
              "    <tr>\n",
              "      <th>5</th>\n",
              "      <td>248</td>\n",
              "      <td>Ind</td>\n",
              "      <td>Test</td>\n",
              "    </tr>\n",
              "    <tr>\n",
              "      <th>11</th>\n",
              "      <td>103</td>\n",
              "      <td>Ind</td>\n",
              "      <td>Odi</td>\n",
              "    </tr>\n",
              "    <tr>\n",
              "      <th>29</th>\n",
              "      <td>167</td>\n",
              "      <td>Ind</td>\n",
              "      <td>T20</td>\n",
              "    </tr>\n",
              "  </tbody>\n",
              "</table>\n",
              "</div>"
            ],
            "text/plain": [
              "    Runs country  Type\n",
              "5    248     Ind  Test\n",
              "11   103     Ind   Odi\n",
              "29   167     Ind   T20"
            ]
          },
          "metadata": {
            "tags": []
          },
          "execution_count": 115
        }
      ]
    },
    {
      "cell_type": "code",
      "metadata": {
        "id": "pfBkyTfNXjoZ",
        "colab_type": "code",
        "outputId": "5a41d1a2-25eb-4c23-cf7e-0bb2030e51af",
        "colab": {
          "base_uri": "https://localhost:8080/",
          "height": 35
        }
      },
      "source": [
        "x['Runs'].min()"
      ],
      "execution_count": 0,
      "outputs": [
        {
          "output_type": "execute_result",
          "data": {
            "text/plain": [
              "103"
            ]
          },
          "metadata": {
            "tags": []
          },
          "execution_count": 119
        }
      ]
    },
    {
      "cell_type": "code",
      "metadata": {
        "id": "_-zGGABZgamh",
        "colab_type": "code",
        "outputId": "bf68a01e-97c9-4858-d599-bfa895d30f79",
        "colab": {
          "base_uri": "https://localhost:8080/",
          "height": 89
        }
      },
      "source": [
        "x.loc[x['Runs'].idxmin()]"
      ],
      "execution_count": 0,
      "outputs": [
        {
          "output_type": "execute_result",
          "data": {
            "text/plain": [
              "Runs       103\n",
              "country    Ind\n",
              "Type       Odi\n",
              "Name: 11, dtype: object"
            ]
          },
          "metadata": {
            "tags": []
          },
          "execution_count": 122
        }
      ]
    },
    {
      "cell_type": "code",
      "metadata": {
        "id": "6DBH51sJgajg",
        "colab_type": "code",
        "outputId": "93b8b38b-dd6e-4e44-9878-ed87ce428a2a",
        "colab": {
          "base_uri": "https://localhost:8080/",
          "height": 89
        }
      },
      "source": [
        "x.loc[x['Runs'].idxmax()]"
      ],
      "execution_count": 0,
      "outputs": [
        {
          "output_type": "execute_result",
          "data": {
            "text/plain": [
              "Runs        248\n",
              "country     Ind\n",
              "Type       Test\n",
              "Name: 5, dtype: object"
            ]
          },
          "metadata": {
            "tags": []
          },
          "execution_count": 121
        }
      ]
    },
    {
      "cell_type": "code",
      "metadata": {
        "id": "2DYe5q_rgafF",
        "colab_type": "code",
        "colab": {}
      },
      "source": [
        "mg = df.groupby(['country', 'Type'])"
      ],
      "execution_count": 0,
      "outputs": []
    },
    {
      "cell_type": "code",
      "metadata": {
        "id": "XLUmt0SKgabP",
        "colab_type": "code",
        "outputId": "053c7bce-7bfa-42df-e5e2-2107131a62c9",
        "colab": {
          "base_uri": "https://localhost:8080/",
          "height": 204
        }
      },
      "source": [
        "x = mg.get_group(('Ind','Test'))\n",
        "x"
      ],
      "execution_count": 0,
      "outputs": [
        {
          "output_type": "execute_result",
          "data": {
            "text/html": [
              "<div>\n",
              "<style scoped>\n",
              "    .dataframe tbody tr th:only-of-type {\n",
              "        vertical-align: middle;\n",
              "    }\n",
              "\n",
              "    .dataframe tbody tr th {\n",
              "        vertical-align: top;\n",
              "    }\n",
              "\n",
              "    .dataframe thead th {\n",
              "        text-align: right;\n",
              "    }\n",
              "</style>\n",
              "<table border=\"1\" class=\"dataframe\">\n",
              "  <thead>\n",
              "    <tr style=\"text-align: right;\">\n",
              "      <th></th>\n",
              "      <th>PName</th>\n",
              "      <th>Runs</th>\n",
              "      <th>country</th>\n",
              "      <th>Type</th>\n",
              "    </tr>\n",
              "  </thead>\n",
              "  <tbody>\n",
              "    <tr>\n",
              "      <th>4</th>\n",
              "      <td>Sehwag</td>\n",
              "      <td>319</td>\n",
              "      <td>Ind</td>\n",
              "      <td>Test</td>\n",
              "    </tr>\n",
              "    <tr>\n",
              "      <th>5</th>\n",
              "      <td>Kohli</td>\n",
              "      <td>248</td>\n",
              "      <td>Ind</td>\n",
              "      <td>Test</td>\n",
              "    </tr>\n",
              "    <tr>\n",
              "      <th>6</th>\n",
              "      <td>Sachin</td>\n",
              "      <td>241</td>\n",
              "      <td>Ind</td>\n",
              "      <td>Test</td>\n",
              "    </tr>\n",
              "    <tr>\n",
              "      <th>8</th>\n",
              "      <td>Dravid</td>\n",
              "      <td>270</td>\n",
              "      <td>Ind</td>\n",
              "      <td>Test</td>\n",
              "    </tr>\n",
              "    <tr>\n",
              "      <th>23</th>\n",
              "      <td>Dravid</td>\n",
              "      <td>233</td>\n",
              "      <td>Ind</td>\n",
              "      <td>Test</td>\n",
              "    </tr>\n",
              "  </tbody>\n",
              "</table>\n",
              "</div>"
            ],
            "text/plain": [
              "     PName  Runs country  Type\n",
              "4   Sehwag   319     Ind  Test\n",
              "5    Kohli   248     Ind  Test\n",
              "6   Sachin   241     Ind  Test\n",
              "8   Dravid   270     Ind  Test\n",
              "23  Dravid   233     Ind  Test"
            ]
          },
          "metadata": {
            "tags": []
          },
          "execution_count": 124
        }
      ]
    },
    {
      "cell_type": "markdown",
      "metadata": {
        "id": "V-mlr-WJjVZ2",
        "colab_type": "text"
      },
      "source": [
        "Concatenating DataFrame using .concat() :"
      ]
    },
    {
      "cell_type": "code",
      "metadata": {
        "id": "L5I8FIcTjCga",
        "colab_type": "code",
        "colab": {}
      },
      "source": [
        "#Creating dataframe\n",
        "data1 = {'Name':['Jai', 'Princi', 'Gaurav', 'Anuj'], \n",
        "        'Age':[27, 24, 22, 32], \n",
        "        'Address':['Nagpur', 'Kanpur', 'Allahabad', 'Kannuaj'], \n",
        "        'Qualification':['Msc', 'MA', 'MCA', 'Phd']} \n",
        "\n",
        "df = pd.DataFrame(data1)"
      ],
      "execution_count": 0,
      "outputs": []
    },
    {
      "cell_type": "code",
      "metadata": {
        "id": "mKD3p3YPjxW2",
        "colab_type": "code",
        "outputId": "b1a327b5-9abc-433a-9c51-c1eebbdd1de8",
        "colab": {
          "base_uri": "https://localhost:8080/",
          "height": 173
        }
      },
      "source": [
        "df"
      ],
      "execution_count": 0,
      "outputs": [
        {
          "output_type": "execute_result",
          "data": {
            "text/html": [
              "<div>\n",
              "<style scoped>\n",
              "    .dataframe tbody tr th:only-of-type {\n",
              "        vertical-align: middle;\n",
              "    }\n",
              "\n",
              "    .dataframe tbody tr th {\n",
              "        vertical-align: top;\n",
              "    }\n",
              "\n",
              "    .dataframe thead th {\n",
              "        text-align: right;\n",
              "    }\n",
              "</style>\n",
              "<table border=\"1\" class=\"dataframe\">\n",
              "  <thead>\n",
              "    <tr style=\"text-align: right;\">\n",
              "      <th></th>\n",
              "      <th>Name</th>\n",
              "      <th>Age</th>\n",
              "      <th>Address</th>\n",
              "      <th>Qualification</th>\n",
              "    </tr>\n",
              "  </thead>\n",
              "  <tbody>\n",
              "    <tr>\n",
              "      <th>0</th>\n",
              "      <td>Jai</td>\n",
              "      <td>27</td>\n",
              "      <td>Nagpur</td>\n",
              "      <td>Msc</td>\n",
              "    </tr>\n",
              "    <tr>\n",
              "      <th>1</th>\n",
              "      <td>Princi</td>\n",
              "      <td>24</td>\n",
              "      <td>Kanpur</td>\n",
              "      <td>MA</td>\n",
              "    </tr>\n",
              "    <tr>\n",
              "      <th>2</th>\n",
              "      <td>Gaurav</td>\n",
              "      <td>22</td>\n",
              "      <td>Allahabad</td>\n",
              "      <td>MCA</td>\n",
              "    </tr>\n",
              "    <tr>\n",
              "      <th>3</th>\n",
              "      <td>Anuj</td>\n",
              "      <td>32</td>\n",
              "      <td>Kannuaj</td>\n",
              "      <td>Phd</td>\n",
              "    </tr>\n",
              "  </tbody>\n",
              "</table>\n",
              "</div>"
            ],
            "text/plain": [
              "     Name  Age    Address Qualification\n",
              "0     Jai   27     Nagpur           Msc\n",
              "1  Princi   24     Kanpur            MA\n",
              "2  Gaurav   22  Allahabad           MCA\n",
              "3    Anuj   32    Kannuaj           Phd"
            ]
          },
          "metadata": {
            "tags": []
          },
          "execution_count": 126
        }
      ]
    },
    {
      "cell_type": "code",
      "metadata": {
        "id": "VDeN36Q6jCb6",
        "colab_type": "code",
        "colab": {}
      },
      "source": [
        "data2 = {'Name':['Abhi', 'Ayushi', 'Dhiraj', 'Hitesh'], \n",
        "        'Age':[17, 14, 12, 52], \n",
        "        'Address':['Nagpur', 'Kanpur', 'Allahabad', 'Kannuaj'], \n",
        "        'Qualification':['Btech', 'B.A', 'Bcom', 'B.hons']} \n",
        "df1 = pd.DataFrame(data2)"
      ],
      "execution_count": 0,
      "outputs": []
    },
    {
      "cell_type": "code",
      "metadata": {
        "id": "9g6N9duTjCWR",
        "colab_type": "code",
        "outputId": "fa86e4d4-f7e5-4c9d-e6c7-b44c579adad1",
        "colab": {
          "base_uri": "https://localhost:8080/",
          "height": 173
        }
      },
      "source": [
        "df1"
      ],
      "execution_count": 0,
      "outputs": [
        {
          "output_type": "execute_result",
          "data": {
            "text/html": [
              "<div>\n",
              "<style scoped>\n",
              "    .dataframe tbody tr th:only-of-type {\n",
              "        vertical-align: middle;\n",
              "    }\n",
              "\n",
              "    .dataframe tbody tr th {\n",
              "        vertical-align: top;\n",
              "    }\n",
              "\n",
              "    .dataframe thead th {\n",
              "        text-align: right;\n",
              "    }\n",
              "</style>\n",
              "<table border=\"1\" class=\"dataframe\">\n",
              "  <thead>\n",
              "    <tr style=\"text-align: right;\">\n",
              "      <th></th>\n",
              "      <th>Name</th>\n",
              "      <th>Age</th>\n",
              "      <th>Address</th>\n",
              "      <th>Qualification</th>\n",
              "    </tr>\n",
              "  </thead>\n",
              "  <tbody>\n",
              "    <tr>\n",
              "      <th>0</th>\n",
              "      <td>Abhi</td>\n",
              "      <td>17</td>\n",
              "      <td>Nagpur</td>\n",
              "      <td>Btech</td>\n",
              "    </tr>\n",
              "    <tr>\n",
              "      <th>1</th>\n",
              "      <td>Ayushi</td>\n",
              "      <td>14</td>\n",
              "      <td>Kanpur</td>\n",
              "      <td>B.A</td>\n",
              "    </tr>\n",
              "    <tr>\n",
              "      <th>2</th>\n",
              "      <td>Dhiraj</td>\n",
              "      <td>12</td>\n",
              "      <td>Allahabad</td>\n",
              "      <td>Bcom</td>\n",
              "    </tr>\n",
              "    <tr>\n",
              "      <th>3</th>\n",
              "      <td>Hitesh</td>\n",
              "      <td>52</td>\n",
              "      <td>Kannuaj</td>\n",
              "      <td>B.hons</td>\n",
              "    </tr>\n",
              "  </tbody>\n",
              "</table>\n",
              "</div>"
            ],
            "text/plain": [
              "     Name  Age    Address Qualification\n",
              "0    Abhi   17     Nagpur         Btech\n",
              "1  Ayushi   14     Kanpur           B.A\n",
              "2  Dhiraj   12  Allahabad          Bcom\n",
              "3  Hitesh   52    Kannuaj        B.hons"
            ]
          },
          "metadata": {
            "tags": []
          },
          "execution_count": 128
        }
      ]
    },
    {
      "cell_type": "code",
      "metadata": {
        "id": "YlrPjf3kjCSx",
        "colab_type": "code",
        "outputId": "33192a7f-3e55-4d38-dba4-99465ac53085",
        "colab": {
          "base_uri": "https://localhost:8080/",
          "height": 297
        }
      },
      "source": [
        "pd.concat([df,df1])"
      ],
      "execution_count": 0,
      "outputs": [
        {
          "output_type": "execute_result",
          "data": {
            "text/html": [
              "<div>\n",
              "<style scoped>\n",
              "    .dataframe tbody tr th:only-of-type {\n",
              "        vertical-align: middle;\n",
              "    }\n",
              "\n",
              "    .dataframe tbody tr th {\n",
              "        vertical-align: top;\n",
              "    }\n",
              "\n",
              "    .dataframe thead th {\n",
              "        text-align: right;\n",
              "    }\n",
              "</style>\n",
              "<table border=\"1\" class=\"dataframe\">\n",
              "  <thead>\n",
              "    <tr style=\"text-align: right;\">\n",
              "      <th></th>\n",
              "      <th>Name</th>\n",
              "      <th>Age</th>\n",
              "      <th>Address</th>\n",
              "      <th>Qualification</th>\n",
              "    </tr>\n",
              "  </thead>\n",
              "  <tbody>\n",
              "    <tr>\n",
              "      <th>0</th>\n",
              "      <td>Jai</td>\n",
              "      <td>27</td>\n",
              "      <td>Nagpur</td>\n",
              "      <td>Msc</td>\n",
              "    </tr>\n",
              "    <tr>\n",
              "      <th>1</th>\n",
              "      <td>Princi</td>\n",
              "      <td>24</td>\n",
              "      <td>Kanpur</td>\n",
              "      <td>MA</td>\n",
              "    </tr>\n",
              "    <tr>\n",
              "      <th>2</th>\n",
              "      <td>Gaurav</td>\n",
              "      <td>22</td>\n",
              "      <td>Allahabad</td>\n",
              "      <td>MCA</td>\n",
              "    </tr>\n",
              "    <tr>\n",
              "      <th>3</th>\n",
              "      <td>Anuj</td>\n",
              "      <td>32</td>\n",
              "      <td>Kannuaj</td>\n",
              "      <td>Phd</td>\n",
              "    </tr>\n",
              "    <tr>\n",
              "      <th>0</th>\n",
              "      <td>Abhi</td>\n",
              "      <td>17</td>\n",
              "      <td>Nagpur</td>\n",
              "      <td>Btech</td>\n",
              "    </tr>\n",
              "    <tr>\n",
              "      <th>1</th>\n",
              "      <td>Ayushi</td>\n",
              "      <td>14</td>\n",
              "      <td>Kanpur</td>\n",
              "      <td>B.A</td>\n",
              "    </tr>\n",
              "    <tr>\n",
              "      <th>2</th>\n",
              "      <td>Dhiraj</td>\n",
              "      <td>12</td>\n",
              "      <td>Allahabad</td>\n",
              "      <td>Bcom</td>\n",
              "    </tr>\n",
              "    <tr>\n",
              "      <th>3</th>\n",
              "      <td>Hitesh</td>\n",
              "      <td>52</td>\n",
              "      <td>Kannuaj</td>\n",
              "      <td>B.hons</td>\n",
              "    </tr>\n",
              "  </tbody>\n",
              "</table>\n",
              "</div>"
            ],
            "text/plain": [
              "     Name  Age    Address Qualification\n",
              "0     Jai   27     Nagpur           Msc\n",
              "1  Princi   24     Kanpur            MA\n",
              "2  Gaurav   22  Allahabad           MCA\n",
              "3    Anuj   32    Kannuaj           Phd\n",
              "0    Abhi   17     Nagpur         Btech\n",
              "1  Ayushi   14     Kanpur           B.A\n",
              "2  Dhiraj   12  Allahabad          Bcom\n",
              "3  Hitesh   52    Kannuaj        B.hons"
            ]
          },
          "metadata": {
            "tags": []
          },
          "execution_count": 129
        }
      ]
    },
    {
      "cell_type": "code",
      "metadata": {
        "id": "wN6nNdXskAjK",
        "colab_type": "code",
        "outputId": "e92bbd6e-2ba9-4e56-f1e0-5b1ed1178e8a",
        "colab": {
          "base_uri": "https://localhost:8080/",
          "height": 297
        }
      },
      "source": [
        "con = pd.concat([df,df1], ignore_index =True)\n",
        "con"
      ],
      "execution_count": 0,
      "outputs": [
        {
          "output_type": "execute_result",
          "data": {
            "text/html": [
              "<div>\n",
              "<style scoped>\n",
              "    .dataframe tbody tr th:only-of-type {\n",
              "        vertical-align: middle;\n",
              "    }\n",
              "\n",
              "    .dataframe tbody tr th {\n",
              "        vertical-align: top;\n",
              "    }\n",
              "\n",
              "    .dataframe thead th {\n",
              "        text-align: right;\n",
              "    }\n",
              "</style>\n",
              "<table border=\"1\" class=\"dataframe\">\n",
              "  <thead>\n",
              "    <tr style=\"text-align: right;\">\n",
              "      <th></th>\n",
              "      <th>Name</th>\n",
              "      <th>Age</th>\n",
              "      <th>Address</th>\n",
              "      <th>Qualification</th>\n",
              "    </tr>\n",
              "  </thead>\n",
              "  <tbody>\n",
              "    <tr>\n",
              "      <th>0</th>\n",
              "      <td>Jai</td>\n",
              "      <td>27</td>\n",
              "      <td>Nagpur</td>\n",
              "      <td>Msc</td>\n",
              "    </tr>\n",
              "    <tr>\n",
              "      <th>1</th>\n",
              "      <td>Princi</td>\n",
              "      <td>24</td>\n",
              "      <td>Kanpur</td>\n",
              "      <td>MA</td>\n",
              "    </tr>\n",
              "    <tr>\n",
              "      <th>2</th>\n",
              "      <td>Gaurav</td>\n",
              "      <td>22</td>\n",
              "      <td>Allahabad</td>\n",
              "      <td>MCA</td>\n",
              "    </tr>\n",
              "    <tr>\n",
              "      <th>3</th>\n",
              "      <td>Anuj</td>\n",
              "      <td>32</td>\n",
              "      <td>Kannuaj</td>\n",
              "      <td>Phd</td>\n",
              "    </tr>\n",
              "    <tr>\n",
              "      <th>4</th>\n",
              "      <td>Abhi</td>\n",
              "      <td>17</td>\n",
              "      <td>Nagpur</td>\n",
              "      <td>Btech</td>\n",
              "    </tr>\n",
              "    <tr>\n",
              "      <th>5</th>\n",
              "      <td>Ayushi</td>\n",
              "      <td>14</td>\n",
              "      <td>Kanpur</td>\n",
              "      <td>B.A</td>\n",
              "    </tr>\n",
              "    <tr>\n",
              "      <th>6</th>\n",
              "      <td>Dhiraj</td>\n",
              "      <td>12</td>\n",
              "      <td>Allahabad</td>\n",
              "      <td>Bcom</td>\n",
              "    </tr>\n",
              "    <tr>\n",
              "      <th>7</th>\n",
              "      <td>Hitesh</td>\n",
              "      <td>52</td>\n",
              "      <td>Kannuaj</td>\n",
              "      <td>B.hons</td>\n",
              "    </tr>\n",
              "  </tbody>\n",
              "</table>\n",
              "</div>"
            ],
            "text/plain": [
              "     Name  Age    Address Qualification\n",
              "0     Jai   27     Nagpur           Msc\n",
              "1  Princi   24     Kanpur            MA\n",
              "2  Gaurav   22  Allahabad           MCA\n",
              "3    Anuj   32    Kannuaj           Phd\n",
              "4    Abhi   17     Nagpur         Btech\n",
              "5  Ayushi   14     Kanpur           B.A\n",
              "6  Dhiraj   12  Allahabad          Bcom\n",
              "7  Hitesh   52    Kannuaj        B.hons"
            ]
          },
          "metadata": {
            "tags": []
          },
          "execution_count": 130
        }
      ]
    },
    {
      "cell_type": "code",
      "metadata": {
        "id": "w0zW8GrTkAfA",
        "colab_type": "code",
        "outputId": "d2f25b24-f490-4cb2-f0c3-53f0bceedef5",
        "colab": {
          "base_uri": "https://localhost:8080/",
          "height": 297
        }
      },
      "source": [
        "con1 = df.append(df1, ignore_index =True)\n",
        "con1"
      ],
      "execution_count": 0,
      "outputs": [
        {
          "output_type": "execute_result",
          "data": {
            "text/html": [
              "<div>\n",
              "<style scoped>\n",
              "    .dataframe tbody tr th:only-of-type {\n",
              "        vertical-align: middle;\n",
              "    }\n",
              "\n",
              "    .dataframe tbody tr th {\n",
              "        vertical-align: top;\n",
              "    }\n",
              "\n",
              "    .dataframe thead th {\n",
              "        text-align: right;\n",
              "    }\n",
              "</style>\n",
              "<table border=\"1\" class=\"dataframe\">\n",
              "  <thead>\n",
              "    <tr style=\"text-align: right;\">\n",
              "      <th></th>\n",
              "      <th>Name</th>\n",
              "      <th>Age</th>\n",
              "      <th>Address</th>\n",
              "      <th>Qualification</th>\n",
              "    </tr>\n",
              "  </thead>\n",
              "  <tbody>\n",
              "    <tr>\n",
              "      <th>0</th>\n",
              "      <td>Jai</td>\n",
              "      <td>27</td>\n",
              "      <td>Nagpur</td>\n",
              "      <td>Msc</td>\n",
              "    </tr>\n",
              "    <tr>\n",
              "      <th>1</th>\n",
              "      <td>Princi</td>\n",
              "      <td>24</td>\n",
              "      <td>Kanpur</td>\n",
              "      <td>MA</td>\n",
              "    </tr>\n",
              "    <tr>\n",
              "      <th>2</th>\n",
              "      <td>Gaurav</td>\n",
              "      <td>22</td>\n",
              "      <td>Allahabad</td>\n",
              "      <td>MCA</td>\n",
              "    </tr>\n",
              "    <tr>\n",
              "      <th>3</th>\n",
              "      <td>Anuj</td>\n",
              "      <td>32</td>\n",
              "      <td>Kannuaj</td>\n",
              "      <td>Phd</td>\n",
              "    </tr>\n",
              "    <tr>\n",
              "      <th>4</th>\n",
              "      <td>Abhi</td>\n",
              "      <td>17</td>\n",
              "      <td>Nagpur</td>\n",
              "      <td>Btech</td>\n",
              "    </tr>\n",
              "    <tr>\n",
              "      <th>5</th>\n",
              "      <td>Ayushi</td>\n",
              "      <td>14</td>\n",
              "      <td>Kanpur</td>\n",
              "      <td>B.A</td>\n",
              "    </tr>\n",
              "    <tr>\n",
              "      <th>6</th>\n",
              "      <td>Dhiraj</td>\n",
              "      <td>12</td>\n",
              "      <td>Allahabad</td>\n",
              "      <td>Bcom</td>\n",
              "    </tr>\n",
              "    <tr>\n",
              "      <th>7</th>\n",
              "      <td>Hitesh</td>\n",
              "      <td>52</td>\n",
              "      <td>Kannuaj</td>\n",
              "      <td>B.hons</td>\n",
              "    </tr>\n",
              "  </tbody>\n",
              "</table>\n",
              "</div>"
            ],
            "text/plain": [
              "     Name  Age    Address Qualification\n",
              "0     Jai   27     Nagpur           Msc\n",
              "1  Princi   24     Kanpur            MA\n",
              "2  Gaurav   22  Allahabad           MCA\n",
              "3    Anuj   32    Kannuaj           Phd\n",
              "4    Abhi   17     Nagpur         Btech\n",
              "5  Ayushi   14     Kanpur           B.A\n",
              "6  Dhiraj   12  Allahabad          Bcom\n",
              "7  Hitesh   52    Kannuaj        B.hons"
            ]
          },
          "metadata": {
            "tags": []
          },
          "execution_count": 131
        }
      ]
    },
    {
      "cell_type": "markdown",
      "metadata": {
        "id": "Ocw9TURP-pHU",
        "colab_type": "text"
      },
      "source": [
        "When to concat and when to append"
      ]
    },
    {
      "cell_type": "code",
      "metadata": {
        "id": "HJ4rwOfc0XcP",
        "colab_type": "code",
        "colab": {}
      },
      "source": [
        "data1 = {'Name':['Jai', 'Princi', 'Gaurav', 'Anuj'], \n",
        "        'Age':[27, 24, 22, 32],} \n",
        "data2 = {'Address':['Nagpur', 'Kanpur', 'Allahabad', 'Kannuaj'], \n",
        "        'Qualification':['Btech', 'B.A', 'Bcom', 'B.hons']} \n",
        "df = pd.DataFrame(data1)\n",
        "df1 = pd.DataFrame(data2)"
      ],
      "execution_count": 0,
      "outputs": []
    },
    {
      "cell_type": "code",
      "metadata": {
        "id": "OWYdoyF427ua",
        "colab_type": "code",
        "outputId": "806eeb4f-7b79-4d3a-d2c6-e6a2b4260774",
        "colab": {
          "base_uri": "https://localhost:8080/",
          "height": 173
        }
      },
      "source": [
        "df"
      ],
      "execution_count": 0,
      "outputs": [
        {
          "output_type": "execute_result",
          "data": {
            "text/html": [
              "<div>\n",
              "<style scoped>\n",
              "    .dataframe tbody tr th:only-of-type {\n",
              "        vertical-align: middle;\n",
              "    }\n",
              "\n",
              "    .dataframe tbody tr th {\n",
              "        vertical-align: top;\n",
              "    }\n",
              "\n",
              "    .dataframe thead th {\n",
              "        text-align: right;\n",
              "    }\n",
              "</style>\n",
              "<table border=\"1\" class=\"dataframe\">\n",
              "  <thead>\n",
              "    <tr style=\"text-align: right;\">\n",
              "      <th></th>\n",
              "      <th>Name</th>\n",
              "      <th>Age</th>\n",
              "    </tr>\n",
              "  </thead>\n",
              "  <tbody>\n",
              "    <tr>\n",
              "      <th>0</th>\n",
              "      <td>Jai</td>\n",
              "      <td>27</td>\n",
              "    </tr>\n",
              "    <tr>\n",
              "      <th>1</th>\n",
              "      <td>Princi</td>\n",
              "      <td>24</td>\n",
              "    </tr>\n",
              "    <tr>\n",
              "      <th>2</th>\n",
              "      <td>Gaurav</td>\n",
              "      <td>22</td>\n",
              "    </tr>\n",
              "    <tr>\n",
              "      <th>3</th>\n",
              "      <td>Anuj</td>\n",
              "      <td>32</td>\n",
              "    </tr>\n",
              "  </tbody>\n",
              "</table>\n",
              "</div>"
            ],
            "text/plain": [
              "     Name  Age\n",
              "0     Jai   27\n",
              "1  Princi   24\n",
              "2  Gaurav   22\n",
              "3    Anuj   32"
            ]
          },
          "metadata": {
            "tags": []
          },
          "execution_count": 133
        }
      ]
    },
    {
      "cell_type": "code",
      "metadata": {
        "id": "s7JwMvA027z9",
        "colab_type": "code",
        "outputId": "870ed255-cf59-499e-8f13-b699df25320b",
        "colab": {
          "base_uri": "https://localhost:8080/",
          "height": 173
        }
      },
      "source": [
        "df1"
      ],
      "execution_count": 0,
      "outputs": [
        {
          "output_type": "execute_result",
          "data": {
            "text/html": [
              "<div>\n",
              "<style scoped>\n",
              "    .dataframe tbody tr th:only-of-type {\n",
              "        vertical-align: middle;\n",
              "    }\n",
              "\n",
              "    .dataframe tbody tr th {\n",
              "        vertical-align: top;\n",
              "    }\n",
              "\n",
              "    .dataframe thead th {\n",
              "        text-align: right;\n",
              "    }\n",
              "</style>\n",
              "<table border=\"1\" class=\"dataframe\">\n",
              "  <thead>\n",
              "    <tr style=\"text-align: right;\">\n",
              "      <th></th>\n",
              "      <th>Address</th>\n",
              "      <th>Qualification</th>\n",
              "    </tr>\n",
              "  </thead>\n",
              "  <tbody>\n",
              "    <tr>\n",
              "      <th>0</th>\n",
              "      <td>Nagpur</td>\n",
              "      <td>Btech</td>\n",
              "    </tr>\n",
              "    <tr>\n",
              "      <th>1</th>\n",
              "      <td>Kanpur</td>\n",
              "      <td>B.A</td>\n",
              "    </tr>\n",
              "    <tr>\n",
              "      <th>2</th>\n",
              "      <td>Allahabad</td>\n",
              "      <td>Bcom</td>\n",
              "    </tr>\n",
              "    <tr>\n",
              "      <th>3</th>\n",
              "      <td>Kannuaj</td>\n",
              "      <td>B.hons</td>\n",
              "    </tr>\n",
              "  </tbody>\n",
              "</table>\n",
              "</div>"
            ],
            "text/plain": [
              "     Address Qualification\n",
              "0     Nagpur         Btech\n",
              "1     Kanpur           B.A\n",
              "2  Allahabad          Bcom\n",
              "3    Kannuaj        B.hons"
            ]
          },
          "metadata": {
            "tags": []
          },
          "execution_count": 134
        }
      ]
    },
    {
      "cell_type": "code",
      "metadata": {
        "id": "HI0G7eIk2-Ij",
        "colab_type": "code",
        "outputId": "11bc4f6b-584e-495b-cba3-886eb94ca098",
        "colab": {
          "base_uri": "https://localhost:8080/",
          "height": 173
        }
      },
      "source": [
        "con2 = pd.concat([df,df1], axis = 1)\n",
        "con2"
      ],
      "execution_count": 0,
      "outputs": [
        {
          "output_type": "execute_result",
          "data": {
            "text/html": [
              "<div>\n",
              "<style scoped>\n",
              "    .dataframe tbody tr th:only-of-type {\n",
              "        vertical-align: middle;\n",
              "    }\n",
              "\n",
              "    .dataframe tbody tr th {\n",
              "        vertical-align: top;\n",
              "    }\n",
              "\n",
              "    .dataframe thead th {\n",
              "        text-align: right;\n",
              "    }\n",
              "</style>\n",
              "<table border=\"1\" class=\"dataframe\">\n",
              "  <thead>\n",
              "    <tr style=\"text-align: right;\">\n",
              "      <th></th>\n",
              "      <th>Name</th>\n",
              "      <th>Age</th>\n",
              "      <th>Address</th>\n",
              "      <th>Qualification</th>\n",
              "    </tr>\n",
              "  </thead>\n",
              "  <tbody>\n",
              "    <tr>\n",
              "      <th>0</th>\n",
              "      <td>Jai</td>\n",
              "      <td>27</td>\n",
              "      <td>Nagpur</td>\n",
              "      <td>Btech</td>\n",
              "    </tr>\n",
              "    <tr>\n",
              "      <th>1</th>\n",
              "      <td>Princi</td>\n",
              "      <td>24</td>\n",
              "      <td>Kanpur</td>\n",
              "      <td>B.A</td>\n",
              "    </tr>\n",
              "    <tr>\n",
              "      <th>2</th>\n",
              "      <td>Gaurav</td>\n",
              "      <td>22</td>\n",
              "      <td>Allahabad</td>\n",
              "      <td>Bcom</td>\n",
              "    </tr>\n",
              "    <tr>\n",
              "      <th>3</th>\n",
              "      <td>Anuj</td>\n",
              "      <td>32</td>\n",
              "      <td>Kannuaj</td>\n",
              "      <td>B.hons</td>\n",
              "    </tr>\n",
              "  </tbody>\n",
              "</table>\n",
              "</div>"
            ],
            "text/plain": [
              "     Name  Age    Address Qualification\n",
              "0     Jai   27     Nagpur         Btech\n",
              "1  Princi   24     Kanpur           B.A\n",
              "2  Gaurav   22  Allahabad          Bcom\n",
              "3    Anuj   32    Kannuaj        B.hons"
            ]
          },
          "metadata": {
            "tags": []
          },
          "execution_count": 135
        }
      ]
    },
    {
      "cell_type": "markdown",
      "metadata": {
        "id": "1S4IJCP0n8y_",
        "colab_type": "text"
      },
      "source": [
        "Joins:\n",
        "Inner, Outer, Left Right"
      ]
    },
    {
      "cell_type": "code",
      "metadata": {
        "id": "0M6ZTFFCDAtr",
        "colab_type": "code",
        "outputId": "d5f7d9b9-dae7-4215-ec1e-31a1a096a5e8",
        "colab": {
          "base_uri": "https://localhost:8080/",
          "height": 71
        }
      },
      "source": [
        "#creating dataframe\n",
        "boy_dict = {'Hobbies': ['Reading', 'Music', 'Cricket', 'Soccer'], \n",
        "             'Money_spent': [50, 70, 80 ,100],\n",
        "              'Time_spent':[2, 1, 4, 4]}\n",
        "boy_dict"
      ],
      "execution_count": 0,
      "outputs": [
        {
          "output_type": "execute_result",
          "data": {
            "text/plain": [
              "{'Hobbies': ['Reading', 'Music', 'Cricket', 'Soccer'],\n",
              " 'Money_spent': [50, 70, 80, 100],\n",
              " 'Time_spent': [2, 1, 4, 4]}"
            ]
          },
          "metadata": {
            "tags": []
          },
          "execution_count": 136
        }
      ]
    },
    {
      "cell_type": "code",
      "metadata": {
        "id": "TBkVe8eWDArA",
        "colab_type": "code",
        "outputId": "667b9ae0-9d4d-4c2c-e23f-0e613df59753",
        "colab": {
          "base_uri": "https://localhost:8080/",
          "height": 173
        }
      },
      "source": [
        "boy = pd.DataFrame(boy_dict)\n",
        "boy"
      ],
      "execution_count": 0,
      "outputs": [
        {
          "output_type": "execute_result",
          "data": {
            "text/html": [
              "<div>\n",
              "<style scoped>\n",
              "    .dataframe tbody tr th:only-of-type {\n",
              "        vertical-align: middle;\n",
              "    }\n",
              "\n",
              "    .dataframe tbody tr th {\n",
              "        vertical-align: top;\n",
              "    }\n",
              "\n",
              "    .dataframe thead th {\n",
              "        text-align: right;\n",
              "    }\n",
              "</style>\n",
              "<table border=\"1\" class=\"dataframe\">\n",
              "  <thead>\n",
              "    <tr style=\"text-align: right;\">\n",
              "      <th></th>\n",
              "      <th>Hobbies</th>\n",
              "      <th>Money_spent</th>\n",
              "      <th>Time_spent</th>\n",
              "    </tr>\n",
              "  </thead>\n",
              "  <tbody>\n",
              "    <tr>\n",
              "      <th>0</th>\n",
              "      <td>Reading</td>\n",
              "      <td>50</td>\n",
              "      <td>2</td>\n",
              "    </tr>\n",
              "    <tr>\n",
              "      <th>1</th>\n",
              "      <td>Music</td>\n",
              "      <td>70</td>\n",
              "      <td>1</td>\n",
              "    </tr>\n",
              "    <tr>\n",
              "      <th>2</th>\n",
              "      <td>Cricket</td>\n",
              "      <td>80</td>\n",
              "      <td>4</td>\n",
              "    </tr>\n",
              "    <tr>\n",
              "      <th>3</th>\n",
              "      <td>Soccer</td>\n",
              "      <td>100</td>\n",
              "      <td>4</td>\n",
              "    </tr>\n",
              "  </tbody>\n",
              "</table>\n",
              "</div>"
            ],
            "text/plain": [
              "   Hobbies  Money_spent  Time_spent\n",
              "0  Reading           50           2\n",
              "1    Music           70           1\n",
              "2  Cricket           80           4\n",
              "3   Soccer          100           4"
            ]
          },
          "metadata": {
            "tags": []
          },
          "execution_count": 137
        }
      ]
    },
    {
      "cell_type": "code",
      "metadata": {
        "id": "nNF4GU8CDAoJ",
        "colab_type": "code",
        "outputId": "acff402b-b54a-4f80-b80f-ec4e940951a9",
        "colab": {
          "base_uri": "https://localhost:8080/",
          "height": 71
        }
      },
      "source": [
        "girl_dict = {'Hobbies': ['Reading', 'Music', 'TvSeries', 'Fashion'], \n",
        "             'Money_spent': [20, 90, 10 ,400],\n",
        "              'Time_spent':[1, 3, 14, 24]}\n",
        "girl_dict"
      ],
      "execution_count": 0,
      "outputs": [
        {
          "output_type": "execute_result",
          "data": {
            "text/plain": [
              "{'Hobbies': ['Reading', 'Music', 'TvSeries', 'Fashion'],\n",
              " 'Money_spent': [20, 90, 10, 400],\n",
              " 'Time_spent': [1, 3, 14, 24]}"
            ]
          },
          "metadata": {
            "tags": []
          },
          "execution_count": 138
        }
      ]
    },
    {
      "cell_type": "code",
      "metadata": {
        "id": "ZXqoE5D9DAhP",
        "colab_type": "code",
        "outputId": "88f27d1c-9d7f-417d-8883-3827b71d765b",
        "colab": {
          "base_uri": "https://localhost:8080/",
          "height": 173
        }
      },
      "source": [
        "girl = pd.DataFrame(girl_dict)\n",
        "girl"
      ],
      "execution_count": 0,
      "outputs": [
        {
          "output_type": "execute_result",
          "data": {
            "text/html": [
              "<div>\n",
              "<style scoped>\n",
              "    .dataframe tbody tr th:only-of-type {\n",
              "        vertical-align: middle;\n",
              "    }\n",
              "\n",
              "    .dataframe tbody tr th {\n",
              "        vertical-align: top;\n",
              "    }\n",
              "\n",
              "    .dataframe thead th {\n",
              "        text-align: right;\n",
              "    }\n",
              "</style>\n",
              "<table border=\"1\" class=\"dataframe\">\n",
              "  <thead>\n",
              "    <tr style=\"text-align: right;\">\n",
              "      <th></th>\n",
              "      <th>Hobbies</th>\n",
              "      <th>Money_spent</th>\n",
              "      <th>Time_spent</th>\n",
              "    </tr>\n",
              "  </thead>\n",
              "  <tbody>\n",
              "    <tr>\n",
              "      <th>0</th>\n",
              "      <td>Reading</td>\n",
              "      <td>20</td>\n",
              "      <td>1</td>\n",
              "    </tr>\n",
              "    <tr>\n",
              "      <th>1</th>\n",
              "      <td>Music</td>\n",
              "      <td>90</td>\n",
              "      <td>3</td>\n",
              "    </tr>\n",
              "    <tr>\n",
              "      <th>2</th>\n",
              "      <td>TvSeries</td>\n",
              "      <td>10</td>\n",
              "      <td>14</td>\n",
              "    </tr>\n",
              "    <tr>\n",
              "      <th>3</th>\n",
              "      <td>Fashion</td>\n",
              "      <td>400</td>\n",
              "      <td>24</td>\n",
              "    </tr>\n",
              "  </tbody>\n",
              "</table>\n",
              "</div>"
            ],
            "text/plain": [
              "    Hobbies  Money_spent  Time_spent\n",
              "0   Reading           20           1\n",
              "1     Music           90           3\n",
              "2  TvSeries           10          14\n",
              "3   Fashion          400          24"
            ]
          },
          "metadata": {
            "tags": []
          },
          "execution_count": 139
        }
      ]
    },
    {
      "cell_type": "code",
      "metadata": {
        "id": "svMqKeTaDAdZ",
        "colab_type": "code",
        "outputId": "e02f55ef-d6ff-4998-eda8-23d1e94737bc",
        "colab": {
          "base_uri": "https://localhost:8080/",
          "height": 173
        }
      },
      "source": [
        "#Boy is dominating the relationship(Left)\n",
        "relationship = pd.merge(boy, girl, on='Hobbies', how='left')\n",
        "relationship"
      ],
      "execution_count": 0,
      "outputs": [
        {
          "output_type": "execute_result",
          "data": {
            "text/html": [
              "<div>\n",
              "<style scoped>\n",
              "    .dataframe tbody tr th:only-of-type {\n",
              "        vertical-align: middle;\n",
              "    }\n",
              "\n",
              "    .dataframe tbody tr th {\n",
              "        vertical-align: top;\n",
              "    }\n",
              "\n",
              "    .dataframe thead th {\n",
              "        text-align: right;\n",
              "    }\n",
              "</style>\n",
              "<table border=\"1\" class=\"dataframe\">\n",
              "  <thead>\n",
              "    <tr style=\"text-align: right;\">\n",
              "      <th></th>\n",
              "      <th>Hobbies</th>\n",
              "      <th>Money_spent_x</th>\n",
              "      <th>Time_spent_x</th>\n",
              "      <th>Money_spent_y</th>\n",
              "      <th>Time_spent_y</th>\n",
              "    </tr>\n",
              "  </thead>\n",
              "  <tbody>\n",
              "    <tr>\n",
              "      <th>0</th>\n",
              "      <td>Reading</td>\n",
              "      <td>50</td>\n",
              "      <td>2</td>\n",
              "      <td>20.0</td>\n",
              "      <td>1.0</td>\n",
              "    </tr>\n",
              "    <tr>\n",
              "      <th>1</th>\n",
              "      <td>Music</td>\n",
              "      <td>70</td>\n",
              "      <td>1</td>\n",
              "      <td>90.0</td>\n",
              "      <td>3.0</td>\n",
              "    </tr>\n",
              "    <tr>\n",
              "      <th>2</th>\n",
              "      <td>Cricket</td>\n",
              "      <td>80</td>\n",
              "      <td>4</td>\n",
              "      <td>NaN</td>\n",
              "      <td>NaN</td>\n",
              "    </tr>\n",
              "    <tr>\n",
              "      <th>3</th>\n",
              "      <td>Soccer</td>\n",
              "      <td>100</td>\n",
              "      <td>4</td>\n",
              "      <td>NaN</td>\n",
              "      <td>NaN</td>\n",
              "    </tr>\n",
              "  </tbody>\n",
              "</table>\n",
              "</div>"
            ],
            "text/plain": [
              "   Hobbies  Money_spent_x  Time_spent_x  Money_spent_y  Time_spent_y\n",
              "0  Reading             50             2           20.0           1.0\n",
              "1    Music             70             1           90.0           3.0\n",
              "2  Cricket             80             4            NaN           NaN\n",
              "3   Soccer            100             4            NaN           NaN"
            ]
          },
          "metadata": {
            "tags": []
          },
          "execution_count": 140
        }
      ]
    },
    {
      "cell_type": "code",
      "metadata": {
        "id": "Wk1pAVXyEzu2",
        "colab_type": "code",
        "outputId": "1c1db72a-d30a-4cc5-93e9-f3b58d8d8a32",
        "colab": {
          "base_uri": "https://localhost:8080/",
          "height": 173
        }
      },
      "source": [
        "#Girl is dominating the relationship(Right)\n",
        "relationship = pd.merge(boy, girl, on='Hobbies', how='right')\n",
        "relationship"
      ],
      "execution_count": 0,
      "outputs": [
        {
          "output_type": "execute_result",
          "data": {
            "text/html": [
              "<div>\n",
              "<style scoped>\n",
              "    .dataframe tbody tr th:only-of-type {\n",
              "        vertical-align: middle;\n",
              "    }\n",
              "\n",
              "    .dataframe tbody tr th {\n",
              "        vertical-align: top;\n",
              "    }\n",
              "\n",
              "    .dataframe thead th {\n",
              "        text-align: right;\n",
              "    }\n",
              "</style>\n",
              "<table border=\"1\" class=\"dataframe\">\n",
              "  <thead>\n",
              "    <tr style=\"text-align: right;\">\n",
              "      <th></th>\n",
              "      <th>Hobbies</th>\n",
              "      <th>Money_spent_x</th>\n",
              "      <th>Time_spent_x</th>\n",
              "      <th>Money_spent_y</th>\n",
              "      <th>Time_spent_y</th>\n",
              "    </tr>\n",
              "  </thead>\n",
              "  <tbody>\n",
              "    <tr>\n",
              "      <th>0</th>\n",
              "      <td>Reading</td>\n",
              "      <td>50.0</td>\n",
              "      <td>2.0</td>\n",
              "      <td>20</td>\n",
              "      <td>1</td>\n",
              "    </tr>\n",
              "    <tr>\n",
              "      <th>1</th>\n",
              "      <td>Music</td>\n",
              "      <td>70.0</td>\n",
              "      <td>1.0</td>\n",
              "      <td>90</td>\n",
              "      <td>3</td>\n",
              "    </tr>\n",
              "    <tr>\n",
              "      <th>2</th>\n",
              "      <td>TvSeries</td>\n",
              "      <td>NaN</td>\n",
              "      <td>NaN</td>\n",
              "      <td>10</td>\n",
              "      <td>14</td>\n",
              "    </tr>\n",
              "    <tr>\n",
              "      <th>3</th>\n",
              "      <td>Fashion</td>\n",
              "      <td>NaN</td>\n",
              "      <td>NaN</td>\n",
              "      <td>400</td>\n",
              "      <td>24</td>\n",
              "    </tr>\n",
              "  </tbody>\n",
              "</table>\n",
              "</div>"
            ],
            "text/plain": [
              "    Hobbies  Money_spent_x  Time_spent_x  Money_spent_y  Time_spent_y\n",
              "0   Reading           50.0           2.0             20             1\n",
              "1     Music           70.0           1.0             90             3\n",
              "2  TvSeries            NaN           NaN             10            14\n",
              "3   Fashion            NaN           NaN            400            24"
            ]
          },
          "metadata": {
            "tags": []
          },
          "execution_count": 141
        }
      ]
    },
    {
      "cell_type": "code",
      "metadata": {
        "id": "DDn5BWMFE5uu",
        "colab_type": "code",
        "outputId": "0090d4c7-30e8-409e-90af-4025f73883f4",
        "colab": {
          "base_uri": "https://localhost:8080/",
          "height": 111
        }
      },
      "source": [
        "#Only doing common things(inner)\n",
        "relationship = pd.merge(boy, girl, on='Hobbies', how='inner')\n",
        "relationship"
      ],
      "execution_count": 0,
      "outputs": [
        {
          "output_type": "execute_result",
          "data": {
            "text/html": [
              "<div>\n",
              "<style scoped>\n",
              "    .dataframe tbody tr th:only-of-type {\n",
              "        vertical-align: middle;\n",
              "    }\n",
              "\n",
              "    .dataframe tbody tr th {\n",
              "        vertical-align: top;\n",
              "    }\n",
              "\n",
              "    .dataframe thead th {\n",
              "        text-align: right;\n",
              "    }\n",
              "</style>\n",
              "<table border=\"1\" class=\"dataframe\">\n",
              "  <thead>\n",
              "    <tr style=\"text-align: right;\">\n",
              "      <th></th>\n",
              "      <th>Hobbies</th>\n",
              "      <th>Money_spent_x</th>\n",
              "      <th>Time_spent_x</th>\n",
              "      <th>Money_spent_y</th>\n",
              "      <th>Time_spent_y</th>\n",
              "    </tr>\n",
              "  </thead>\n",
              "  <tbody>\n",
              "    <tr>\n",
              "      <th>0</th>\n",
              "      <td>Reading</td>\n",
              "      <td>50</td>\n",
              "      <td>2</td>\n",
              "      <td>20</td>\n",
              "      <td>1</td>\n",
              "    </tr>\n",
              "    <tr>\n",
              "      <th>1</th>\n",
              "      <td>Music</td>\n",
              "      <td>70</td>\n",
              "      <td>1</td>\n",
              "      <td>90</td>\n",
              "      <td>3</td>\n",
              "    </tr>\n",
              "  </tbody>\n",
              "</table>\n",
              "</div>"
            ],
            "text/plain": [
              "   Hobbies  Money_spent_x  Time_spent_x  Money_spent_y  Time_spent_y\n",
              "0  Reading             50             2             20             1\n",
              "1    Music             70             1             90             3"
            ]
          },
          "metadata": {
            "tags": []
          },
          "execution_count": 142
        }
      ]
    },
    {
      "cell_type": "code",
      "metadata": {
        "id": "YPm6xfhlE57S",
        "colab_type": "code",
        "outputId": "23d76383-0b83-45aa-b648-7e63c6663266",
        "colab": {
          "base_uri": "https://localhost:8080/",
          "height": 235
        }
      },
      "source": [
        "#Mutual respect in the relationship(outer)\n",
        "relationship = pd.merge(boy, girl, on='Hobbies', how='outer')\n",
        "relationship"
      ],
      "execution_count": 0,
      "outputs": [
        {
          "output_type": "execute_result",
          "data": {
            "text/html": [
              "<div>\n",
              "<style scoped>\n",
              "    .dataframe tbody tr th:only-of-type {\n",
              "        vertical-align: middle;\n",
              "    }\n",
              "\n",
              "    .dataframe tbody tr th {\n",
              "        vertical-align: top;\n",
              "    }\n",
              "\n",
              "    .dataframe thead th {\n",
              "        text-align: right;\n",
              "    }\n",
              "</style>\n",
              "<table border=\"1\" class=\"dataframe\">\n",
              "  <thead>\n",
              "    <tr style=\"text-align: right;\">\n",
              "      <th></th>\n",
              "      <th>Hobbies</th>\n",
              "      <th>Money_spent_x</th>\n",
              "      <th>Time_spent_x</th>\n",
              "      <th>Money_spent_y</th>\n",
              "      <th>Time_spent_y</th>\n",
              "    </tr>\n",
              "  </thead>\n",
              "  <tbody>\n",
              "    <tr>\n",
              "      <th>0</th>\n",
              "      <td>Reading</td>\n",
              "      <td>50.0</td>\n",
              "      <td>2.0</td>\n",
              "      <td>20.0</td>\n",
              "      <td>1.0</td>\n",
              "    </tr>\n",
              "    <tr>\n",
              "      <th>1</th>\n",
              "      <td>Music</td>\n",
              "      <td>70.0</td>\n",
              "      <td>1.0</td>\n",
              "      <td>90.0</td>\n",
              "      <td>3.0</td>\n",
              "    </tr>\n",
              "    <tr>\n",
              "      <th>2</th>\n",
              "      <td>Cricket</td>\n",
              "      <td>80.0</td>\n",
              "      <td>4.0</td>\n",
              "      <td>NaN</td>\n",
              "      <td>NaN</td>\n",
              "    </tr>\n",
              "    <tr>\n",
              "      <th>3</th>\n",
              "      <td>Soccer</td>\n",
              "      <td>100.0</td>\n",
              "      <td>4.0</td>\n",
              "      <td>NaN</td>\n",
              "      <td>NaN</td>\n",
              "    </tr>\n",
              "    <tr>\n",
              "      <th>4</th>\n",
              "      <td>TvSeries</td>\n",
              "      <td>NaN</td>\n",
              "      <td>NaN</td>\n",
              "      <td>10.0</td>\n",
              "      <td>14.0</td>\n",
              "    </tr>\n",
              "    <tr>\n",
              "      <th>5</th>\n",
              "      <td>Fashion</td>\n",
              "      <td>NaN</td>\n",
              "      <td>NaN</td>\n",
              "      <td>400.0</td>\n",
              "      <td>24.0</td>\n",
              "    </tr>\n",
              "  </tbody>\n",
              "</table>\n",
              "</div>"
            ],
            "text/plain": [
              "    Hobbies  Money_spent_x  Time_spent_x  Money_spent_y  Time_spent_y\n",
              "0   Reading           50.0           2.0           20.0           1.0\n",
              "1     Music           70.0           1.0           90.0           3.0\n",
              "2   Cricket           80.0           4.0            NaN           NaN\n",
              "3    Soccer          100.0           4.0            NaN           NaN\n",
              "4  TvSeries            NaN           NaN           10.0          14.0\n",
              "5   Fashion            NaN           NaN          400.0          24.0"
            ]
          },
          "metadata": {
            "tags": []
          },
          "execution_count": 143
        }
      ]
    },
    {
      "cell_type": "code",
      "metadata": {
        "id": "4cc7Yt9woDBC",
        "colab_type": "code",
        "colab": {}
      },
      "source": [
        "#Creating dataframe\n",
        "booking_dict = {'booking_id':[5001, 5002, 5003, 5004, 5005, 5006], \n",
        "        'booking_date':['2019-03-03', '2019-03-05', '2019-03-07', '2019-03-11', '2019-05-15', '2019-05-27'], \n",
        "        'room_number':[101, 512, 234,119, 234, 101], \n",
        "        'guest_id':[1027, 1179, 1106, 1238, 1524, 1786],\n",
        "         'occupants': [1, 2, 4, 2, 1, 1],\n",
        "         'room_type':['single', 'double', 'family', 'single', 'single', 'single'], \n",
        "        'nights':[7, 4, 2, 3, 1, 1], \n",
        "        'arrival_time':['13.00', '10.00', '17.00', '11.00', '19.00', '14.00']} \n",
        "\n",
        "booking = pd.DataFrame(booking_dict)"
      ],
      "execution_count": 0,
      "outputs": []
    },
    {
      "cell_type": "code",
      "metadata": {
        "id": "x7xZ-H9NoC9p",
        "colab_type": "code",
        "outputId": "abea44e9-10cd-4bb8-895f-ac8d154906e7",
        "colab": {
          "base_uri": "https://localhost:8080/",
          "height": 225
        }
      },
      "source": [
        "booking"
      ],
      "execution_count": 0,
      "outputs": [
        {
          "output_type": "execute_result",
          "data": {
            "text/html": [
              "<div>\n",
              "<style scoped>\n",
              "    .dataframe tbody tr th:only-of-type {\n",
              "        vertical-align: middle;\n",
              "    }\n",
              "\n",
              "    .dataframe tbody tr th {\n",
              "        vertical-align: top;\n",
              "    }\n",
              "\n",
              "    .dataframe thead th {\n",
              "        text-align: right;\n",
              "    }\n",
              "</style>\n",
              "<table border=\"1\" class=\"dataframe\">\n",
              "  <thead>\n",
              "    <tr style=\"text-align: right;\">\n",
              "      <th></th>\n",
              "      <th>booking_id</th>\n",
              "      <th>booking_date</th>\n",
              "      <th>room_number</th>\n",
              "      <th>guest_id</th>\n",
              "      <th>occupants</th>\n",
              "      <th>room_type</th>\n",
              "      <th>nights</th>\n",
              "      <th>arrival_time</th>\n",
              "    </tr>\n",
              "  </thead>\n",
              "  <tbody>\n",
              "    <tr>\n",
              "      <th>0</th>\n",
              "      <td>5001</td>\n",
              "      <td>2019-03-03</td>\n",
              "      <td>101</td>\n",
              "      <td>1027</td>\n",
              "      <td>1</td>\n",
              "      <td>single</td>\n",
              "      <td>7</td>\n",
              "      <td>13.00</td>\n",
              "    </tr>\n",
              "    <tr>\n",
              "      <th>1</th>\n",
              "      <td>5002</td>\n",
              "      <td>2019-03-05</td>\n",
              "      <td>512</td>\n",
              "      <td>1179</td>\n",
              "      <td>2</td>\n",
              "      <td>double</td>\n",
              "      <td>4</td>\n",
              "      <td>10.00</td>\n",
              "    </tr>\n",
              "    <tr>\n",
              "      <th>2</th>\n",
              "      <td>5003</td>\n",
              "      <td>2019-03-07</td>\n",
              "      <td>234</td>\n",
              "      <td>1106</td>\n",
              "      <td>4</td>\n",
              "      <td>family</td>\n",
              "      <td>2</td>\n",
              "      <td>17.00</td>\n",
              "    </tr>\n",
              "    <tr>\n",
              "      <th>3</th>\n",
              "      <td>5004</td>\n",
              "      <td>2019-03-11</td>\n",
              "      <td>119</td>\n",
              "      <td>1238</td>\n",
              "      <td>2</td>\n",
              "      <td>single</td>\n",
              "      <td>3</td>\n",
              "      <td>11.00</td>\n",
              "    </tr>\n",
              "    <tr>\n",
              "      <th>4</th>\n",
              "      <td>5005</td>\n",
              "      <td>2019-05-15</td>\n",
              "      <td>234</td>\n",
              "      <td>1524</td>\n",
              "      <td>1</td>\n",
              "      <td>single</td>\n",
              "      <td>1</td>\n",
              "      <td>19.00</td>\n",
              "    </tr>\n",
              "    <tr>\n",
              "      <th>5</th>\n",
              "      <td>5006</td>\n",
              "      <td>2019-05-27</td>\n",
              "      <td>101</td>\n",
              "      <td>1786</td>\n",
              "      <td>1</td>\n",
              "      <td>single</td>\n",
              "      <td>1</td>\n",
              "      <td>14.00</td>\n",
              "    </tr>\n",
              "  </tbody>\n",
              "</table>\n",
              "</div>"
            ],
            "text/plain": [
              "   booking_id booking_date  room_number  ...  room_type  nights arrival_time\n",
              "0        5001   2019-03-03          101  ...     single       7        13.00\n",
              "1        5002   2019-03-05          512  ...     double       4        10.00\n",
              "2        5003   2019-03-07          234  ...     family       2        17.00\n",
              "3        5004   2019-03-11          119  ...     single       3        11.00\n",
              "4        5005   2019-05-15          234  ...     single       1        19.00\n",
              "5        5006   2019-05-27          101  ...     single       1        14.00\n",
              "\n",
              "[6 rows x 8 columns]"
            ]
          },
          "metadata": {
            "tags": []
          },
          "execution_count": 3
        }
      ]
    },
    {
      "cell_type": "code",
      "metadata": {
        "id": "2Fy75dXNoC6u",
        "colab_type": "code",
        "colab": {}
      },
      "source": [
        "rate_dict = {'room_type':['single', 'single', 'double', 'double', 'family', 'family'], \n",
        "        'occupancy':[1, 2, 2, 3, 3, 4], \n",
        "        'amount':[50, 70, 100, 120, 150, 180]} \n",
        "rate = pd.DataFrame(rate_dict)"
      ],
      "execution_count": 0,
      "outputs": []
    },
    {
      "cell_type": "code",
      "metadata": {
        "id": "outGvjhOoC3C",
        "colab_type": "code",
        "outputId": "1e801214-0bcb-47a8-b300-d892de5465b3",
        "colab": {
          "base_uri": "https://localhost:8080/",
          "height": 225
        }
      },
      "source": [
        "rate"
      ],
      "execution_count": 0,
      "outputs": [
        {
          "output_type": "execute_result",
          "data": {
            "text/html": [
              "<div>\n",
              "<style scoped>\n",
              "    .dataframe tbody tr th:only-of-type {\n",
              "        vertical-align: middle;\n",
              "    }\n",
              "\n",
              "    .dataframe tbody tr th {\n",
              "        vertical-align: top;\n",
              "    }\n",
              "\n",
              "    .dataframe thead th {\n",
              "        text-align: right;\n",
              "    }\n",
              "</style>\n",
              "<table border=\"1\" class=\"dataframe\">\n",
              "  <thead>\n",
              "    <tr style=\"text-align: right;\">\n",
              "      <th></th>\n",
              "      <th>room_type</th>\n",
              "      <th>occupancy</th>\n",
              "      <th>amount</th>\n",
              "    </tr>\n",
              "  </thead>\n",
              "  <tbody>\n",
              "    <tr>\n",
              "      <th>0</th>\n",
              "      <td>single</td>\n",
              "      <td>1</td>\n",
              "      <td>50</td>\n",
              "    </tr>\n",
              "    <tr>\n",
              "      <th>1</th>\n",
              "      <td>single</td>\n",
              "      <td>2</td>\n",
              "      <td>70</td>\n",
              "    </tr>\n",
              "    <tr>\n",
              "      <th>2</th>\n",
              "      <td>double</td>\n",
              "      <td>2</td>\n",
              "      <td>100</td>\n",
              "    </tr>\n",
              "    <tr>\n",
              "      <th>3</th>\n",
              "      <td>double</td>\n",
              "      <td>3</td>\n",
              "      <td>120</td>\n",
              "    </tr>\n",
              "    <tr>\n",
              "      <th>4</th>\n",
              "      <td>family</td>\n",
              "      <td>3</td>\n",
              "      <td>150</td>\n",
              "    </tr>\n",
              "    <tr>\n",
              "      <th>5</th>\n",
              "      <td>family</td>\n",
              "      <td>4</td>\n",
              "      <td>180</td>\n",
              "    </tr>\n",
              "  </tbody>\n",
              "</table>\n",
              "</div>"
            ],
            "text/plain": [
              "  room_type  occupancy  amount\n",
              "0    single          1      50\n",
              "1    single          2      70\n",
              "2    double          2     100\n",
              "3    double          3     120\n",
              "4    family          3     150\n",
              "5    family          4     180"
            ]
          },
          "metadata": {
            "tags": []
          },
          "execution_count": 5
        }
      ]
    },
    {
      "cell_type": "code",
      "metadata": {
        "id": "hN3oyID3AUOh",
        "colab_type": "code",
        "colab": {}
      },
      "source": [
        "guest_dict ={'guest_id':[1027, 1179, 1106, 1238], 'First_name': ['Vinay', 'Kusum', 'Sharmishtha', 'Ishita'],\n",
        "            'Last_name':['Kumar', 'Verma', 'Tagor', 'Saxena']}\n",
        "guest = pd.DataFrame(guest_dict)"
      ],
      "execution_count": 0,
      "outputs": []
    },
    {
      "cell_type": "code",
      "metadata": {
        "id": "oxpNynrQAULq",
        "colab_type": "code",
        "outputId": "15f623a0-5eb7-4c73-c2de-3f6ea884ba29",
        "colab": {
          "base_uri": "https://localhost:8080/",
          "height": 166
        }
      },
      "source": [
        "guest"
      ],
      "execution_count": 0,
      "outputs": [
        {
          "output_type": "execute_result",
          "data": {
            "text/html": [
              "<div>\n",
              "<style scoped>\n",
              "    .dataframe tbody tr th:only-of-type {\n",
              "        vertical-align: middle;\n",
              "    }\n",
              "\n",
              "    .dataframe tbody tr th {\n",
              "        vertical-align: top;\n",
              "    }\n",
              "\n",
              "    .dataframe thead th {\n",
              "        text-align: right;\n",
              "    }\n",
              "</style>\n",
              "<table border=\"1\" class=\"dataframe\">\n",
              "  <thead>\n",
              "    <tr style=\"text-align: right;\">\n",
              "      <th></th>\n",
              "      <th>guest_id</th>\n",
              "      <th>First_name</th>\n",
              "      <th>Last_name</th>\n",
              "    </tr>\n",
              "  </thead>\n",
              "  <tbody>\n",
              "    <tr>\n",
              "      <th>0</th>\n",
              "      <td>1027</td>\n",
              "      <td>Vinay</td>\n",
              "      <td>Kumar</td>\n",
              "    </tr>\n",
              "    <tr>\n",
              "      <th>1</th>\n",
              "      <td>1179</td>\n",
              "      <td>Kusum</td>\n",
              "      <td>Verma</td>\n",
              "    </tr>\n",
              "    <tr>\n",
              "      <th>2</th>\n",
              "      <td>1106</td>\n",
              "      <td>Sharmishtha</td>\n",
              "      <td>Tagor</td>\n",
              "    </tr>\n",
              "    <tr>\n",
              "      <th>3</th>\n",
              "      <td>1238</td>\n",
              "      <td>Ishita</td>\n",
              "      <td>Saxena</td>\n",
              "    </tr>\n",
              "  </tbody>\n",
              "</table>\n",
              "</div>"
            ],
            "text/plain": [
              "   guest_id   First_name Last_name\n",
              "0      1027        Vinay     Kumar\n",
              "1      1179        Kusum     Verma\n",
              "2      1106  Sharmishtha     Tagor\n",
              "3      1238       Ishita    Saxena"
            ]
          },
          "metadata": {
            "tags": []
          },
          "execution_count": 7
        }
      ]
    },
    {
      "cell_type": "code",
      "metadata": {
        "id": "3O8sycOLHNJ2",
        "colab_type": "code",
        "outputId": "318b6d1d-6ad1-4c17-c258-b8bedefad86a",
        "colab": {
          "base_uri": "https://localhost:8080/",
          "height": 166
        }
      },
      "source": [
        "#Give First name Last name of guests\n",
        "f1 = pd.merge(booking, guest, on='guest_id', how='right')\n",
        "f1"
      ],
      "execution_count": 0,
      "outputs": [
        {
          "output_type": "execute_result",
          "data": {
            "text/html": [
              "<div>\n",
              "<style scoped>\n",
              "    .dataframe tbody tr th:only-of-type {\n",
              "        vertical-align: middle;\n",
              "    }\n",
              "\n",
              "    .dataframe tbody tr th {\n",
              "        vertical-align: top;\n",
              "    }\n",
              "\n",
              "    .dataframe thead th {\n",
              "        text-align: right;\n",
              "    }\n",
              "</style>\n",
              "<table border=\"1\" class=\"dataframe\">\n",
              "  <thead>\n",
              "    <tr style=\"text-align: right;\">\n",
              "      <th></th>\n",
              "      <th>booking_id</th>\n",
              "      <th>booking_date</th>\n",
              "      <th>room_number</th>\n",
              "      <th>guest_id</th>\n",
              "      <th>occupants</th>\n",
              "      <th>room_type</th>\n",
              "      <th>nights</th>\n",
              "      <th>arrival_time</th>\n",
              "      <th>First_name</th>\n",
              "      <th>Last_name</th>\n",
              "    </tr>\n",
              "  </thead>\n",
              "  <tbody>\n",
              "    <tr>\n",
              "      <th>0</th>\n",
              "      <td>5001</td>\n",
              "      <td>2019-03-03</td>\n",
              "      <td>101</td>\n",
              "      <td>1027</td>\n",
              "      <td>1</td>\n",
              "      <td>single</td>\n",
              "      <td>7</td>\n",
              "      <td>13.00</td>\n",
              "      <td>Vinay</td>\n",
              "      <td>Kumar</td>\n",
              "    </tr>\n",
              "    <tr>\n",
              "      <th>1</th>\n",
              "      <td>5002</td>\n",
              "      <td>2019-03-05</td>\n",
              "      <td>512</td>\n",
              "      <td>1179</td>\n",
              "      <td>2</td>\n",
              "      <td>double</td>\n",
              "      <td>4</td>\n",
              "      <td>10.00</td>\n",
              "      <td>Kusum</td>\n",
              "      <td>Verma</td>\n",
              "    </tr>\n",
              "    <tr>\n",
              "      <th>2</th>\n",
              "      <td>5003</td>\n",
              "      <td>2019-03-07</td>\n",
              "      <td>234</td>\n",
              "      <td>1106</td>\n",
              "      <td>4</td>\n",
              "      <td>family</td>\n",
              "      <td>2</td>\n",
              "      <td>17.00</td>\n",
              "      <td>Sharmishtha</td>\n",
              "      <td>Tagor</td>\n",
              "    </tr>\n",
              "    <tr>\n",
              "      <th>3</th>\n",
              "      <td>5004</td>\n",
              "      <td>2019-03-11</td>\n",
              "      <td>119</td>\n",
              "      <td>1238</td>\n",
              "      <td>2</td>\n",
              "      <td>single</td>\n",
              "      <td>3</td>\n",
              "      <td>11.00</td>\n",
              "      <td>Ishita</td>\n",
              "      <td>Saxena</td>\n",
              "    </tr>\n",
              "  </tbody>\n",
              "</table>\n",
              "</div>"
            ],
            "text/plain": [
              "   booking_id booking_date  room_number  ...  arrival_time   First_name Last_name\n",
              "0        5001   2019-03-03          101  ...         13.00        Vinay     Kumar\n",
              "1        5002   2019-03-05          512  ...         10.00        Kusum     Verma\n",
              "2        5003   2019-03-07          234  ...         17.00  Sharmishtha     Tagor\n",
              "3        5004   2019-03-11          119  ...         11.00       Ishita    Saxena\n",
              "\n",
              "[4 rows x 10 columns]"
            ]
          },
          "metadata": {
            "tags": []
          },
          "execution_count": 8
        }
      ]
    },
    {
      "cell_type": "code",
      "metadata": {
        "id": "xSHqzoEFHNbH",
        "colab_type": "code",
        "outputId": "e69442ca-d3b4-4538-a25b-e8e3529d586e",
        "colab": {
          "base_uri": "https://localhost:8080/",
          "height": 225
        }
      },
      "source": [
        "f2 = pd.merge(booking, guest, on='guest_id', how='left')\n",
        "f2"
      ],
      "execution_count": 0,
      "outputs": [
        {
          "output_type": "execute_result",
          "data": {
            "text/html": [
              "<div>\n",
              "<style scoped>\n",
              "    .dataframe tbody tr th:only-of-type {\n",
              "        vertical-align: middle;\n",
              "    }\n",
              "\n",
              "    .dataframe tbody tr th {\n",
              "        vertical-align: top;\n",
              "    }\n",
              "\n",
              "    .dataframe thead th {\n",
              "        text-align: right;\n",
              "    }\n",
              "</style>\n",
              "<table border=\"1\" class=\"dataframe\">\n",
              "  <thead>\n",
              "    <tr style=\"text-align: right;\">\n",
              "      <th></th>\n",
              "      <th>booking_id</th>\n",
              "      <th>booking_date</th>\n",
              "      <th>room_number</th>\n",
              "      <th>guest_id</th>\n",
              "      <th>occupants</th>\n",
              "      <th>room_type</th>\n",
              "      <th>nights</th>\n",
              "      <th>arrival_time</th>\n",
              "      <th>First_name</th>\n",
              "      <th>Last_name</th>\n",
              "    </tr>\n",
              "  </thead>\n",
              "  <tbody>\n",
              "    <tr>\n",
              "      <th>0</th>\n",
              "      <td>5001</td>\n",
              "      <td>2019-03-03</td>\n",
              "      <td>101</td>\n",
              "      <td>1027</td>\n",
              "      <td>1</td>\n",
              "      <td>single</td>\n",
              "      <td>7</td>\n",
              "      <td>13.00</td>\n",
              "      <td>Vinay</td>\n",
              "      <td>Kumar</td>\n",
              "    </tr>\n",
              "    <tr>\n",
              "      <th>1</th>\n",
              "      <td>5002</td>\n",
              "      <td>2019-03-05</td>\n",
              "      <td>512</td>\n",
              "      <td>1179</td>\n",
              "      <td>2</td>\n",
              "      <td>double</td>\n",
              "      <td>4</td>\n",
              "      <td>10.00</td>\n",
              "      <td>Kusum</td>\n",
              "      <td>Verma</td>\n",
              "    </tr>\n",
              "    <tr>\n",
              "      <th>2</th>\n",
              "      <td>5003</td>\n",
              "      <td>2019-03-07</td>\n",
              "      <td>234</td>\n",
              "      <td>1106</td>\n",
              "      <td>4</td>\n",
              "      <td>family</td>\n",
              "      <td>2</td>\n",
              "      <td>17.00</td>\n",
              "      <td>Sharmishtha</td>\n",
              "      <td>Tagor</td>\n",
              "    </tr>\n",
              "    <tr>\n",
              "      <th>3</th>\n",
              "      <td>5004</td>\n",
              "      <td>2019-03-11</td>\n",
              "      <td>119</td>\n",
              "      <td>1238</td>\n",
              "      <td>2</td>\n",
              "      <td>single</td>\n",
              "      <td>3</td>\n",
              "      <td>11.00</td>\n",
              "      <td>Ishita</td>\n",
              "      <td>Saxena</td>\n",
              "    </tr>\n",
              "    <tr>\n",
              "      <th>4</th>\n",
              "      <td>5005</td>\n",
              "      <td>2019-05-15</td>\n",
              "      <td>234</td>\n",
              "      <td>1524</td>\n",
              "      <td>1</td>\n",
              "      <td>single</td>\n",
              "      <td>1</td>\n",
              "      <td>19.00</td>\n",
              "      <td>NaN</td>\n",
              "      <td>NaN</td>\n",
              "    </tr>\n",
              "    <tr>\n",
              "      <th>5</th>\n",
              "      <td>5006</td>\n",
              "      <td>2019-05-27</td>\n",
              "      <td>101</td>\n",
              "      <td>1786</td>\n",
              "      <td>1</td>\n",
              "      <td>single</td>\n",
              "      <td>1</td>\n",
              "      <td>14.00</td>\n",
              "      <td>NaN</td>\n",
              "      <td>NaN</td>\n",
              "    </tr>\n",
              "  </tbody>\n",
              "</table>\n",
              "</div>"
            ],
            "text/plain": [
              "   booking_id booking_date  room_number  ...  arrival_time   First_name Last_name\n",
              "0        5001   2019-03-03          101  ...         13.00        Vinay     Kumar\n",
              "1        5002   2019-03-05          512  ...         10.00        Kusum     Verma\n",
              "2        5003   2019-03-07          234  ...         17.00  Sharmishtha     Tagor\n",
              "3        5004   2019-03-11          119  ...         11.00       Ishita    Saxena\n",
              "4        5005   2019-05-15          234  ...         19.00          NaN       NaN\n",
              "5        5006   2019-05-27          101  ...         14.00          NaN       NaN\n",
              "\n",
              "[6 rows x 10 columns]"
            ]
          },
          "metadata": {
            "tags": []
          },
          "execution_count": 9
        }
      ]
    },
    {
      "cell_type": "code",
      "metadata": {
        "id": "Lj_XTnBG7RSA",
        "colab_type": "code",
        "outputId": "54d4060d-3a94-4b4f-c19d-0674acd0dd5f",
        "colab": {
          "base_uri": "https://localhost:8080/",
          "height": 77
        }
      },
      "source": [
        "#Give the booking_date and the number of nights for guest 1238.\n",
        "booking.query('guest_id == 1238').loc[:,['booking_date', 'nights']]"
      ],
      "execution_count": 0,
      "outputs": [
        {
          "output_type": "execute_result",
          "data": {
            "text/html": [
              "<div>\n",
              "<style scoped>\n",
              "    .dataframe tbody tr th:only-of-type {\n",
              "        vertical-align: middle;\n",
              "    }\n",
              "\n",
              "    .dataframe tbody tr th {\n",
              "        vertical-align: top;\n",
              "    }\n",
              "\n",
              "    .dataframe thead th {\n",
              "        text-align: right;\n",
              "    }\n",
              "</style>\n",
              "<table border=\"1\" class=\"dataframe\">\n",
              "  <thead>\n",
              "    <tr style=\"text-align: right;\">\n",
              "      <th></th>\n",
              "      <th>booking_date</th>\n",
              "      <th>nights</th>\n",
              "    </tr>\n",
              "  </thead>\n",
              "  <tbody>\n",
              "    <tr>\n",
              "      <th>3</th>\n",
              "      <td>2019-03-11</td>\n",
              "      <td>3</td>\n",
              "    </tr>\n",
              "  </tbody>\n",
              "</table>\n",
              "</div>"
            ],
            "text/plain": [
              "  booking_date  nights\n",
              "3   2019-03-11       3"
            ]
          },
          "metadata": {
            "tags": []
          },
          "execution_count": 10
        }
      ]
    },
    {
      "cell_type": "code",
      "metadata": {
        "id": "uBwEi5-A8s6G",
        "colab_type": "code",
        "outputId": "94fa68c7-22cc-4366-94ce-5ce27e5f87c1",
        "colab": {
          "base_uri": "https://localhost:8080/",
          "height": 225
        }
      },
      "source": [
        "#Give the booking_date and the number of nights for guest 1238.\n",
        "booking.loc[:,['booking_date', 'nights']].where(booking['guest_id']==1238)"
      ],
      "execution_count": 0,
      "outputs": [
        {
          "output_type": "execute_result",
          "data": {
            "text/html": [
              "<div>\n",
              "<style scoped>\n",
              "    .dataframe tbody tr th:only-of-type {\n",
              "        vertical-align: middle;\n",
              "    }\n",
              "\n",
              "    .dataframe tbody tr th {\n",
              "        vertical-align: top;\n",
              "    }\n",
              "\n",
              "    .dataframe thead th {\n",
              "        text-align: right;\n",
              "    }\n",
              "</style>\n",
              "<table border=\"1\" class=\"dataframe\">\n",
              "  <thead>\n",
              "    <tr style=\"text-align: right;\">\n",
              "      <th></th>\n",
              "      <th>booking_date</th>\n",
              "      <th>nights</th>\n",
              "    </tr>\n",
              "  </thead>\n",
              "  <tbody>\n",
              "    <tr>\n",
              "      <th>0</th>\n",
              "      <td>NaN</td>\n",
              "      <td>NaN</td>\n",
              "    </tr>\n",
              "    <tr>\n",
              "      <th>1</th>\n",
              "      <td>NaN</td>\n",
              "      <td>NaN</td>\n",
              "    </tr>\n",
              "    <tr>\n",
              "      <th>2</th>\n",
              "      <td>NaN</td>\n",
              "      <td>NaN</td>\n",
              "    </tr>\n",
              "    <tr>\n",
              "      <th>3</th>\n",
              "      <td>2019-03-11</td>\n",
              "      <td>3.0</td>\n",
              "    </tr>\n",
              "    <tr>\n",
              "      <th>4</th>\n",
              "      <td>NaN</td>\n",
              "      <td>NaN</td>\n",
              "    </tr>\n",
              "    <tr>\n",
              "      <th>5</th>\n",
              "      <td>NaN</td>\n",
              "      <td>NaN</td>\n",
              "    </tr>\n",
              "  </tbody>\n",
              "</table>\n",
              "</div>"
            ],
            "text/plain": [
              "  booking_date  nights\n",
              "0          NaN     NaN\n",
              "1          NaN     NaN\n",
              "2          NaN     NaN\n",
              "3   2019-03-11     3.0\n",
              "4          NaN     NaN\n",
              "5          NaN     NaN"
            ]
          },
          "metadata": {
            "tags": []
          },
          "execution_count": 11
        }
      ]
    },
    {
      "cell_type": "markdown",
      "metadata": {
        "id": "_bWbTGTCPt27",
        "colab_type": "text"
      },
      "source": [
        "# Delete"
      ]
    },
    {
      "cell_type": "code",
      "metadata": {
        "id": "rN04hjF-Pvgd",
        "colab_type": "code",
        "colab": {}
      },
      "source": [
        ""
      ],
      "execution_count": 0,
      "outputs": []
    },
    {
      "cell_type": "code",
      "metadata": {
        "id": "_tJnrJk9WtiI",
        "colab_type": "code",
        "colab": {}
      },
      "source": [
        ""
      ],
      "execution_count": 0,
      "outputs": []
    },
    {
      "cell_type": "code",
      "metadata": {
        "id": "DrnLaEb6WtlM",
        "colab_type": "code",
        "colab": {}
      },
      "source": [
        ""
      ],
      "execution_count": 0,
      "outputs": []
    }
  ]
}